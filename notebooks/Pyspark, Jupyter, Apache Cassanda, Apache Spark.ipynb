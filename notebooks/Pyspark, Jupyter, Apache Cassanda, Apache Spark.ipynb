{
 "cells": [
  {
   "cell_type": "markdown",
   "metadata": {},
   "source": [
    "# Installing Apache Cassandra, Apache Spark, Pyspark with Jupyter Notebooks\n",
    "------\n",
    "<img src=\"images/openSourceLong.png\" width=\"600\" height=\"400\">\n",
    "\n",
    "NOTE: On a one node Mac or Linux machine only!!"
   ]
  },
  {
   "cell_type": "markdown",
   "metadata": {},
   "source": [
    "### Install Apache Cassandra\n",
    "<img src=\"images/cassandralogo.png\" width=\"200\" height=\"200\">\n",
    "\n",
    "* Download bits: http://cassandra.apache.org/download/\n",
    "* Untar and Start: http://cassandra.apache.org/doc/latest/getting_started/installing.html\n",
    "\n",
    "All defaults, for more information on on configuration ... TODO\n",
    "\n",
    "* Create a keyspace and a table with cqlsh\n",
    "\n",
    "```\n",
    "\n",
    "CREATE KEYSPACE IF NOT EXISTS test \n",
    "    WITH REPLICATION = \n",
    "    { 'class' : 'SimpleStrategy', 'replication_factor' : 1 };\n",
    "    \n",
    "CREATE TABLE IF NOT EXISTS testing123 (id int, name text, city text, PRIMARY KEY (id));\n",
    "\n",
    "INSERT INTO testing123 (id, name, city) VALUES (1, 'Amanda', 'Bay Area');\n",
    "INSERT INTO testing123 (id, name, city) VALUES (2, 'Toby', 'NYC');\n",
    "\n",
    "```\n",
    "\n",
    "<img src=\"images/cqlshCode.png\" width=\"600\" height=\"400\">"
   ]
  },
  {
   "cell_type": "markdown",
   "metadata": {},
   "source": [
    "## Install Apache Spark in Standalone Mode\n",
    "<img src=\"images/sparklogo.png\" width=\"200\" height=\"200\">\n",
    "* Download: https://spark.apache.org/downloads.html\n",
    "* Install and Start: https://spark.apache.org/docs/latest/spark-standalone.html#installing-spark-standalone-to-a-cluster\n",
    "**NOTE:** Before starting Spark do the following: \n",
    "\n",
    "```\n",
    "\n",
    "cd $SPARK_HOME/conf\n",
    "vim spark-defaults.conf\n",
    "\n",
    "```\n",
    "\n",
    "<img src=\"images/sparkConf.png\" width=\"600\" height=\"400\">\n"
   ]
  },
  {
   "cell_type": "markdown",
   "metadata": {},
   "source": [
    "## Information about the Apache Spark Connector \n",
    "\n",
    "* Note: Just working with PySpark in this case, and only DataFrames are availble. \n",
    "\n",
    "* https://github.com/datastax/spark-cassandra-connector/blob/master/doc/15_python.md\n",
    "\n",
    "* https://spark-packages.org/package/datastax/spark-cassandra-connector\n",
    "\n",
    "* Test the connection out first before moving on to Jupyter \n",
    "\n",
    "```\n",
    "./bin/pyspark\n",
    "\n",
    "#Create a dataframe from a table that we created above\n",
    "\n",
    "spark.read.format('org.apache.spark.sql.cassandra').options(table='testing123', keyspace='test').load().show()\n",
    "```\n",
    "\n",
    "\n",
    "<img src=\"images/sparkConnection.png\" width=\"600\" height=\"400\">\n",
    "\n"
   ]
  },
  {
   "cell_type": "markdown",
   "metadata": {},
   "source": [
    "## Start Jupyter with PySpark (assums you have Jupyter Installed)\n",
    "\n",
    "```\n",
    "\n",
    "cd spark-2.3.0-bin-hadoop2.7\n",
    "export PYSPARK_DRIVER_PYTHON=jupyter\n",
    "export PYSPARK_DRIVER_PYTHON_OPTS='notebook'\n",
    "SPARK_LOCAL_IP=127.0.0.1 ./bin/pyspark\n",
    "\n",
    "```\n",
    "* These commands will launch Jupyter Notebooks on localhost:8888, the downside is if you have exisiting notebooks you won't be able to navigate to them... but just copy them here ... Not the best solution but it will do to be able to use all these pieces together! \n",
    "\n",
    "\n",
    "* Reference: https://medium.com/explore-artificial-intelligence/downloading-spark-and-getting-started-with-python-notebooks-jupyter-locally-on-a-single-computer-98a76236f8c1"
   ]
  },
  {
   "cell_type": "markdown",
   "metadata": {},
   "source": [
    "#### References \n",
    "\n",
    "https://medium.com/explore-artificial-intelligence/downloading-spark-and-getting-started-with-python-notebooks-jupyter-locally-on-a-single-computer-98a76236f8c1"
   ]
  },
  {
   "cell_type": "code",
   "execution_count": null,
   "metadata": {},
   "outputs": [],
   "source": []
  }
 ],
 "metadata": {
  "kernelspec": {
   "display_name": "Python 3",
   "language": "python",
   "name": "python3"
  },
  "language_info": {
   "codemirror_mode": {
    "name": "ipython",
    "version": 3
   },
   "file_extension": ".py",
   "mimetype": "text/x-python",
   "name": "python",
   "nbconvert_exporter": "python",
   "pygments_lexer": "ipython3",
   "version": "3.7.0"
  }
 },
 "nbformat": 4,
 "nbformat_minor": 2
}
