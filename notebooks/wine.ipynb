{
 "cells": [
  {
   "cell_type": "markdown",
   "metadata": {},
   "source": [
    "# Classification and Clustering Algorithms paired with Wine and Chocolate\n",
    "------\n",
    "<img src=\"images/wineAndChocolate.jpg\" width=\"500\" height=\"500\">\n",
    "\n",
    "## A demo using DataStax Enterprise Analytics, Apache Cassandra, Apache Spark, Python, Jupyter Notebooks, Spark MlLib, and KMeans \n",
    "\n",
    "#### Real Dataset: https://archive.ics.uci.edu/ml/datasets/wine"
   ]
  },
  {
   "cell_type": "markdown",
   "metadata": {},
   "source": [
    "## What are we trying to learn from this dataset? \n",
    "\n",
    "# QUESTION:  Using qualities of a wine, can it's vineyard be determined? (Can we find it's \"cluster\"?)\n"
   ]
  },
  {
   "cell_type": "markdown",
   "metadata": {},
   "source": [
    "## Import python packages -- all are required\n",
    "* Need to tell Jupyter to display with %matplotlib otherwise you will generate the plot but not display it"
   ]
  },
  {
   "cell_type": "code",
   "execution_count": 1,
   "metadata": {},
   "outputs": [],
   "source": [
    "%matplotlib inline\n",
    "import matplotlib.pyplot as plt"
   ]
  },
  {
   "cell_type": "code",
   "execution_count": 2,
   "metadata": {},
   "outputs": [],
   "source": [
    "import os\n",
    "os.environ['PYSPARK_SUBMIT_ARGS'] = '--packages com.datastax.spark:spark-cassandra-connector_2.11:2.3.2 pyspark-shell'"
   ]
  },
  {
   "cell_type": "code",
   "execution_count": 3,
   "metadata": {},
   "outputs": [],
   "source": [
    "import pandas\n",
    "import cassandra\n",
    "import pyspark\n",
    "import re\n",
    "import os\n",
    "import matplotlib.pyplot as plt\n",
    "from IPython.display import display, Markdown\n",
    "from pyspark.sql import SparkSession\n",
    "from pyspark.ml.linalg import Vectors\n",
    "from pyspark.ml.feature import VectorAssembler\n",
    "from pyspark.ml.clustering import KMeans"
   ]
  },
  {
   "cell_type": "markdown",
   "metadata": {},
   "source": [
    "#### Helper function to have nicer formatting of Spark DataFrames"
   ]
  },
  {
   "cell_type": "code",
   "execution_count": 4,
   "metadata": {},
   "outputs": [],
   "source": [
    "#Helper for pretty formatting for Spark DataFrames\n",
    "def showDF(df, limitRows =  5, truncate = True):\n",
    "    if(truncate):\n",
    "        pandas.set_option('display.max_colwidth', 50)\n",
    "    else:\n",
    "        pandas.set_option('display.max_colwidth', -1)\n",
    "    pandas.set_option('display.max_rows', limitRows)\n",
    "    display(df.limit(limitRows).toPandas())\n",
    "    pandas.reset_option('display.max_rows')"
   ]
  },
  {
   "cell_type": "markdown",
   "metadata": {},
   "source": [
    "# DataStax Enterprise Analytics\n",
    "<img src=\"images/dselogo.png\" width=\"400\" height=\"200\">"
   ]
  },
  {
   "cell_type": "markdown",
   "metadata": {},
   "source": [
    "## Creating Tables and Loading Tables"
   ]
  },
  {
   "cell_type": "markdown",
   "metadata": {},
   "source": [
    "### Connect to DSE Analytics Cluster"
   ]
  },
  {
   "cell_type": "code",
   "execution_count": 5,
   "metadata": {},
   "outputs": [],
   "source": [
    "from cassandra.cluster import Cluster\n",
    "\n",
    "cluster = Cluster(['127.0.01'])\n",
    "session = cluster.connect()"
   ]
  },
  {
   "cell_type": "markdown",
   "metadata": {},
   "source": [
    "### Create Demo Keyspace "
   ]
  },
  {
   "cell_type": "code",
   "execution_count": 6,
   "metadata": {},
   "outputs": [
    {
     "data": {
      "text/plain": [
       "<cassandra.cluster.ResultSet at 0x116b91c50>"
      ]
     },
     "execution_count": 6,
     "metadata": {},
     "output_type": "execute_result"
    }
   ],
   "source": [
    "session.execute(\"\"\"\n",
    "    CREATE KEYSPACE IF NOT EXISTS wineChocolate \n",
    "    WITH REPLICATION = \n",
    "    { 'class' : 'SimpleStrategy', 'replication_factor' : 1 }\"\"\"\n",
    ")"
   ]
  },
  {
   "cell_type": "markdown",
   "metadata": {},
   "source": [
    "### Set keyspace "
   ]
  },
  {
   "cell_type": "code",
   "execution_count": 7,
   "metadata": {},
   "outputs": [],
   "source": [
    "session.set_keyspace('winechocolate')"
   ]
  },
  {
   "cell_type": "markdown",
   "metadata": {},
   "source": [
    "### Create table called wine. Our PRIMARY will be a unique key (wineid) we generate for each row. This will result in an even distribution of the data but we will have to utilize that PRIMARY KEY in our WHERE clause in any of our CQL queries. "
   ]
  },
  {
   "cell_type": "code",
   "execution_count": 8,
   "metadata": {},
   "outputs": [
    {
     "data": {
      "text/plain": [
       "<cassandra.cluster.ResultSet at 0x1162d6320>"
      ]
     },
     "execution_count": 8,
     "metadata": {},
     "output_type": "execute_result"
    }
   ],
   "source": [
    "query = \"CREATE TABLE IF NOT EXISTS wine \\\n",
    "                                   (wineid int, cluster int, alcohol float, malic_acid float, \\\n",
    "                                   ash float, alcalinity_ash float, magnesium float, total_phenols float, \\\n",
    "                                   flavanoids float, nonflavanoid_phenols float, proanthocyains float, \\\n",
    "                                   color_intensity float, hue float, protein float, proline float, \\\n",
    "                                   PRIMARY KEY (wineId))\"\n",
    "session.execute(query)\n"
   ]
  },
  {
   "cell_type": "markdown",
   "metadata": {},
   "source": [
    "### What do these of these 15 columns represent: \n",
    "\n",
    "* **Wineid**: Unique key created for each wine\n",
    "\n",
    "* **Cluster**: Which vineyard this wine belongs to -- And what we will be using Kmeans to determine 1-3\n",
    "\n",
    "* **Alcohol**: alcohol content, reported in units of ABV (alcohol by volume).\n",
    "\n",
    "* **Malic acid**: one of the principal organic acids found in wine. Although found in nearly every fruit and berry, it’s flavor is most prominent in green apples; likewise, it projects this sour flavor into wine. For more information, feel free to read about acids in wine.\n",
    "\n",
    "* **Ash**: yep, wine has ash in it. Ash is simply the inorganic matter left after evaporation and incineration.\n",
    "\n",
    "* **Alcalinity of ash**: the alkalinity of ash determines how basic (as opposed to acidic) the ash in a wine is.\n",
    "\n",
    "* **Magnesium**: magnesium is a metal that affects the flavor of wine.\n",
    "\n",
    "* **Total phenols**: Phenols are chemicals that affect the taste, color, and mouthfeel (i.e., texture) of wine. For some (very) in-depth information about phenols, we refer you to phenolic content in wine.\n",
    "\n",
    "* **Flavoids** : flavonoids are a type of phenol.\n",
    "\n",
    "* **Nonflavoid phenols**: nonflavonoids are another type of phenol.\n",
    "\n",
    "* **Proanthocyanins**: proanthocyanidins are yet another type of phenol.\n",
    "\n",
    "* **Color intensity**: the color intensity of a wine: i.e., how dark it is.\n",
    "\n",
    "* **Hue**: the hue of a wine, which is typically determined by the color of the cultivar used (although this is not always the case).\n",
    "\n",
    "* **Protein**: protein content measurements. --Renamed to protein \n",
    "\n",
    "* **Proline**: an amino acid present in wines.\n",
    "\n",
    "Reference: https://cs.brown.edu/courses/cs100/homework/homework-3-part-ii/"
   ]
  },
  {
   "cell_type": "markdown",
   "metadata": {},
   "source": [
    "### Load Wine Dataset\n",
    "<img src=\"images/wines.jpeg\" width=\"300\" height=\"300\">"
   ]
  },
  {
   "cell_type": "markdown",
   "metadata": {},
   "source": [
    "### Load Wine dataset from CSV file (wine.csv)\n",
    "* No clean up was requried! How nice :)\n",
    "\n",
    "#### Insert all the Wine Data into the Apache Cassandra table `wine`"
   ]
  },
  {
   "cell_type": "code",
   "execution_count": 9,
   "metadata": {},
   "outputs": [],
   "source": [
    "fileName = 'data/wine.csv'\n",
    "input_file = open(fileName, 'r')\n",
    "i = 1\n",
    "for line in input_file:\n",
    "    wineId = i\n",
    "    tweets = line.split(',')\n",
    "    query = \"INSERT INTO wine (wineid, cluster, alcohol, malic_acid, ash, alcalinity_ash, \\\n",
    "                               magnesium, total_phenols, flavanoids, nonflavanoid_phenols, \\\n",
    "                               proanthocyains, color_intensity, hue, protein, proline)\"\n",
    "    query = query + \" VALUES (%s, %s, %s, %s, %s, %s, %s, %s, %s, %s, %s, %s, %s, %s, %s)\"\n",
    "    session.execute(query, (wineId, int(tweets[0]), float(tweets[1]), float(tweets[2]), float(tweets[3]), \n",
    "                    float(tweets[4]), float(tweets[5]), float(tweets[6]), float(tweets[7]), float(tweets[8]),\n",
    "                    float(tweets[9]), float(tweets[10]), float(tweets[11]), float(tweets[12]), float(tweets[13])))\n",
    "    i = i + 1"
   ]
  },
  {
   "cell_type": "markdown",
   "metadata": {},
   "source": [
    "#### Do a select * on wine WHERE wineid = x to verify that data was loaded into the table"
   ]
  },
  {
   "cell_type": "code",
   "execution_count": 10,
   "metadata": {
    "scrolled": true
   },
   "outputs": [
    {
     "name": "stdout",
     "output_type": "stream",
     "text": [
      "150 3 13.079999923706055 3.9000000953674316 2.359999895095825 21.5 113.0 1.409999966621399 1.3899999856948853 0.3400000035762787 1.1399999856948853 9.399999618530273 0.5699999928474426 1.3300000429153442 550.0\n"
     ]
    }
   ],
   "source": [
    "query = 'SELECT * FROM wine WHERE wineid = 150'\n",
    "rows = session.execute(query)\n",
    "for row in rows:\n",
    "    print (row.wineid, row.cluster, row.alcohol, row.malic_acid, row.ash, row.alcalinity_ash,\n",
    "           row.magnesium, row.total_phenols, row.flavanoids, row.nonflavanoid_phenols,\n",
    "           row.proanthocyains, row.color_intensity, row.hue, row.protein, row.proline)"
   ]
  },
  {
   "cell_type": "markdown",
   "metadata": {},
   "source": [
    "## DSE Analytics with Apache Spark\n",
    "<img src=\"images/sparklogo.png\" width=\"150\" height=\"200\">"
   ]
  },
  {
   "cell_type": "markdown",
   "metadata": {},
   "source": [
    "### Finally time for Apache Spark! "
   ]
  },
  {
   "cell_type": "markdown",
   "metadata": {},
   "source": [
    "#### Create a spark session that is connected to Cassandra. From there load each table into a Spark Dataframe and take a count of the number of rows in each."
   ]
  },
  {
   "cell_type": "code",
   "execution_count": 11,
   "metadata": {},
   "outputs": [
    {
     "name": "stdout",
     "output_type": "stream",
     "text": [
      "Table Row Count: \n",
      "178\n"
     ]
    }
   ],
   "source": [
    "spark = SparkSession.builder.appName('demo').master(\"local\").getOrCreate()\n",
    "\n",
    "\n",
    "wineTable = spark.read.format(\"org.apache.spark.sql.cassandra\").options(table=\"wine\", keyspace=\"winechocolate\").load()\n",
    "\n",
    "print (\"Table Row Count: \")\n",
    "print (wineTable.count())"
   ]
  },
  {
   "cell_type": "code",
   "execution_count": 12,
   "metadata": {},
   "outputs": [
    {
     "data": {
      "text/html": [
       "<div>\n",
       "<style scoped>\n",
       "    .dataframe tbody tr th:only-of-type {\n",
       "        vertical-align: middle;\n",
       "    }\n",
       "\n",
       "    .dataframe tbody tr th {\n",
       "        vertical-align: top;\n",
       "    }\n",
       "\n",
       "    .dataframe thead th {\n",
       "        text-align: right;\n",
       "    }\n",
       "</style>\n",
       "<table border=\"1\" class=\"dataframe\">\n",
       "  <thead>\n",
       "    <tr style=\"text-align: right;\">\n",
       "      <th></th>\n",
       "      <th>wineid</th>\n",
       "      <th>alcalinity_ash</th>\n",
       "      <th>alcohol</th>\n",
       "      <th>ash</th>\n",
       "      <th>cluster</th>\n",
       "      <th>color_intensity</th>\n",
       "      <th>flavanoids</th>\n",
       "      <th>hue</th>\n",
       "      <th>magnesium</th>\n",
       "      <th>malic_acid</th>\n",
       "      <th>nonflavanoid_phenols</th>\n",
       "      <th>proanthocyains</th>\n",
       "      <th>proline</th>\n",
       "      <th>protein</th>\n",
       "      <th>total_phenols</th>\n",
       "    </tr>\n",
       "  </thead>\n",
       "  <tbody>\n",
       "    <tr>\n",
       "      <th>0</th>\n",
       "      <td>4</td>\n",
       "      <td>16.799999</td>\n",
       "      <td>14.37</td>\n",
       "      <td>2.50</td>\n",
       "      <td>1</td>\n",
       "      <td>7.8</td>\n",
       "      <td>3.49</td>\n",
       "      <td>0.86</td>\n",
       "      <td>113.0</td>\n",
       "      <td>1.95</td>\n",
       "      <td>0.24</td>\n",
       "      <td>2.18</td>\n",
       "      <td>1480.0</td>\n",
       "      <td>3.45</td>\n",
       "      <td>3.85</td>\n",
       "    </tr>\n",
       "    <tr>\n",
       "      <th>1</th>\n",
       "      <td>18</td>\n",
       "      <td>20.000000</td>\n",
       "      <td>13.83</td>\n",
       "      <td>2.62</td>\n",
       "      <td>1</td>\n",
       "      <td>6.6</td>\n",
       "      <td>3.40</td>\n",
       "      <td>1.13</td>\n",
       "      <td>115.0</td>\n",
       "      <td>1.57</td>\n",
       "      <td>0.40</td>\n",
       "      <td>1.72</td>\n",
       "      <td>1130.0</td>\n",
       "      <td>2.57</td>\n",
       "      <td>2.95</td>\n",
       "    </tr>\n",
       "    <tr>\n",
       "      <th>2</th>\n",
       "      <td>177</td>\n",
       "      <td>20.000000</td>\n",
       "      <td>13.17</td>\n",
       "      <td>2.37</td>\n",
       "      <td>3</td>\n",
       "      <td>9.3</td>\n",
       "      <td>0.68</td>\n",
       "      <td>0.60</td>\n",
       "      <td>120.0</td>\n",
       "      <td>2.59</td>\n",
       "      <td>0.53</td>\n",
       "      <td>1.46</td>\n",
       "      <td>840.0</td>\n",
       "      <td>1.62</td>\n",
       "      <td>1.65</td>\n",
       "    </tr>\n",
       "    <tr>\n",
       "      <th>3</th>\n",
       "      <td>51</td>\n",
       "      <td>12.400000</td>\n",
       "      <td>13.05</td>\n",
       "      <td>2.04</td>\n",
       "      <td>1</td>\n",
       "      <td>7.2</td>\n",
       "      <td>3.27</td>\n",
       "      <td>1.12</td>\n",
       "      <td>92.0</td>\n",
       "      <td>1.73</td>\n",
       "      <td>0.17</td>\n",
       "      <td>2.91</td>\n",
       "      <td>1150.0</td>\n",
       "      <td>2.91</td>\n",
       "      <td>2.72</td>\n",
       "    </tr>\n",
       "    <tr>\n",
       "      <th>4</th>\n",
       "      <td>47</td>\n",
       "      <td>16.000000</td>\n",
       "      <td>14.38</td>\n",
       "      <td>2.28</td>\n",
       "      <td>1</td>\n",
       "      <td>4.9</td>\n",
       "      <td>3.17</td>\n",
       "      <td>1.04</td>\n",
       "      <td>102.0</td>\n",
       "      <td>3.59</td>\n",
       "      <td>0.27</td>\n",
       "      <td>2.19</td>\n",
       "      <td>1065.0</td>\n",
       "      <td>3.44</td>\n",
       "      <td>3.25</td>\n",
       "    </tr>\n",
       "  </tbody>\n",
       "</table>\n",
       "</div>"
      ],
      "text/plain": [
       "   wineid  alcalinity_ash  alcohol   ash  cluster  color_intensity  \\\n",
       "0       4       16.799999    14.37  2.50        1              7.8   \n",
       "1      18       20.000000    13.83  2.62        1              6.6   \n",
       "2     177       20.000000    13.17  2.37        3              9.3   \n",
       "3      51       12.400000    13.05  2.04        1              7.2   \n",
       "4      47       16.000000    14.38  2.28        1              4.9   \n",
       "\n",
       "   flavanoids   hue  magnesium  malic_acid  nonflavanoid_phenols  \\\n",
       "0        3.49  0.86      113.0        1.95                  0.24   \n",
       "1        3.40  1.13      115.0        1.57                  0.40   \n",
       "2        0.68  0.60      120.0        2.59                  0.53   \n",
       "3        3.27  1.12       92.0        1.73                  0.17   \n",
       "4        3.17  1.04      102.0        3.59                  0.27   \n",
       "\n",
       "   proanthocyains  proline  protein  total_phenols  \n",
       "0            2.18   1480.0     3.45           3.85  \n",
       "1            1.72   1130.0     2.57           2.95  \n",
       "2            1.46    840.0     1.62           1.65  \n",
       "3            2.91   1150.0     2.91           2.72  \n",
       "4            2.19   1065.0     3.44           3.25  "
      ]
     },
     "metadata": {},
     "output_type": "display_data"
    }
   ],
   "source": [
    "showDF(wineTable)"
   ]
  },
  {
   "cell_type": "markdown",
   "metadata": {},
   "source": [
    "## Let's visualize this data with a scatter plot \n",
    "### The x axis will be alcohol content  \n",
    "### The y axis will be protein \n",
    "### The color of the dot will be assigned based on its \"cluster\" or Vineyard. \n",
    "\n",
    "Note: These values are just to give us a plot for each wine that does not overlap\n",
    "Note 1: Must move to a Pandas dataframe to do this visualization (be aware! This can't always be done as is, depends on your data size)"
   ]
  },
  {
   "cell_type": "code",
   "execution_count": 13,
   "metadata": {},
   "outputs": [
    {
     "data": {
      "text/plain": [
       "<matplotlib.axes._subplots.AxesSubplot at 0x116b84400>"
      ]
     },
     "execution_count": 13,
     "metadata": {},
     "output_type": "execute_result"
    },
    {
     "data": {
      "image/png": "[encoded data removed]",
      "text/plain": [
       "<Figure size 864x576 with 2 Axes>"
      ]
     },
     "metadata": {},
     "output_type": "display_data"
    }
   ],
   "source": [
    "winedf = wineTable.toPandas()\n",
    "winedf.plot.scatter(x = 'alcohol', y = 'protein', c= 'cluster', figsize=(12,8), colormap='jet')"
   ]
  },
  {
   "cell_type": "markdown",
   "metadata": {},
   "source": [
    "### Wines from Vineyard 3 are represented as red, Vineyard  1 is blue, and Vineyard 2 is green. "
   ]
  },
  {
   "cell_type": "markdown",
   "metadata": {},
   "source": [
    "## Let's see if Kmeans can give us the same clustering. \n",
    "\n",
    "## K-means clustering is a simple unsupervised learning algorithm that is used to solve clustering problems. Kmeans is very simple, but very powerful even on large datasets. It requires that all the input columns be vectorized. We have used all the columns in our dataset except for cluster, and windId.\n",
    "\n",
    "https://spark.apache.org/docs/latest/ml-features.html#vectorassembler"
   ]
  },
  {
   "cell_type": "code",
   "execution_count": 14,
   "metadata": {},
   "outputs": [],
   "source": [
    "assembler = VectorAssembler(\n",
    "    inputCols=[ 'alcalinity_ash', 'alcohol', 'ash', \n",
    "               'color_intensity', 'protein', 'flavanoids', 'hue', \n",
    "                'magnesium', 'malic_acid', 'nonflavanoid_phenols', 'proanthocyains', \n",
    "                'proline', 'total_phenols'],\n",
    "    outputCol='features')\n",
    "\n",
    "trainingData1 = assembler.transform(wineTable)"
   ]
  },
  {
   "cell_type": "markdown",
   "metadata": {},
   "source": [
    "### We need to set the K for KMeans which we will set at 3. One of the downsides of unsupervised learning is that we normally will not have clusteres predefinded (like we do in this case). Kmeans will happily split the data into as many clusters as you set. \n",
    "\n",
    "#### First we will generate the model and then make predictions based on that model "
   ]
  },
  {
   "cell_type": "code",
   "execution_count": 15,
   "metadata": {},
   "outputs": [
    {
     "data": {
      "text/html": [
       "<div>\n",
       "<style scoped>\n",
       "    .dataframe tbody tr th:only-of-type {\n",
       "        vertical-align: middle;\n",
       "    }\n",
       "\n",
       "    .dataframe tbody tr th {\n",
       "        vertical-align: top;\n",
       "    }\n",
       "\n",
       "    .dataframe thead th {\n",
       "        text-align: right;\n",
       "    }\n",
       "</style>\n",
       "<table border=\"1\" class=\"dataframe\">\n",
       "  <thead>\n",
       "    <tr style=\"text-align: right;\">\n",
       "      <th></th>\n",
       "      <th>wineid</th>\n",
       "      <th>alcalinity_ash</th>\n",
       "      <th>alcohol</th>\n",
       "      <th>ash</th>\n",
       "      <th>cluster</th>\n",
       "      <th>color_intensity</th>\n",
       "      <th>flavanoids</th>\n",
       "      <th>hue</th>\n",
       "      <th>magnesium</th>\n",
       "      <th>malic_acid</th>\n",
       "      <th>nonflavanoid_phenols</th>\n",
       "      <th>proanthocyains</th>\n",
       "      <th>proline</th>\n",
       "      <th>protein</th>\n",
       "      <th>total_phenols</th>\n",
       "      <th>features</th>\n",
       "      <th>prediction</th>\n",
       "    </tr>\n",
       "  </thead>\n",
       "  <tbody>\n",
       "    <tr>\n",
       "      <th>0</th>\n",
       "      <td>4</td>\n",
       "      <td>16.799999</td>\n",
       "      <td>14.37</td>\n",
       "      <td>2.50</td>\n",
       "      <td>1</td>\n",
       "      <td>7.8</td>\n",
       "      <td>3.49</td>\n",
       "      <td>0.86</td>\n",
       "      <td>113.0</td>\n",
       "      <td>1.95</td>\n",
       "      <td>0.24</td>\n",
       "      <td>2.18</td>\n",
       "      <td>1480.0</td>\n",
       "      <td>3.45</td>\n",
       "      <td>3.85</td>\n",
       "      <td>[16.799999237060547, 14.369999885559082, 2.5, ...</td>\n",
       "      <td>1</td>\n",
       "    </tr>\n",
       "    <tr>\n",
       "      <th>1</th>\n",
       "      <td>18</td>\n",
       "      <td>20.000000</td>\n",
       "      <td>13.83</td>\n",
       "      <td>2.62</td>\n",
       "      <td>1</td>\n",
       "      <td>6.6</td>\n",
       "      <td>3.40</td>\n",
       "      <td>1.13</td>\n",
       "      <td>115.0</td>\n",
       "      <td>1.57</td>\n",
       "      <td>0.40</td>\n",
       "      <td>1.72</td>\n",
       "      <td>1130.0</td>\n",
       "      <td>2.57</td>\n",
       "      <td>2.95</td>\n",
       "      <td>[20.0, 13.829999923706055, 2.619999885559082, ...</td>\n",
       "      <td>1</td>\n",
       "    </tr>\n",
       "    <tr>\n",
       "      <th>2</th>\n",
       "      <td>177</td>\n",
       "      <td>20.000000</td>\n",
       "      <td>13.17</td>\n",
       "      <td>2.37</td>\n",
       "      <td>3</td>\n",
       "      <td>9.3</td>\n",
       "      <td>0.68</td>\n",
       "      <td>0.60</td>\n",
       "      <td>120.0</td>\n",
       "      <td>2.59</td>\n",
       "      <td>0.53</td>\n",
       "      <td>1.46</td>\n",
       "      <td>840.0</td>\n",
       "      <td>1.62</td>\n",
       "      <td>1.65</td>\n",
       "      <td>[20.0, 13.170000076293945, 2.369999885559082, ...</td>\n",
       "      <td>0</td>\n",
       "    </tr>\n",
       "    <tr>\n",
       "      <th>3</th>\n",
       "      <td>51</td>\n",
       "      <td>12.400000</td>\n",
       "      <td>13.05</td>\n",
       "      <td>2.04</td>\n",
       "      <td>1</td>\n",
       "      <td>7.2</td>\n",
       "      <td>3.27</td>\n",
       "      <td>1.12</td>\n",
       "      <td>92.0</td>\n",
       "      <td>1.73</td>\n",
       "      <td>0.17</td>\n",
       "      <td>2.91</td>\n",
       "      <td>1150.0</td>\n",
       "      <td>2.91</td>\n",
       "      <td>2.72</td>\n",
       "      <td>[12.399999618530273, 13.050000190734863, 2.039...</td>\n",
       "      <td>1</td>\n",
       "    </tr>\n",
       "    <tr>\n",
       "      <th>4</th>\n",
       "      <td>47</td>\n",
       "      <td>16.000000</td>\n",
       "      <td>14.38</td>\n",
       "      <td>2.28</td>\n",
       "      <td>1</td>\n",
       "      <td>4.9</td>\n",
       "      <td>3.17</td>\n",
       "      <td>1.04</td>\n",
       "      <td>102.0</td>\n",
       "      <td>3.59</td>\n",
       "      <td>0.27</td>\n",
       "      <td>2.19</td>\n",
       "      <td>1065.0</td>\n",
       "      <td>3.44</td>\n",
       "      <td>3.25</td>\n",
       "      <td>[16.0, 14.380000114440918, 2.2799999713897705,...</td>\n",
       "      <td>1</td>\n",
       "    </tr>\n",
       "  </tbody>\n",
       "</table>\n",
       "</div>"
      ],
      "text/plain": [
       "   wineid  alcalinity_ash  alcohol   ash  cluster  color_intensity  \\\n",
       "0       4       16.799999    14.37  2.50        1              7.8   \n",
       "1      18       20.000000    13.83  2.62        1              6.6   \n",
       "2     177       20.000000    13.17  2.37        3              9.3   \n",
       "3      51       12.400000    13.05  2.04        1              7.2   \n",
       "4      47       16.000000    14.38  2.28        1              4.9   \n",
       "\n",
       "   flavanoids   hue  magnesium  malic_acid  nonflavanoid_phenols  \\\n",
       "0        3.49  0.86      113.0        1.95                  0.24   \n",
       "1        3.40  1.13      115.0        1.57                  0.40   \n",
       "2        0.68  0.60      120.0        2.59                  0.53   \n",
       "3        3.27  1.12       92.0        1.73                  0.17   \n",
       "4        3.17  1.04      102.0        3.59                  0.27   \n",
       "\n",
       "   proanthocyains  proline  protein  total_phenols  \\\n",
       "0            2.18   1480.0     3.45           3.85   \n",
       "1            1.72   1130.0     2.57           2.95   \n",
       "2            1.46    840.0     1.62           1.65   \n",
       "3            2.91   1150.0     2.91           2.72   \n",
       "4            2.19   1065.0     3.44           3.25   \n",
       "\n",
       "                                            features  prediction  \n",
       "0  [16.799999237060547, 14.369999885559082, 2.5, ...           1  \n",
       "1  [20.0, 13.829999923706055, 2.619999885559082, ...           1  \n",
       "2  [20.0, 13.170000076293945, 2.369999885559082, ...           0  \n",
       "3  [12.399999618530273, 13.050000190734863, 2.039...           1  \n",
       "4  [16.0, 14.380000114440918, 2.2799999713897705,...           1  "
      ]
     },
     "metadata": {},
     "output_type": "display_data"
    }
   ],
   "source": [
    "kmeans = KMeans().setK(3).setSeed(1)\n",
    "model = kmeans.fit(trainingData1)\n",
    "\n",
    "# Make predictions\n",
    "predictions = model.transform(trainingData1)\n",
    "\n",
    "showDF(predictions)"
   ]
  },
  {
   "cell_type": "markdown",
   "metadata": {},
   "source": [
    "## In this case because we are actually preforming surpervised learnings (since we do have the cluster labels) we can do some comparisions to see if our predictions are correct. \n",
    "## Some ways to do this are confusion matrix, or matching matrix. \n",
    "## In this case I am just taking a look at the counts for each group. "
   ]
  },
  {
   "cell_type": "code",
   "execution_count": 16,
   "metadata": {},
   "outputs": [
    {
     "name": "stdout",
     "output_type": "stream",
     "text": [
      "+----------+-----+\n",
      "|prediction|count|\n",
      "+----------+-----+\n",
      "|         1|   47|\n",
      "|         2|   69|\n",
      "|         0|   62|\n",
      "+----------+-----+\n",
      "\n",
      "+-------+-----+\n",
      "|cluster|count|\n",
      "+-------+-----+\n",
      "|      1|   59|\n",
      "|      3|   48|\n",
      "|      2|   71|\n",
      "+-------+-----+\n",
      "\n"
     ]
    }
   ],
   "source": [
    "predictions.groupBy('prediction').count().show()\n",
    "wineTable.groupBy('cluster').count().show()"
   ]
  },
  {
   "cell_type": "markdown",
   "metadata": {},
   "source": [
    "## Let's create another scatter plot to see if this lines up with our orignal scatter plot. \n",
    "\n",
    "## Everything is the same except now our dots will represent the color of the prediction (instead of the orginal cluster)"
   ]
  },
  {
   "cell_type": "code",
   "execution_count": 17,
   "metadata": {},
   "outputs": [
    {
     "data": {
      "text/plain": [
       "<matplotlib.axes._subplots.AxesSubplot at 0x116e135c0>"
      ]
     },
     "execution_count": 17,
     "metadata": {},
     "output_type": "execute_result"
    },
    {
     "data": {
      "image/png": "[encoded data removed]",
      "text/plain": [
       "<Figure size 864x576 with 2 Axes>"
      ]
     },
     "metadata": {},
     "output_type": "display_data"
    }
   ],
   "source": [
    "wine_df = predictions.toPandas()\n",
    "\n",
    "wine_df.plot.scatter(x = 'alcohol', y = 'protein', c= 'prediction', figsize=(12,8), colormap='jet')"
   ]
  },
  {
   "cell_type": "markdown",
   "metadata": {},
   "source": [
    "### The wines from Vineyard 1 seem to be the best identified as a group (labeled in green) but Vineyard 2 and 3 are not as clearly definded as before. "
   ]
  },
  {
   "cell_type": "markdown",
   "metadata": {},
   "source": [
    "## Other downside of KMeans is that is struggles when you add many variables. Let's get rid of some of our columns and run this again. "
   ]
  },
  {
   "cell_type": "markdown",
   "metadata": {},
   "source": [
    "### Let's remove any column that we think is an external factor that would effect the wine but not the actual plant that is grown by the winary \n",
    "* Alcohol\n",
    "* Ash\n",
    "* Alcalinity of Ash\n",
    "* Color intensity -- but we will keep hue as the hue is determined by the type of cultivar used"
   ]
  },
  {
   "cell_type": "code",
   "execution_count": 18,
   "metadata": {},
   "outputs": [],
   "source": [
    "assembler = VectorAssembler(\n",
    "    inputCols=[ 'protein', 'flavanoids', 'hue', \n",
    "                'magnesium', 'malic_acid', 'nonflavanoid_phenols', 'proanthocyains', \n",
    "                'proline', 'total_phenols'],\n",
    "    outputCol='features')\n",
    "\n",
    "trainingData0 = assembler.transform(wineTable)"
   ]
  },
  {
   "cell_type": "code",
   "execution_count": 19,
   "metadata": {},
   "outputs": [
    {
     "data": {
      "text/html": [
       "<div>\n",
       "<style scoped>\n",
       "    .dataframe tbody tr th:only-of-type {\n",
       "        vertical-align: middle;\n",
       "    }\n",
       "\n",
       "    .dataframe tbody tr th {\n",
       "        vertical-align: top;\n",
       "    }\n",
       "\n",
       "    .dataframe thead th {\n",
       "        text-align: right;\n",
       "    }\n",
       "</style>\n",
       "<table border=\"1\" class=\"dataframe\">\n",
       "  <thead>\n",
       "    <tr style=\"text-align: right;\">\n",
       "      <th></th>\n",
       "      <th>wineid</th>\n",
       "      <th>alcalinity_ash</th>\n",
       "      <th>alcohol</th>\n",
       "      <th>ash</th>\n",
       "      <th>cluster</th>\n",
       "      <th>color_intensity</th>\n",
       "      <th>flavanoids</th>\n",
       "      <th>hue</th>\n",
       "      <th>magnesium</th>\n",
       "      <th>malic_acid</th>\n",
       "      <th>nonflavanoid_phenols</th>\n",
       "      <th>proanthocyains</th>\n",
       "      <th>proline</th>\n",
       "      <th>protein</th>\n",
       "      <th>total_phenols</th>\n",
       "      <th>features</th>\n",
       "      <th>prediction</th>\n",
       "    </tr>\n",
       "  </thead>\n",
       "  <tbody>\n",
       "    <tr>\n",
       "      <th>0</th>\n",
       "      <td>4</td>\n",
       "      <td>16.799999</td>\n",
       "      <td>14.37</td>\n",
       "      <td>2.50</td>\n",
       "      <td>1</td>\n",
       "      <td>7.8</td>\n",
       "      <td>3.49</td>\n",
       "      <td>0.86</td>\n",
       "      <td>113.0</td>\n",
       "      <td>1.95</td>\n",
       "      <td>0.24</td>\n",
       "      <td>2.18</td>\n",
       "      <td>1480.0</td>\n",
       "      <td>3.45</td>\n",
       "      <td>3.85</td>\n",
       "      <td>[3.450000047683716, 3.490000009536743, 0.86000...</td>\n",
       "      <td>1</td>\n",
       "    </tr>\n",
       "    <tr>\n",
       "      <th>1</th>\n",
       "      <td>18</td>\n",
       "      <td>20.000000</td>\n",
       "      <td>13.83</td>\n",
       "      <td>2.62</td>\n",
       "      <td>1</td>\n",
       "      <td>6.6</td>\n",
       "      <td>3.40</td>\n",
       "      <td>1.13</td>\n",
       "      <td>115.0</td>\n",
       "      <td>1.57</td>\n",
       "      <td>0.40</td>\n",
       "      <td>1.72</td>\n",
       "      <td>1130.0</td>\n",
       "      <td>2.57</td>\n",
       "      <td>2.95</td>\n",
       "      <td>[2.569999933242798, 3.4000000953674316, 1.1299...</td>\n",
       "      <td>1</td>\n",
       "    </tr>\n",
       "    <tr>\n",
       "      <th>2</th>\n",
       "      <td>177</td>\n",
       "      <td>20.000000</td>\n",
       "      <td>13.17</td>\n",
       "      <td>2.37</td>\n",
       "      <td>3</td>\n",
       "      <td>9.3</td>\n",
       "      <td>0.68</td>\n",
       "      <td>0.60</td>\n",
       "      <td>120.0</td>\n",
       "      <td>2.59</td>\n",
       "      <td>0.53</td>\n",
       "      <td>1.46</td>\n",
       "      <td>840.0</td>\n",
       "      <td>1.62</td>\n",
       "      <td>1.65</td>\n",
       "      <td>[1.6200000047683716, 0.6800000071525574, 0.600...</td>\n",
       "      <td>0</td>\n",
       "    </tr>\n",
       "    <tr>\n",
       "      <th>3</th>\n",
       "      <td>51</td>\n",
       "      <td>12.400000</td>\n",
       "      <td>13.05</td>\n",
       "      <td>2.04</td>\n",
       "      <td>1</td>\n",
       "      <td>7.2</td>\n",
       "      <td>3.27</td>\n",
       "      <td>1.12</td>\n",
       "      <td>92.0</td>\n",
       "      <td>1.73</td>\n",
       "      <td>0.17</td>\n",
       "      <td>2.91</td>\n",
       "      <td>1150.0</td>\n",
       "      <td>2.91</td>\n",
       "      <td>2.72</td>\n",
       "      <td>[2.9100000858306885, 3.2699999809265137, 1.120...</td>\n",
       "      <td>1</td>\n",
       "    </tr>\n",
       "    <tr>\n",
       "      <th>4</th>\n",
       "      <td>47</td>\n",
       "      <td>16.000000</td>\n",
       "      <td>14.38</td>\n",
       "      <td>2.28</td>\n",
       "      <td>1</td>\n",
       "      <td>4.9</td>\n",
       "      <td>3.17</td>\n",
       "      <td>1.04</td>\n",
       "      <td>102.0</td>\n",
       "      <td>3.59</td>\n",
       "      <td>0.27</td>\n",
       "      <td>2.19</td>\n",
       "      <td>1065.0</td>\n",
       "      <td>3.44</td>\n",
       "      <td>3.25</td>\n",
       "      <td>[3.440000057220459, 3.1700000762939453, 1.0399...</td>\n",
       "      <td>1</td>\n",
       "    </tr>\n",
       "  </tbody>\n",
       "</table>\n",
       "</div>"
      ],
      "text/plain": [
       "   wineid  alcalinity_ash  alcohol   ash  cluster  color_intensity  \\\n",
       "0       4       16.799999    14.37  2.50        1              7.8   \n",
       "1      18       20.000000    13.83  2.62        1              6.6   \n",
       "2     177       20.000000    13.17  2.37        3              9.3   \n",
       "3      51       12.400000    13.05  2.04        1              7.2   \n",
       "4      47       16.000000    14.38  2.28        1              4.9   \n",
       "\n",
       "   flavanoids   hue  magnesium  malic_acid  nonflavanoid_phenols  \\\n",
       "0        3.49  0.86      113.0        1.95                  0.24   \n",
       "1        3.40  1.13      115.0        1.57                  0.40   \n",
       "2        0.68  0.60      120.0        2.59                  0.53   \n",
       "3        3.27  1.12       92.0        1.73                  0.17   \n",
       "4        3.17  1.04      102.0        3.59                  0.27   \n",
       "\n",
       "   proanthocyains  proline  protein  total_phenols  \\\n",
       "0            2.18   1480.0     3.45           3.85   \n",
       "1            1.72   1130.0     2.57           2.95   \n",
       "2            1.46    840.0     1.62           1.65   \n",
       "3            2.91   1150.0     2.91           2.72   \n",
       "4            2.19   1065.0     3.44           3.25   \n",
       "\n",
       "                                            features  prediction  \n",
       "0  [3.450000047683716, 3.490000009536743, 0.86000...           1  \n",
       "1  [2.569999933242798, 3.4000000953674316, 1.1299...           1  \n",
       "2  [1.6200000047683716, 0.6800000071525574, 0.600...           0  \n",
       "3  [2.9100000858306885, 3.2699999809265137, 1.120...           1  \n",
       "4  [3.440000057220459, 3.1700000762939453, 1.0399...           1  "
      ]
     },
     "metadata": {},
     "output_type": "display_data"
    }
   ],
   "source": [
    "kmeans = KMeans().setK(3).setSeed(1)\n",
    "model = kmeans.fit(trainingData0)\n",
    "\n",
    "# Make predictions\n",
    "predictions0 = model.transform(trainingData0)\n",
    "\n",
    "showDF(predictions0)\n"
   ]
  },
  {
   "cell_type": "markdown",
   "metadata": {},
   "source": [
    "### Our counts are looking better when we just roughly compare"
   ]
  },
  {
   "cell_type": "code",
   "execution_count": 20,
   "metadata": {},
   "outputs": [
    {
     "name": "stdout",
     "output_type": "stream",
     "text": [
      "+----------+-----+\n",
      "|prediction|count|\n",
      "+----------+-----+\n",
      "|         1|   47|\n",
      "|         2|   69|\n",
      "|         0|   62|\n",
      "+----------+-----+\n",
      "\n",
      "+-------+-----+\n",
      "|cluster|count|\n",
      "+-------+-----+\n",
      "|      1|   59|\n",
      "|      3|   48|\n",
      "|      2|   71|\n",
      "+-------+-----+\n",
      "\n"
     ]
    }
   ],
   "source": [
    "predictions0.groupBy('prediction').count().show()\n",
    "wineTable.groupBy('cluster').count().show()"
   ]
  },
  {
   "cell_type": "markdown",
   "metadata": {},
   "source": [
    "## How does our new scatter plot compare? "
   ]
  },
  {
   "cell_type": "code",
   "execution_count": 21,
   "metadata": {},
   "outputs": [
    {
     "data": {
      "text/plain": [
       "<matplotlib.axes._subplots.AxesSubplot at 0x116dcb048>"
      ]
     },
     "execution_count": 21,
     "metadata": {},
     "output_type": "execute_result"
    },
    {
     "data": {
      "image/png": "[encoded data removed]",
      "text/plain": [
       "<Figure size 864x576 with 2 Axes>"
      ]
     },
     "metadata": {},
     "output_type": "display_data"
    }
   ],
   "source": [
    "wine_df0 = predictions0.toPandas()\n",
    "\n",
    "wine_df0.plot.scatter(x = 'alcohol', y = 'protein', c= 'prediction', figsize=(12,8), colormap='jet')"
   ]
  },
  {
   "cell_type": "markdown",
   "metadata": {},
   "source": [
    "## Vineyard 1 is still being labled correctly (it just so happpens to also be labeled at 1), but still struggling on Vineyard 2 and 3 "
   ]
  },
  {
   "cell_type": "markdown",
   "metadata": {},
   "source": [
    "### Let's remove more columns and run Kmeans again"
   ]
  },
  {
   "cell_type": "code",
   "execution_count": 22,
   "metadata": {},
   "outputs": [],
   "source": [
    "assembler = VectorAssembler(\n",
    "    inputCols=[ 'protein', 'flavanoids', 'hue', \n",
    "                'magnesium', 'malic_acid'],\n",
    "    outputCol='features')\n",
    "\n",
    "trainingData2 = assembler.transform(wineTable)"
   ]
  },
  {
   "cell_type": "code",
   "execution_count": 23,
   "metadata": {},
   "outputs": [
    {
     "data": {
      "text/html": [
       "<div>\n",
       "<style scoped>\n",
       "    .dataframe tbody tr th:only-of-type {\n",
       "        vertical-align: middle;\n",
       "    }\n",
       "\n",
       "    .dataframe tbody tr th {\n",
       "        vertical-align: top;\n",
       "    }\n",
       "\n",
       "    .dataframe thead th {\n",
       "        text-align: right;\n",
       "    }\n",
       "</style>\n",
       "<table border=\"1\" class=\"dataframe\">\n",
       "  <thead>\n",
       "    <tr style=\"text-align: right;\">\n",
       "      <th></th>\n",
       "      <th>wineid</th>\n",
       "      <th>alcalinity_ash</th>\n",
       "      <th>alcohol</th>\n",
       "      <th>ash</th>\n",
       "      <th>cluster</th>\n",
       "      <th>color_intensity</th>\n",
       "      <th>flavanoids</th>\n",
       "      <th>hue</th>\n",
       "      <th>magnesium</th>\n",
       "      <th>malic_acid</th>\n",
       "      <th>nonflavanoid_phenols</th>\n",
       "      <th>proanthocyains</th>\n",
       "      <th>proline</th>\n",
       "      <th>protein</th>\n",
       "      <th>total_phenols</th>\n",
       "      <th>features</th>\n",
       "      <th>prediction</th>\n",
       "    </tr>\n",
       "  </thead>\n",
       "  <tbody>\n",
       "    <tr>\n",
       "      <th>0</th>\n",
       "      <td>4</td>\n",
       "      <td>16.799999</td>\n",
       "      <td>14.37</td>\n",
       "      <td>2.50</td>\n",
       "      <td>1</td>\n",
       "      <td>7.8</td>\n",
       "      <td>3.49</td>\n",
       "      <td>0.86</td>\n",
       "      <td>113.0</td>\n",
       "      <td>1.95</td>\n",
       "      <td>0.24</td>\n",
       "      <td>2.18</td>\n",
       "      <td>1480.0</td>\n",
       "      <td>3.45</td>\n",
       "      <td>3.85</td>\n",
       "      <td>[3.450000047683716, 3.490000009536743, 0.86000...</td>\n",
       "      <td>0</td>\n",
       "    </tr>\n",
       "    <tr>\n",
       "      <th>1</th>\n",
       "      <td>18</td>\n",
       "      <td>20.000000</td>\n",
       "      <td>13.83</td>\n",
       "      <td>2.62</td>\n",
       "      <td>1</td>\n",
       "      <td>6.6</td>\n",
       "      <td>3.40</td>\n",
       "      <td>1.13</td>\n",
       "      <td>115.0</td>\n",
       "      <td>1.57</td>\n",
       "      <td>0.40</td>\n",
       "      <td>1.72</td>\n",
       "      <td>1130.0</td>\n",
       "      <td>2.57</td>\n",
       "      <td>2.95</td>\n",
       "      <td>[2.569999933242798, 3.4000000953674316, 1.1299...</td>\n",
       "      <td>0</td>\n",
       "    </tr>\n",
       "    <tr>\n",
       "      <th>2</th>\n",
       "      <td>177</td>\n",
       "      <td>20.000000</td>\n",
       "      <td>13.17</td>\n",
       "      <td>2.37</td>\n",
       "      <td>3</td>\n",
       "      <td>9.3</td>\n",
       "      <td>0.68</td>\n",
       "      <td>0.60</td>\n",
       "      <td>120.0</td>\n",
       "      <td>2.59</td>\n",
       "      <td>0.53</td>\n",
       "      <td>1.46</td>\n",
       "      <td>840.0</td>\n",
       "      <td>1.62</td>\n",
       "      <td>1.65</td>\n",
       "      <td>[1.6200000047683716, 0.6800000071525574, 0.600...</td>\n",
       "      <td>0</td>\n",
       "    </tr>\n",
       "    <tr>\n",
       "      <th>3</th>\n",
       "      <td>51</td>\n",
       "      <td>12.400000</td>\n",
       "      <td>13.05</td>\n",
       "      <td>2.04</td>\n",
       "      <td>1</td>\n",
       "      <td>7.2</td>\n",
       "      <td>3.27</td>\n",
       "      <td>1.12</td>\n",
       "      <td>92.0</td>\n",
       "      <td>1.73</td>\n",
       "      <td>0.17</td>\n",
       "      <td>2.91</td>\n",
       "      <td>1150.0</td>\n",
       "      <td>2.91</td>\n",
       "      <td>2.72</td>\n",
       "      <td>[2.9100000858306885, 3.2699999809265137, 1.120...</td>\n",
       "      <td>1</td>\n",
       "    </tr>\n",
       "    <tr>\n",
       "      <th>4</th>\n",
       "      <td>47</td>\n",
       "      <td>16.000000</td>\n",
       "      <td>14.38</td>\n",
       "      <td>2.28</td>\n",
       "      <td>1</td>\n",
       "      <td>4.9</td>\n",
       "      <td>3.17</td>\n",
       "      <td>1.04</td>\n",
       "      <td>102.0</td>\n",
       "      <td>3.59</td>\n",
       "      <td>0.27</td>\n",
       "      <td>2.19</td>\n",
       "      <td>1065.0</td>\n",
       "      <td>3.44</td>\n",
       "      <td>3.25</td>\n",
       "      <td>[3.440000057220459, 3.1700000762939453, 1.0399...</td>\n",
       "      <td>0</td>\n",
       "    </tr>\n",
       "  </tbody>\n",
       "</table>\n",
       "</div>"
      ],
      "text/plain": [
       "   wineid  alcalinity_ash  alcohol   ash  cluster  color_intensity  \\\n",
       "0       4       16.799999    14.37  2.50        1              7.8   \n",
       "1      18       20.000000    13.83  2.62        1              6.6   \n",
       "2     177       20.000000    13.17  2.37        3              9.3   \n",
       "3      51       12.400000    13.05  2.04        1              7.2   \n",
       "4      47       16.000000    14.38  2.28        1              4.9   \n",
       "\n",
       "   flavanoids   hue  magnesium  malic_acid  nonflavanoid_phenols  \\\n",
       "0        3.49  0.86      113.0        1.95                  0.24   \n",
       "1        3.40  1.13      115.0        1.57                  0.40   \n",
       "2        0.68  0.60      120.0        2.59                  0.53   \n",
       "3        3.27  1.12       92.0        1.73                  0.17   \n",
       "4        3.17  1.04      102.0        3.59                  0.27   \n",
       "\n",
       "   proanthocyains  proline  protein  total_phenols  \\\n",
       "0            2.18   1480.0     3.45           3.85   \n",
       "1            1.72   1130.0     2.57           2.95   \n",
       "2            1.46    840.0     1.62           1.65   \n",
       "3            2.91   1150.0     2.91           2.72   \n",
       "4            2.19   1065.0     3.44           3.25   \n",
       "\n",
       "                                            features  prediction  \n",
       "0  [3.450000047683716, 3.490000009536743, 0.86000...           0  \n",
       "1  [2.569999933242798, 3.4000000953674316, 1.1299...           0  \n",
       "2  [1.6200000047683716, 0.6800000071525574, 0.600...           0  \n",
       "3  [2.9100000858306885, 3.2699999809265137, 1.120...           1  \n",
       "4  [3.440000057220459, 3.1700000762939453, 1.0399...           0  "
      ]
     },
     "metadata": {},
     "output_type": "display_data"
    }
   ],
   "source": [
    "kmeans = KMeans().setK(3).setSeed(1)\n",
    "model = kmeans.fit(trainingData2)\n",
    "\n",
    "# Make predictions\n",
    "predictions2 = model.transform(trainingData2)\n",
    "\n",
    "showDF(predictions2)\n"
   ]
  },
  {
   "cell_type": "code",
   "execution_count": 24,
   "metadata": {},
   "outputs": [
    {
     "name": "stdout",
     "output_type": "stream",
     "text": [
      "+----------+-----+\n",
      "|prediction|count|\n",
      "+----------+-----+\n",
      "|         1|   96|\n",
      "|         2|   13|\n",
      "|         0|   69|\n",
      "+----------+-----+\n",
      "\n",
      "+-------+-----+\n",
      "|cluster|count|\n",
      "+-------+-----+\n",
      "|      1|   59|\n",
      "|      3|   48|\n",
      "|      2|   71|\n",
      "+-------+-----+\n",
      "\n"
     ]
    }
   ],
   "source": [
    "predictions2.groupBy('prediction').count().show()\n",
    "wineTable.groupBy('cluster').count().show()"
   ]
  },
  {
   "cell_type": "code",
   "execution_count": 25,
   "metadata": {},
   "outputs": [],
   "source": [
    "## Let's looks at our scatter plot again"
   ]
  },
  {
   "cell_type": "code",
   "execution_count": 26,
   "metadata": {},
   "outputs": [
    {
     "data": {
      "text/plain": [
       "<matplotlib.axes._subplots.AxesSubplot at 0x117ba40f0>"
      ]
     },
     "execution_count": 26,
     "metadata": {},
     "output_type": "execute_result"
    },
    {
     "data": {
      "image/png": "[encoded data removed]",
      "text/plain": [
       "<Figure size 864x576 with 2 Axes>"
      ]
     },
     "metadata": {},
     "output_type": "display_data"
    }
   ],
   "source": [
    "wine_df2 = predictions2.toPandas()\n",
    "\n",
    "wine_df2.plot.scatter(x = 'alcohol', y = 'protein', c= 'prediction', figsize=(12,8), colormap='jet')"
   ]
  },
  {
   "cell_type": "markdown",
   "metadata": {},
   "source": [
    "### Looks like we have removed too many varibles, and now our three clusters are not lining up to our orginally clusters. "
   ]
  },
  {
   "cell_type": "markdown",
   "metadata": {},
   "source": [
    "### What if we try to do just 2 variables, the ones actually use in our scatter plot and see if that does the trick"
   ]
  },
  {
   "cell_type": "code",
   "execution_count": 47,
   "metadata": {},
   "outputs": [],
   "source": [
    "assembler = VectorAssembler(\n",
    "    inputCols=['alcohol', 'protein'],\n",
    "    outputCol='features')\n",
    "\n",
    "trainingData3 = assembler.transform(wineTable)"
   ]
  },
  {
   "cell_type": "code",
   "execution_count": 48,
   "metadata": {},
   "outputs": [
    {
     "data": {
      "text/html": [
       "<div>\n",
       "<style scoped>\n",
       "    .dataframe tbody tr th:only-of-type {\n",
       "        vertical-align: middle;\n",
       "    }\n",
       "\n",
       "    .dataframe tbody tr th {\n",
       "        vertical-align: top;\n",
       "    }\n",
       "\n",
       "    .dataframe thead th {\n",
       "        text-align: right;\n",
       "    }\n",
       "</style>\n",
       "<table border=\"1\" class=\"dataframe\">\n",
       "  <thead>\n",
       "    <tr style=\"text-align: right;\">\n",
       "      <th></th>\n",
       "      <th>wineid</th>\n",
       "      <th>alcalinity_ash</th>\n",
       "      <th>alcohol</th>\n",
       "      <th>ash</th>\n",
       "      <th>cluster</th>\n",
       "      <th>color_intensity</th>\n",
       "      <th>flavanoids</th>\n",
       "      <th>hue</th>\n",
       "      <th>magnesium</th>\n",
       "      <th>malic_acid</th>\n",
       "      <th>nonflavanoid_phenols</th>\n",
       "      <th>proanthocyains</th>\n",
       "      <th>proline</th>\n",
       "      <th>protein</th>\n",
       "      <th>total_phenols</th>\n",
       "      <th>features</th>\n",
       "      <th>prediction</th>\n",
       "    </tr>\n",
       "  </thead>\n",
       "  <tbody>\n",
       "    <tr>\n",
       "      <th>0</th>\n",
       "      <td>23</td>\n",
       "      <td>16.6</td>\n",
       "      <td>13.71</td>\n",
       "      <td>2.36</td>\n",
       "      <td>1</td>\n",
       "      <td>3.80</td>\n",
       "      <td>2.88</td>\n",
       "      <td>1.11</td>\n",
       "      <td>101.0</td>\n",
       "      <td>1.86</td>\n",
       "      <td>0.27</td>\n",
       "      <td>1.69</td>\n",
       "      <td>1035.0</td>\n",
       "      <td>4.00</td>\n",
       "      <td>2.61</td>\n",
       "      <td>[13.710000038146973, 4.0]</td>\n",
       "      <td>0</td>\n",
       "    </tr>\n",
       "    <tr>\n",
       "      <th>1</th>\n",
       "      <td>114</td>\n",
       "      <td>21.0</td>\n",
       "      <td>11.41</td>\n",
       "      <td>2.50</td>\n",
       "      <td>2</td>\n",
       "      <td>3.08</td>\n",
       "      <td>2.01</td>\n",
       "      <td>1.10</td>\n",
       "      <td>88.0</td>\n",
       "      <td>0.74</td>\n",
       "      <td>0.42</td>\n",
       "      <td>1.44</td>\n",
       "      <td>434.0</td>\n",
       "      <td>2.31</td>\n",
       "      <td>2.48</td>\n",
       "      <td>[11.40999984741211, 2.309999942779541]</td>\n",
       "      <td>2</td>\n",
       "    </tr>\n",
       "    <tr>\n",
       "      <th>2</th>\n",
       "      <td>53</td>\n",
       "      <td>14.0</td>\n",
       "      <td>13.82</td>\n",
       "      <td>2.42</td>\n",
       "      <td>1</td>\n",
       "      <td>7.05</td>\n",
       "      <td>3.74</td>\n",
       "      <td>1.01</td>\n",
       "      <td>111.0</td>\n",
       "      <td>1.75</td>\n",
       "      <td>0.32</td>\n",
       "      <td>1.87</td>\n",
       "      <td>1190.0</td>\n",
       "      <td>3.26</td>\n",
       "      <td>3.88</td>\n",
       "      <td>[13.819999694824219, 3.259999990463257]</td>\n",
       "      <td>0</td>\n",
       "    </tr>\n",
       "    <tr>\n",
       "      <th>3</th>\n",
       "      <td>110</td>\n",
       "      <td>20.0</td>\n",
       "      <td>11.61</td>\n",
       "      <td>2.70</td>\n",
       "      <td>2</td>\n",
       "      <td>2.65</td>\n",
       "      <td>2.92</td>\n",
       "      <td>0.96</td>\n",
       "      <td>94.0</td>\n",
       "      <td>1.35</td>\n",
       "      <td>0.29</td>\n",
       "      <td>2.49</td>\n",
       "      <td>680.0</td>\n",
       "      <td>3.26</td>\n",
       "      <td>2.74</td>\n",
       "      <td>[11.609999656677246, 3.259999990463257]</td>\n",
       "      <td>2</td>\n",
       "    </tr>\n",
       "    <tr>\n",
       "      <th>4</th>\n",
       "      <td>91</td>\n",
       "      <td>18.5</td>\n",
       "      <td>12.08</td>\n",
       "      <td>2.32</td>\n",
       "      <td>2</td>\n",
       "      <td>2.40</td>\n",
       "      <td>1.50</td>\n",
       "      <td>1.08</td>\n",
       "      <td>81.0</td>\n",
       "      <td>1.83</td>\n",
       "      <td>0.52</td>\n",
       "      <td>1.64</td>\n",
       "      <td>480.0</td>\n",
       "      <td>2.27</td>\n",
       "      <td>1.60</td>\n",
       "      <td>[12.079999923706055, 2.2699999809265137]</td>\n",
       "      <td>2</td>\n",
       "    </tr>\n",
       "  </tbody>\n",
       "</table>\n",
       "</div>"
      ],
      "text/plain": [
       "   wineid  alcalinity_ash  alcohol   ash  cluster  color_intensity  \\\n",
       "0      23            16.6    13.71  2.36        1             3.80   \n",
       "1     114            21.0    11.41  2.50        2             3.08   \n",
       "2      53            14.0    13.82  2.42        1             7.05   \n",
       "3     110            20.0    11.61  2.70        2             2.65   \n",
       "4      91            18.5    12.08  2.32        2             2.40   \n",
       "\n",
       "   flavanoids   hue  magnesium  malic_acid  nonflavanoid_phenols  \\\n",
       "0        2.88  1.11      101.0        1.86                  0.27   \n",
       "1        2.01  1.10       88.0        0.74                  0.42   \n",
       "2        3.74  1.01      111.0        1.75                  0.32   \n",
       "3        2.92  0.96       94.0        1.35                  0.29   \n",
       "4        1.50  1.08       81.0        1.83                  0.52   \n",
       "\n",
       "   proanthocyains  proline  protein  total_phenols  \\\n",
       "0            1.69   1035.0     4.00           2.61   \n",
       "1            1.44    434.0     2.31           2.48   \n",
       "2            1.87   1190.0     3.26           3.88   \n",
       "3            2.49    680.0     3.26           2.74   \n",
       "4            1.64    480.0     2.27           1.60   \n",
       "\n",
       "                                   features  prediction  \n",
       "0                 [13.710000038146973, 4.0]           0  \n",
       "1    [11.40999984741211, 2.309999942779541]           2  \n",
       "2   [13.819999694824219, 3.259999990463257]           0  \n",
       "3   [11.609999656677246, 3.259999990463257]           2  \n",
       "4  [12.079999923706055, 2.2699999809265137]           2  "
      ]
     },
     "metadata": {},
     "output_type": "display_data"
    }
   ],
   "source": [
    "kmeans = KMeans().setK(3).setSeed(1)\n",
    "model = kmeans.fit(trainingData3)\n",
    "\n",
    "# Make predictions\n",
    "predictions3 = model.transform(trainingData3)\n",
    "\n",
    "showDF(predictions3)\n"
   ]
  },
  {
   "cell_type": "code",
   "execution_count": 49,
   "metadata": {},
   "outputs": [
    {
     "name": "stdout",
     "output_type": "stream",
     "text": [
      "+----------+-----+\n",
      "|prediction|count|\n",
      "+----------+-----+\n",
      "|         1|   58|\n",
      "|         2|   55|\n",
      "|         0|   65|\n",
      "+----------+-----+\n",
      "\n",
      "+-------+-----+\n",
      "|cluster|count|\n",
      "+-------+-----+\n",
      "|      1|   59|\n",
      "|      3|   48|\n",
      "|      2|   71|\n",
      "+-------+-----+\n",
      "\n"
     ]
    }
   ],
   "source": [
    "predictions3.groupBy('prediction').count().show()\n",
    "wineTable.groupBy('cluster').count().show()"
   ]
  },
  {
   "cell_type": "markdown",
   "metadata": {},
   "source": [
    "### And let's look at our scatter plot to validate the data"
   ]
  },
  {
   "cell_type": "code",
   "execution_count": 50,
   "metadata": {},
   "outputs": [
    {
     "data": {
      "text/plain": [
       "<matplotlib.axes._subplots.AxesSubplot at 0x117380cd0>"
      ]
     },
     "execution_count": 50,
     "metadata": {},
     "output_type": "execute_result"
    },
    {
     "data": {
      "image/png": "[encoded data removed]",
      "text/plain": [
       "<Figure size 864x576 with 2 Axes>"
      ]
     },
     "metadata": {
      "needs_background": "light"
     },
     "output_type": "display_data"
    }
   ],
   "source": [
    "wine_df3 = predictions3.toPandas()\n",
    "\n",
    "wine_df3.plot.scatter(x = 'alcohol', y = 'protein', c= 'prediction', figsize=(12,8), colormap='jet')"
   ]
  },
  {
   "cell_type": "markdown",
   "metadata": {},
   "source": [
    "## WHOA! That was it! The alcohol content of the wine, and its protein amount are the strong indicators that that wine belongs to a particular vineyard! "
   ]
  },
  {
   "cell_type": "markdown",
   "metadata": {},
   "source": [
    "# Remember Data Science and analytics is an iterative process! It's a science! Hypothesis, test, analysis, and loop again! "
   ]
  },
  {
   "cell_type": "code",
   "execution_count": null,
   "metadata": {},
   "outputs": [],
   "source": [
    "session.execute(\"\"\"drop table wine\"\"\")"
   ]
  },
  {
   "cell_type": "markdown",
   "metadata": {},
   "source": [
    "References: \n",
    "* https://sweetcode.io/k-means-clustering-python/ \n",
    "\n",
    "* https://cs.brown.edu/courses/cs100/homework/homework-3-part-ii/\n",
    "\n",
    "* https://jakevdp.github.io/PythonDataScienceHandbook/05.11-k-means.html \n",
    "\n",
    "* https://en.wikipedia.org/wiki/K-means_clustering\n",
    "\n",
    "* https://rsandstroem.github.io/sparkkmeans.html\n",
    "\n",
    "* https://imaddabbura.github.io/post/kmeans_clustering/"
   ]
  },
  {
   "cell_type": "code",
   "execution_count": null,
   "metadata": {},
   "outputs": [],
   "source": []
  }
 ],
 "metadata": {
  "kernelspec": {
   "display_name": "Python 3",
   "language": "python",
   "name": "python3"
  },
  "language_info": {
   "codemirror_mode": {
    "name": "ipython",
    "version": 3
   },
   "file_extension": ".py",
   "mimetype": "text/x-python",
   "name": "python",
   "nbconvert_exporter": "python",
   "pygments_lexer": "ipython3",
   "version": "3.7.0"
  }
 },
 "nbformat": 4,
 "nbformat_minor": 2
}
