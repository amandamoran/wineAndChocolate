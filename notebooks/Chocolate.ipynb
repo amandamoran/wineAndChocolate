{
 "cells": [
  {
   "cell_type": "markdown",
   "metadata": {},
   "source": [
    "# Classification and Clustering Algorithms paired with Wine and Chocolate\n",
    "------\n",
    "<img src=\"images/wineAndChocolate.jpg\" width=\"500\" height=\"500\">\n",
    "\n",
    "## A demo using DataStax Enterprise Analytics, Apache Cassandra, Apache Spark, Python, Jupyter Notebooks, Spark MlLib, and Naive Bayes. \n",
    "\n",
    "#### Real dataset: https://www.kaggle.com/rtatman/chocolate-bar-ratings\n",
    "\n",
    "#### Most recent updates by Manhattan Cholocate Society: http://flavorsofcacao.com/index.html"
   ]
  },
  {
   "cell_type": "markdown",
   "metadata": {},
   "source": [
    "## What are we trying to learn from this dataset? \n",
    "\n",
    "# QUESTION:  If I have some information about a chocolate bar can I predict which country produced this cholocate? \n"
   ]
  },
  {
   "cell_type": "markdown",
   "metadata": {},
   "source": [
    "## Import python packages -- all are required\n",
    "* Need to tell Jupyter to display with %matplotlib otherwise you will generate the plot but not display it"
   ]
  },
  {
   "cell_type": "code",
   "execution_count": 1,
   "metadata": {},
   "outputs": [],
   "source": [
    "%matplotlib inline\n",
    "import matplotlib.pyplot as plt"
   ]
  },
  {
   "cell_type": "code",
   "execution_count": 2,
   "metadata": {},
   "outputs": [],
   "source": [
    "import pandas\n",
    "import cassandra\n",
    "import pyspark\n",
    "import re\n",
    "import os\n",
    "#from uuid import uuid1\n",
    "import matplotlib.pyplot as plt\n",
    "from IPython.display import display, Markdown\n",
    "from pyspark.sql import SparkSession\n",
    "#from pyspark.ml.feature import Tokenizer, RegexTokenizer, StopWordsRemover\n",
    "#from pyspark.sql.functions import col, udf\n",
    "#from pyspark.sql.types import IntegerType\n",
    "from pyspark.ml.classification import NaiveBayes\n",
    "from pyspark.ml.evaluation import MulticlassClassificationEvaluator\n",
    "from pyspark.ml.linalg import Vectors\n",
    "from pyspark.ml.feature import VectorAssembler\n",
    "from pyspark.ml.feature import StringIndexer"
   ]
  },
  {
   "cell_type": "markdown",
   "metadata": {},
   "source": [
    "### Helper function to have nicer formatting of Spark DataFrames\n",
    "* Credit to the folks are Netflix for this pretty code."
   ]
  },
  {
   "cell_type": "code",
   "execution_count": 3,
   "metadata": {},
   "outputs": [],
   "source": [
    "#Helper for pretty formatting for Spark DataFrames\n",
    "def showDF(df, limitRows =  5, truncate = True):\n",
    "    if(truncate):\n",
    "        pandas.set_option('display.max_colwidth', 50)\n",
    "    else:\n",
    "        pandas.set_option('display.max_colwidth', -1)\n",
    "    pandas.set_option('display.max_rows', limitRows)\n",
    "    display(df.limit(limitRows).toPandas())\n",
    "    pandas.reset_option('display.max_rows')"
   ]
  },
  {
   "cell_type": "markdown",
   "metadata": {},
   "source": [
    "# DataStax Enterprise Analytics\n",
    "<img src=\"images/dselogo.png\" width=\"400\" height=\"200\">"
   ]
  },
  {
   "cell_type": "markdown",
   "metadata": {},
   "source": [
    "## Creating Tables and Loading Tables"
   ]
  },
  {
   "cell_type": "markdown",
   "metadata": {},
   "source": [
    "## Connect to DSE Analytics Cluster"
   ]
  },
  {
   "cell_type": "code",
   "execution_count": 4,
   "metadata": {},
   "outputs": [],
   "source": [
    "from cassandra.cluster import Cluster\n",
    "\n",
    "cluster = Cluster(['127.0.01'])\n",
    "session = cluster.connect()"
   ]
  },
  {
   "cell_type": "markdown",
   "metadata": {},
   "source": [
    "## Create Demo Keyspace "
   ]
  },
  {
   "cell_type": "code",
   "execution_count": 5,
   "metadata": {},
   "outputs": [
    {
     "data": {
      "text/plain": [
       "<cassandra.cluster.ResultSet at 0x112206450>"
      ]
     },
     "execution_count": 5,
     "metadata": {},
     "output_type": "execute_result"
    }
   ],
   "source": [
    "session.execute(\"\"\"\n",
    "    CREATE KEYSPACE IF NOT EXISTS wineChocolate \n",
    "    WITH REPLICATION = \n",
    "    { 'class' : 'SimpleStrategy', 'replication_factor' : 1 }\"\"\"\n",
    ")"
   ]
  },
  {
   "cell_type": "markdown",
   "metadata": {},
   "source": [
    "## Set keyspace "
   ]
  },
  {
   "cell_type": "code",
   "execution_count": 6,
   "metadata": {},
   "outputs": [],
   "source": [
    "session.set_keyspace('winechocolate')"
   ]
  },
  {
   "cell_type": "markdown",
   "metadata": {},
   "source": [
    "### Create table called chocoloate. Our PRIMARY will be a unique key we generate for each row. This will result in an even distribution of the data but we will have to utilize that PRIMARY KEY in our WHERE clause in any of our CQL queries. "
   ]
  },
  {
   "cell_type": "code",
   "execution_count": 7,
   "metadata": {},
   "outputs": [
    {
     "data": {
      "text/plain": [
       "<cassandra.cluster.ResultSet at 0x11021d610>"
      ]
     },
     "execution_count": 7,
     "metadata": {},
     "output_type": "execute_result"
    }
   ],
   "source": [
    "query = \"CREATE TABLE IF NOT EXISTS chocolate \\\n",
    "                                   (chocolateid int, company text, bar_location text, ref int, \\\n",
    "                                   review_date int, cocoa_percent float, company_location text, rating float, \\\n",
    "                                   bean_type text, bean_origin text, \\\n",
    "                                   PRIMARY KEY (chocolateid))\"\n",
    "session.execute(query)\n"
   ]
  },
  {
   "cell_type": "markdown",
   "metadata": {},
   "source": [
    "## Columns \n",
    "* Chocoloate Id: Unique id to each bar \n",
    "* Company: Company Name of the company manufacturing the bar.\n",
    "* Bar Location: Specific Bean Origin\n",
    "* REF: Id when the review was entered in the database. Higher = more recent.\n",
    "* Review Date: Review Date\n",
    "* Cocoa Percentage: Cocoa percentage (darkness) of the chocolate bar being reviewed.\n",
    "* Company Location: Manufacturer base country.\n",
    "* Rating: Expert rating for the bar. (1-5)\n",
    "* Bean Type: The variety (breed) of bean used, if provided.\n",
    "* Bean Origin: The broad geo-region of origin for the bean."
   ]
  },
  {
   "cell_type": "markdown",
   "metadata": {},
   "source": [
    "## Load Flavors of Cacao Dataset\n",
    "<img src=\"images/chocolatePic.jpeg\" width=\"300\" height=\"300\">\n"
   ]
  },
  {
   "cell_type": "markdown",
   "metadata": {},
   "source": [
    "## Load from CSV file (chocolateFinal.csv)"
   ]
  },
  {
   "cell_type": "markdown",
   "metadata": {},
   "source": [
    "### Had to do some data cleaning to load this data. Removed `%`, removed extra commas, removed ``\"``, removed extra commons that existed in the company name. This preprocessing was done by me and is availble in chocolateFinal.csv"
   ]
  },
  {
   "cell_type": "markdown",
   "metadata": {},
   "source": [
    "#### Insert all the Cholocate Data into the Apache Cassandra table `chocolate`"
   ]
  },
  {
   "cell_type": "code",
   "execution_count": 8,
   "metadata": {},
   "outputs": [],
   "source": [
    "fileName = 'data/chocolateFinal.csv'\n",
    "input_file = open(fileName, 'r')\n",
    "i = 1\n",
    "\n",
    "for line in input_file:\n",
    "    chocolateId = i \n",
    "    columns = line.split(',')\n",
    "    if columns[7] == \"\\xc2\\xa0\":\n",
    "        columns[7] = \"\"\n",
    "    columns[8] = columns[8].rstrip(\"\\r\\n\")\n",
    "    \n",
    "    query = \"INSERT INTO chocolate (chocolateid, company, bar_location, ref, review_date, cocoa_percent, \\\n",
    "                                    company_location, rating, bean_type, bean_origin)\"\n",
    "    query = query + \" VALUES (%s, %s, %s, %s, %s, %s, %s, %s, %s, %s)\"\n",
    "    session.execute(query, (chocolateId, columns[0], columns[1], int(columns[2]), int(columns[3]), \n",
    "                    float(columns[4]), columns[5], float(columns[6]), columns[7], columns[8]))\n",
    "    i = i + 1"
   ]
  },
  {
   "cell_type": "markdown",
   "metadata": {},
   "source": [
    "### Do a select * on each table and verify that the data have been inserted into the Apache Cassandra table"
   ]
  },
  {
   "cell_type": "code",
   "execution_count": 9,
   "metadata": {
    "scrolled": true
   },
   "outputs": [
    {
     "name": "stdout",
     "output_type": "stream",
     "text": [
      "(200, u'Sambiao 2009', 565, 2010, 70.0, u'U.S.A.', 3.0, u'Tiitaio', u'Madagasca')\n"
     ]
    }
   ],
   "source": [
    "query = 'SELECT * FROM chocolate WHERE chocolateid=200'\n",
    "rows = session.execute(query)\n",
    "for row in rows:\n",
    "    print (row.chocolateid, row.bar_location, row.ref, row.review_date, row.cocoa_percent, row.company_location,\n",
    "          row.rating, row.bean_type, row.bean_origin)"
   ]
  },
  {
   "cell_type": "markdown",
   "metadata": {},
   "source": [
    "## DSE Analytics with Apache Spark\n",
    "<img src=\"images/sparklogo.png\" width=\"150\" height=\"200\">"
   ]
  },
  {
   "cell_type": "markdown",
   "metadata": {},
   "source": [
    "### Finally time for Apache Spark! "
   ]
  },
  {
   "cell_type": "markdown",
   "metadata": {},
   "source": [
    "#### Create a spark session that is connected to Apache Cassandra. From there load each table into a Spark Dataframe and take a count of the number of rows in each."
   ]
  },
  {
   "cell_type": "code",
   "execution_count": 10,
   "metadata": {},
   "outputs": [
    {
     "name": "stdout",
     "output_type": "stream",
     "text": [
      "Table Row Count: \n",
      "1795\n"
     ]
    }
   ],
   "source": [
    "spark = SparkSession.builder.appName('demo').master(\"local\").getOrCreate()\n",
    "\n",
    "\n",
    "chocolateTable = spark.read.format(\"org.apache.spark.sql.cassandra\").options(table=\"chocolate\", keyspace=\"winechocolate\").load()\n",
    "\n",
    "print (\"Table Row Count: \")\n",
    "print (chocolateTable.count())"
   ]
  },
  {
   "cell_type": "code",
   "execution_count": 11,
   "metadata": {},
   "outputs": [
    {
     "data": {
      "text/html": [
       "<div>\n",
       "<style scoped>\n",
       "    .dataframe tbody tr th:only-of-type {\n",
       "        vertical-align: middle;\n",
       "    }\n",
       "\n",
       "    .dataframe tbody tr th {\n",
       "        vertical-align: top;\n",
       "    }\n",
       "\n",
       "    .dataframe thead th {\n",
       "        text-align: right;\n",
       "    }\n",
       "</style>\n",
       "<table border=\"1\" class=\"dataframe\">\n",
       "  <thead>\n",
       "    <tr style=\"text-align: right;\">\n",
       "      <th></th>\n",
       "      <th>chocolateid</th>\n",
       "      <th>bar_location</th>\n",
       "      <th>bean_origin</th>\n",
       "      <th>bean_type</th>\n",
       "      <th>cocoa_percent</th>\n",
       "      <th>company</th>\n",
       "      <th>company_location</th>\n",
       "      <th>rating</th>\n",
       "      <th>ref</th>\n",
       "      <th>review_date</th>\n",
       "    </tr>\n",
       "  </thead>\n",
       "  <tbody>\n",
       "    <tr>\n",
       "      <th>0</th>\n",
       "      <td>1584</td>\n",
       "      <td>Ecuado Twilght Dak</td>\n",
       "      <td>Ecuado</td>\n",
       "      <td></td>\n",
       "      <td>70.0</td>\n",
       "      <td>Stoe Gidz</td>\n",
       "      <td>U.S.A.</td>\n",
       "      <td>3.50</td>\n",
       "      <td>1291</td>\n",
       "      <td>2014</td>\n",
       "    </tr>\n",
       "    <tr>\n",
       "      <th>1</th>\n",
       "      <td>769</td>\n",
       "      <td>Los Rios Quevedo</td>\n",
       "      <td>Ecuado</td>\n",
       "      <td>Foasteo (Aiba)</td>\n",
       "      <td>65.0</td>\n",
       "      <td>Guittad</td>\n",
       "      <td>U.S.A.</td>\n",
       "      <td>3.50</td>\n",
       "      <td>93</td>\n",
       "      <td>2006</td>\n",
       "    </tr>\n",
       "    <tr>\n",
       "      <th>2</th>\n",
       "      <td>1765</td>\n",
       "      <td>Peu Batch 1</td>\n",
       "      <td>Peu</td>\n",
       "      <td></td>\n",
       "      <td>70.0</td>\n",
       "      <td>Zak's</td>\n",
       "      <td>U.S.A.</td>\n",
       "      <td>3.25</td>\n",
       "      <td>1578</td>\n",
       "      <td>2015</td>\n",
       "    </tr>\n",
       "    <tr>\n",
       "      <th>3</th>\n",
       "      <td>1580</td>\n",
       "      <td>Sambiao Valley</td>\n",
       "      <td>Madagasca</td>\n",
       "      <td>Tiitaio</td>\n",
       "      <td>70.0</td>\n",
       "      <td>Stachild</td>\n",
       "      <td>U.S.A.</td>\n",
       "      <td>3.00</td>\n",
       "      <td>1696</td>\n",
       "      <td>2015</td>\n",
       "    </tr>\n",
       "    <tr>\n",
       "      <th>4</th>\n",
       "      <td>1199</td>\n",
       "      <td>Fazeda Leolida</td>\n",
       "      <td>Bazil</td>\n",
       "      <td>Tiitaio (Scavia)</td>\n",
       "      <td>70.0</td>\n",
       "      <td>Nugali</td>\n",
       "      <td>Bazil</td>\n",
       "      <td>3.50</td>\n",
       "      <td>1876</td>\n",
       "      <td>2016</td>\n",
       "    </tr>\n",
       "  </tbody>\n",
       "</table>\n",
       "</div>"
      ],
      "text/plain": [
       "   chocolateid        bar_location bean_origin         bean_type  \\\n",
       "0         1584  Ecuado Twilght Dak      Ecuado                     \n",
       "1          769    Los Rios Quevedo      Ecuado    Foasteo (Aiba)   \n",
       "2         1765         Peu Batch 1         Peu                     \n",
       "3         1580      Sambiao Valley   Madagasca           Tiitaio   \n",
       "4         1199      Fazeda Leolida       Bazil  Tiitaio (Scavia)   \n",
       "\n",
       "   cocoa_percent    company company_location  rating   ref  review_date  \n",
       "0           70.0  Stoe Gidz           U.S.A.    3.50  1291         2014  \n",
       "1           65.0    Guittad           U.S.A.    3.50    93         2006  \n",
       "2           70.0      Zak's           U.S.A.    3.25  1578         2015  \n",
       "3           70.0   Stachild           U.S.A.    3.00  1696         2015  \n",
       "4           70.0     Nugali            Bazil    3.50  1876         2016  "
      ]
     },
     "metadata": {},
     "output_type": "display_data"
    }
   ],
   "source": [
    "showDF(chocolateTable)"
   ]
  },
  {
   "cell_type": "markdown",
   "metadata": {},
   "source": [
    "### We will be training a model with Naive Bays, and because of this we need to split up our dataset in to a training and test set. Will split 80/20. "
   ]
  },
  {
   "cell_type": "code",
   "execution_count": 12,
   "metadata": {},
   "outputs": [
    {
     "name": "stdout",
     "output_type": "stream",
     "text": [
      "Train Dataframe Row Count: \n",
      "1490\n",
      "Test Datafram Row Count: \n",
      "302\n"
     ]
    }
   ],
   "source": [
    "# Split the data into train and test\n",
    "splits = chocolateTable.randomSplit([0.8, 0.2], 1234)\n",
    "train = splits[0]\n",
    "test = splits[1]\n",
    "\n",
    "print (\"Train Dataframe Row Count: \")\n",
    "print (train.count())\n",
    "print (\"Test Datafram Row Count: \")\n",
    "print (test.count())"
   ]
  },
  {
   "cell_type": "markdown",
   "metadata": {},
   "source": [
    "### Naive Bayes is a classifier algorthim, that can predict a label from a model built from known lables. \n",
    "\n",
    "### Requires that all values passed to the function be a float and  Vectorized.  We will Create unique indexes for the Bean Origin, and our Label will be Compnay Location (what we are trying to predict). \n",
    "\n",
    "https://spark.apache.org/docs/latest/ml-features.html#stringindexer"
   ]
  },
  {
   "cell_type": "markdown",
   "metadata": {},
   "source": [
    "#### StringIndexers of Bean Origin and Company Location "
   ]
  },
  {
   "cell_type": "code",
   "execution_count": 13,
   "metadata": {},
   "outputs": [],
   "source": [
    "# Convert target into numerical categories\n",
    "\n",
    "labelIndexer = StringIndexer(inputCol=\"bean_origin\", outputCol=\"origin\", handleInvalid='keep')\n",
    "training1 = labelIndexer.fit(train).transform(train)\n",
    "\n",
    "labelIndexer2 = StringIndexer(inputCol=\"company_location\", outputCol=\"label\", handleInvalid='keep')\n",
    "training2 = labelIndexer2.fit(training1).transform(training1)"
   ]
  },
  {
   "cell_type": "markdown",
   "metadata": {},
   "source": [
    "#### Vectorization -- in this case we will assume that if I have the cocoa_percentage, the rating, the chocolate origin, and the review date that we can use that data to figure out the Country that produced this chocolate.  We end up with a new DataFrame called training  data. \n",
    "https://spark.apache.org/docs/latest/ml-features.html#vectorassembler"
   ]
  },
  {
   "cell_type": "code",
   "execution_count": 14,
   "metadata": {},
   "outputs": [
    {
     "data": {
      "text/html": [
       "<div>\n",
       "<style scoped>\n",
       "    .dataframe tbody tr th:only-of-type {\n",
       "        vertical-align: middle;\n",
       "    }\n",
       "\n",
       "    .dataframe tbody tr th {\n",
       "        vertical-align: top;\n",
       "    }\n",
       "\n",
       "    .dataframe thead th {\n",
       "        text-align: right;\n",
       "    }\n",
       "</style>\n",
       "<table border=\"1\" class=\"dataframe\">\n",
       "  <thead>\n",
       "    <tr style=\"text-align: right;\">\n",
       "      <th></th>\n",
       "      <th>chocolateid</th>\n",
       "      <th>bar_location</th>\n",
       "      <th>bean_origin</th>\n",
       "      <th>bean_type</th>\n",
       "      <th>cocoa_percent</th>\n",
       "      <th>company</th>\n",
       "      <th>company_location</th>\n",
       "      <th>rating</th>\n",
       "      <th>ref</th>\n",
       "      <th>review_date</th>\n",
       "      <th>origin</th>\n",
       "      <th>label</th>\n",
       "      <th>features</th>\n",
       "    </tr>\n",
       "  </thead>\n",
       "  <tbody>\n",
       "    <tr>\n",
       "      <th>0</th>\n",
       "      <td>15</td>\n",
       "      <td>Colombie</td>\n",
       "      <td>Colombia</td>\n",
       "      <td></td>\n",
       "      <td>70.0</td>\n",
       "      <td>A. Moi</td>\n",
       "      <td>Face</td>\n",
       "      <td>2.75</td>\n",
       "      <td>1015</td>\n",
       "      <td>2013</td>\n",
       "      <td>12.0</td>\n",
       "      <td>1.0</td>\n",
       "      <td>[70.0, 2.75, 12.0, 2013.0]</td>\n",
       "    </tr>\n",
       "    <tr>\n",
       "      <th>1</th>\n",
       "      <td>18</td>\n",
       "      <td>Chuao</td>\n",
       "      <td>Veezuela</td>\n",
       "      <td>Tiitaio</td>\n",
       "      <td>70.0</td>\n",
       "      <td>A. Moi</td>\n",
       "      <td>Face</td>\n",
       "      <td>4.00</td>\n",
       "      <td>1015</td>\n",
       "      <td>2013</td>\n",
       "      <td>0.0</td>\n",
       "      <td>1.0</td>\n",
       "      <td>[70.0, 4.0, 0.0, 2013.0]</td>\n",
       "    </tr>\n",
       "    <tr>\n",
       "      <th>2</th>\n",
       "      <td>20</td>\n",
       "      <td>Chachamayo Povice</td>\n",
       "      <td>Peu</td>\n",
       "      <td></td>\n",
       "      <td>70.0</td>\n",
       "      <td>A. Moi</td>\n",
       "      <td>Face</td>\n",
       "      <td>3.50</td>\n",
       "      <td>1019</td>\n",
       "      <td>2013</td>\n",
       "      <td>2.0</td>\n",
       "      <td>1.0</td>\n",
       "      <td>[70.0, 3.5, 2.0, 2013.0]</td>\n",
       "    </tr>\n",
       "    <tr>\n",
       "      <th>3</th>\n",
       "      <td>22</td>\n",
       "      <td>Bolivia</td>\n",
       "      <td>Bolivia</td>\n",
       "      <td></td>\n",
       "      <td>70.0</td>\n",
       "      <td>A. Moi</td>\n",
       "      <td>Face</td>\n",
       "      <td>3.50</td>\n",
       "      <td>797</td>\n",
       "      <td>2012</td>\n",
       "      <td>6.0</td>\n",
       "      <td>1.0</td>\n",
       "      <td>[70.0, 3.5, 6.0, 2012.0]</td>\n",
       "    </tr>\n",
       "    <tr>\n",
       "      <th>4</th>\n",
       "      <td>27</td>\n",
       "      <td>Vaua Levu Toto-A</td>\n",
       "      <td>Fiji</td>\n",
       "      <td>Tiitaio</td>\n",
       "      <td>80.0</td>\n",
       "      <td>Adi</td>\n",
       "      <td>Fiji</td>\n",
       "      <td>3.25</td>\n",
       "      <td>705</td>\n",
       "      <td>2011</td>\n",
       "      <td>33.0</td>\n",
       "      <td>43.0</td>\n",
       "      <td>[80.0, 3.25, 33.0, 2011.0]</td>\n",
       "    </tr>\n",
       "  </tbody>\n",
       "</table>\n",
       "</div>"
      ],
      "text/plain": [
       "   chocolateid       bar_location bean_origin bean_type  cocoa_percent  \\\n",
       "0           15           Colombie    Colombia                     70.0   \n",
       "1           18              Chuao    Veezuela   Tiitaio           70.0   \n",
       "2           20  Chachamayo Povice         Peu                     70.0   \n",
       "3           22            Bolivia     Bolivia                     70.0   \n",
       "4           27   Vaua Levu Toto-A        Fiji   Tiitaio           80.0   \n",
       "\n",
       "  company company_location  rating   ref  review_date  origin  label  \\\n",
       "0  A. Moi             Face    2.75  1015         2013    12.0    1.0   \n",
       "1  A. Moi             Face    4.00  1015         2013     0.0    1.0   \n",
       "2  A. Moi             Face    3.50  1019         2013     2.0    1.0   \n",
       "3  A. Moi             Face    3.50   797         2012     6.0    1.0   \n",
       "4     Adi             Fiji    3.25   705         2011    33.0   43.0   \n",
       "\n",
       "                     features  \n",
       "0  [70.0, 2.75, 12.0, 2013.0]  \n",
       "1    [70.0, 4.0, 0.0, 2013.0]  \n",
       "2    [70.0, 3.5, 2.0, 2013.0]  \n",
       "3    [70.0, 3.5, 6.0, 2012.0]  \n",
       "4  [80.0, 3.25, 33.0, 2011.0]  "
      ]
     },
     "metadata": {},
     "output_type": "display_data"
    }
   ],
   "source": [
    "assembler = VectorAssembler(\n",
    "    inputCols=['cocoa_percent', 'rating', 'origin', 'review_date'],\n",
    "    outputCol='features')\n",
    "\n",
    "trainingData = assembler.transform(training2)\n",
    "showDF(trainingData)"
   ]
  },
  {
   "cell_type": "markdown",
   "metadata": {},
   "source": [
    "#### We must also do this with the testing set"
   ]
  },
  {
   "cell_type": "code",
   "execution_count": 15,
   "metadata": {},
   "outputs": [],
   "source": [
    "labelIndexer2 = StringIndexer(inputCol=\"bean_origin\", outputCol=\"origin\", handleInvalid='keep')\n",
    "testing1 = labelIndexer2.fit(test).transform(test)\n",
    "\n",
    "labelIndexer4 = StringIndexer(inputCol=\"company_location\", outputCol=\"label\", handleInvalid='keep')\n",
    "testing2 = labelIndexer4.fit(testing1).transform(testing1)"
   ]
  },
  {
   "cell_type": "code",
   "execution_count": 16,
   "metadata": {},
   "outputs": [
    {
     "data": {
      "text/html": [
       "<div>\n",
       "<style scoped>\n",
       "    .dataframe tbody tr th:only-of-type {\n",
       "        vertical-align: middle;\n",
       "    }\n",
       "\n",
       "    .dataframe tbody tr th {\n",
       "        vertical-align: top;\n",
       "    }\n",
       "\n",
       "    .dataframe thead th {\n",
       "        text-align: right;\n",
       "    }\n",
       "</style>\n",
       "<table border=\"1\" class=\"dataframe\">\n",
       "  <thead>\n",
       "    <tr style=\"text-align: right;\">\n",
       "      <th></th>\n",
       "      <th>chocolateid</th>\n",
       "      <th>bar_location</th>\n",
       "      <th>bean_origin</th>\n",
       "      <th>bean_type</th>\n",
       "      <th>cocoa_percent</th>\n",
       "      <th>company</th>\n",
       "      <th>company_location</th>\n",
       "      <th>rating</th>\n",
       "      <th>ref</th>\n",
       "      <th>review_date</th>\n",
       "      <th>origin</th>\n",
       "      <th>label</th>\n",
       "      <th>features</th>\n",
       "    </tr>\n",
       "  </thead>\n",
       "  <tbody>\n",
       "    <tr>\n",
       "      <th>0</th>\n",
       "      <td>3</td>\n",
       "      <td>Atsae</td>\n",
       "      <td>Togo</td>\n",
       "      <td></td>\n",
       "      <td>70.0</td>\n",
       "      <td>A. Moi</td>\n",
       "      <td>Face</td>\n",
       "      <td>3.00</td>\n",
       "      <td>1676</td>\n",
       "      <td>2015</td>\n",
       "      <td>29.0</td>\n",
       "      <td>1.0</td>\n",
       "      <td>[70.0, 3.0, 29.0, 2015.0]</td>\n",
       "    </tr>\n",
       "    <tr>\n",
       "      <th>1</th>\n",
       "      <td>9</td>\n",
       "      <td>Pueto Cabello</td>\n",
       "      <td>Veezuela</td>\n",
       "      <td>Ciollo</td>\n",
       "      <td>70.0</td>\n",
       "      <td>A. Moi</td>\n",
       "      <td>Face</td>\n",
       "      <td>3.75</td>\n",
       "      <td>1319</td>\n",
       "      <td>2014</td>\n",
       "      <td>0.0</td>\n",
       "      <td>1.0</td>\n",
       "      <td>[70.0, 3.75, 0.0, 2014.0]</td>\n",
       "    </tr>\n",
       "    <tr>\n",
       "      <th>2</th>\n",
       "      <td>12</td>\n",
       "      <td>Madagasca</td>\n",
       "      <td>Madagasca</td>\n",
       "      <td>Ciollo</td>\n",
       "      <td>70.0</td>\n",
       "      <td>A. Moi</td>\n",
       "      <td>Face</td>\n",
       "      <td>3.00</td>\n",
       "      <td>1011</td>\n",
       "      <td>2013</td>\n",
       "      <td>3.0</td>\n",
       "      <td>1.0</td>\n",
       "      <td>[70.0, 3.0, 3.0, 2013.0]</td>\n",
       "    </tr>\n",
       "    <tr>\n",
       "      <th>3</th>\n",
       "      <td>35</td>\n",
       "      <td>Mote Alege D. Badeo</td>\n",
       "      <td>Bazil</td>\n",
       "      <td>Foasteo</td>\n",
       "      <td>75.0</td>\n",
       "      <td>Akesso's (Palus)</td>\n",
       "      <td>Switzelad</td>\n",
       "      <td>2.75</td>\n",
       "      <td>508</td>\n",
       "      <td>2010</td>\n",
       "      <td>5.0</td>\n",
       "      <td>7.0</td>\n",
       "      <td>[75.0, 2.75, 5.0, 2010.0]</td>\n",
       "    </tr>\n",
       "    <tr>\n",
       "      <th>4</th>\n",
       "      <td>87</td>\n",
       "      <td>Toscao Black</td>\n",
       "      <td></td>\n",
       "      <td>Bled</td>\n",
       "      <td>70.0</td>\n",
       "      <td>Amedei</td>\n",
       "      <td>Italy</td>\n",
       "      <td>5.00</td>\n",
       "      <td>40</td>\n",
       "      <td>2006</td>\n",
       "      <td>6.0</td>\n",
       "      <td>12.0</td>\n",
       "      <td>[70.0, 5.0, 6.0, 2006.0]</td>\n",
       "    </tr>\n",
       "  </tbody>\n",
       "</table>\n",
       "</div>"
      ],
      "text/plain": [
       "   chocolateid         bar_location bean_origin bean_type  cocoa_percent  \\\n",
       "0            3                Atsae        Togo                     70.0   \n",
       "1            9        Pueto Cabello    Veezuela    Ciollo           70.0   \n",
       "2           12            Madagasca   Madagasca    Ciollo           70.0   \n",
       "3           35  Mote Alege D. Badeo       Bazil   Foasteo           75.0   \n",
       "4           87         Toscao Black                  Bled           70.0   \n",
       "\n",
       "            company company_location  rating   ref  review_date  origin  \\\n",
       "0            A. Moi             Face    3.00  1676         2015    29.0   \n",
       "1            A. Moi             Face    3.75  1319         2014     0.0   \n",
       "2            A. Moi             Face    3.00  1011         2013     3.0   \n",
       "3  Akesso's (Palus)        Switzelad    2.75   508         2010     5.0   \n",
       "4            Amedei            Italy    5.00    40         2006     6.0   \n",
       "\n",
       "   label                   features  \n",
       "0    1.0  [70.0, 3.0, 29.0, 2015.0]  \n",
       "1    1.0  [70.0, 3.75, 0.0, 2014.0]  \n",
       "2    1.0   [70.0, 3.0, 3.0, 2013.0]  \n",
       "3    7.0  [75.0, 2.75, 5.0, 2010.0]  \n",
       "4   12.0   [70.0, 5.0, 6.0, 2006.0]  "
      ]
     },
     "metadata": {},
     "output_type": "display_data"
    }
   ],
   "source": [
    "assembler1 = VectorAssembler(\n",
    "    inputCols=['cocoa_percent', 'rating', 'origin', 'review_date'],\n",
    "    outputCol='features')\n",
    "\n",
    "testingData = assembler1.transform(testing2)\n",
    "\n",
    "showDF(testingData)"
   ]
  },
  {
   "cell_type": "markdown",
   "metadata": {},
   "source": [
    "### Now it's time to to use NaiveBayes. We will train the model, then use that model with out testing data to get our predictions. \n",
    "https://spark.apache.org/docs/2.2.0/ml-classification-regression.html#naive-bayes"
   ]
  },
  {
   "cell_type": "code",
   "execution_count": 17,
   "metadata": {},
   "outputs": [
    {
     "name": "stdout",
     "output_type": "stream",
     "text": [
      "302\n"
     ]
    },
    {
     "data": {
      "text/html": [
       "<div>\n",
       "<style scoped>\n",
       "    .dataframe tbody tr th:only-of-type {\n",
       "        vertical-align: middle;\n",
       "    }\n",
       "\n",
       "    .dataframe tbody tr th {\n",
       "        vertical-align: top;\n",
       "    }\n",
       "\n",
       "    .dataframe thead th {\n",
       "        text-align: right;\n",
       "    }\n",
       "</style>\n",
       "<table border=\"1\" class=\"dataframe\">\n",
       "  <thead>\n",
       "    <tr style=\"text-align: right;\">\n",
       "      <th></th>\n",
       "      <th>chocolateid</th>\n",
       "      <th>bar_location</th>\n",
       "      <th>bean_origin</th>\n",
       "      <th>bean_type</th>\n",
       "      <th>cocoa_percent</th>\n",
       "      <th>company</th>\n",
       "      <th>company_location</th>\n",
       "      <th>rating</th>\n",
       "      <th>ref</th>\n",
       "      <th>review_date</th>\n",
       "      <th>origin</th>\n",
       "      <th>label</th>\n",
       "      <th>features</th>\n",
       "      <th>rawPrediction</th>\n",
       "      <th>probability</th>\n",
       "      <th>prediction</th>\n",
       "    </tr>\n",
       "  </thead>\n",
       "  <tbody>\n",
       "    <tr>\n",
       "      <th>0</th>\n",
       "      <td>3</td>\n",
       "      <td>Atsae</td>\n",
       "      <td>Togo</td>\n",
       "      <td></td>\n",
       "      <td>70.0</td>\n",
       "      <td>A. Moi</td>\n",
       "      <td>Face</td>\n",
       "      <td>3.00</td>\n",
       "      <td>1676</td>\n",
       "      <td>2015</td>\n",
       "      <td>29.0</td>\n",
       "      <td>1.0</td>\n",
       "      <td>[70.0, 3.0, 29.0, 2015.0]</td>\n",
       "      <td>[-494.5865851396419, -489.1407158785233, -492....</td>\n",
       "      <td>[0.00019893900890165727, 0.04611380080723301, ...</td>\n",
       "      <td>11.0</td>\n",
       "    </tr>\n",
       "    <tr>\n",
       "      <th>1</th>\n",
       "      <td>9</td>\n",
       "      <td>Pueto Cabello</td>\n",
       "      <td>Veezuela</td>\n",
       "      <td>Ciollo</td>\n",
       "      <td>70.0</td>\n",
       "      <td>A. Moi</td>\n",
       "      <td>Face</td>\n",
       "      <td>3.75</td>\n",
       "      <td>1319</td>\n",
       "      <td>2014</td>\n",
       "      <td>0.0</td>\n",
       "      <td>1.0</td>\n",
       "      <td>[70.0, 3.75, 0.0, 2014.0]</td>\n",
       "      <td>[-344.94040813896777, -352.09233876864727, -34...</td>\n",
       "      <td>[0.000660398940731061, 5.17323682720788e-07, 5...</td>\n",
       "      <td>13.0</td>\n",
       "    </tr>\n",
       "    <tr>\n",
       "      <th>2</th>\n",
       "      <td>12</td>\n",
       "      <td>Madagasca</td>\n",
       "      <td>Madagasca</td>\n",
       "      <td>Ciollo</td>\n",
       "      <td>70.0</td>\n",
       "      <td>A. Moi</td>\n",
       "      <td>Face</td>\n",
       "      <td>3.00</td>\n",
       "      <td>1011</td>\n",
       "      <td>2013</td>\n",
       "      <td>3.0</td>\n",
       "      <td>1.0</td>\n",
       "      <td>[70.0, 3.0, 3.0, 2013.0]</td>\n",
       "      <td>[-356.0028528185422, -361.8741761796009, -360....</td>\n",
       "      <td>[0.15086941470176607, 0.0004253220204865153, 0...</td>\n",
       "      <td>5.0</td>\n",
       "    </tr>\n",
       "    <tr>\n",
       "      <th>3</th>\n",
       "      <td>35</td>\n",
       "      <td>Mote Alege D. Badeo</td>\n",
       "      <td>Bazil</td>\n",
       "      <td>Foasteo</td>\n",
       "      <td>75.0</td>\n",
       "      <td>Akesso's (Palus)</td>\n",
       "      <td>Switzelad</td>\n",
       "      <td>2.75</td>\n",
       "      <td>508</td>\n",
       "      <td>2010</td>\n",
       "      <td>5.0</td>\n",
       "      <td>7.0</td>\n",
       "      <td>[75.0, 2.75, 5.0, 2010.0]</td>\n",
       "      <td>[-381.8006658518986, -386.787296675969, -385.2...</td>\n",
       "      <td>[0.5020013914547213, 0.0034279830887033883, 0....</td>\n",
       "      <td>0.0</td>\n",
       "    </tr>\n",
       "    <tr>\n",
       "      <th>4</th>\n",
       "      <td>87</td>\n",
       "      <td>Toscao Black</td>\n",
       "      <td></td>\n",
       "      <td>Bled</td>\n",
       "      <td>70.0</td>\n",
       "      <td>Amedei</td>\n",
       "      <td>Italy</td>\n",
       "      <td>5.00</td>\n",
       "      <td>40</td>\n",
       "      <td>2006</td>\n",
       "      <td>6.0</td>\n",
       "      <td>12.0</td>\n",
       "      <td>[70.0, 5.0, 6.0, 2006.0]</td>\n",
       "      <td>[-384.70049806103356, -389.1679061660493, -387...</td>\n",
       "      <td>[0.567148650619069, 0.006509179001035897, 0.02...</td>\n",
       "      <td>0.0</td>\n",
       "    </tr>\n",
       "  </tbody>\n",
       "</table>\n",
       "</div>"
      ],
      "text/plain": [
       "   chocolateid         bar_location bean_origin bean_type  cocoa_percent  \\\n",
       "0            3                Atsae        Togo                     70.0   \n",
       "1            9        Pueto Cabello    Veezuela    Ciollo           70.0   \n",
       "2           12            Madagasca   Madagasca    Ciollo           70.0   \n",
       "3           35  Mote Alege D. Badeo       Bazil   Foasteo           75.0   \n",
       "4           87         Toscao Black                  Bled           70.0   \n",
       "\n",
       "            company company_location  rating   ref  review_date  origin  \\\n",
       "0            A. Moi             Face    3.00  1676         2015    29.0   \n",
       "1            A. Moi             Face    3.75  1319         2014     0.0   \n",
       "2            A. Moi             Face    3.00  1011         2013     3.0   \n",
       "3  Akesso's (Palus)        Switzelad    2.75   508         2010     5.0   \n",
       "4            Amedei            Italy    5.00    40         2006     6.0   \n",
       "\n",
       "   label                   features  \\\n",
       "0    1.0  [70.0, 3.0, 29.0, 2015.0]   \n",
       "1    1.0  [70.0, 3.75, 0.0, 2014.0]   \n",
       "2    1.0   [70.0, 3.0, 3.0, 2013.0]   \n",
       "3    7.0  [75.0, 2.75, 5.0, 2010.0]   \n",
       "4   12.0   [70.0, 5.0, 6.0, 2006.0]   \n",
       "\n",
       "                                       rawPrediction  \\\n",
       "0  [-494.5865851396419, -489.1407158785233, -492....   \n",
       "1  [-344.94040813896777, -352.09233876864727, -34...   \n",
       "2  [-356.0028528185422, -361.8741761796009, -360....   \n",
       "3  [-381.8006658518986, -386.787296675969, -385.2...   \n",
       "4  [-384.70049806103356, -389.1679061660493, -387...   \n",
       "\n",
       "                                         probability  prediction  \n",
       "0  [0.00019893900890165727, 0.04611380080723301, ...        11.0  \n",
       "1  [0.000660398940731061, 5.17323682720788e-07, 5...        13.0  \n",
       "2  [0.15086941470176607, 0.0004253220204865153, 0...         5.0  \n",
       "3  [0.5020013914547213, 0.0034279830887033883, 0....         0.0  \n",
       "4  [0.567148650619069, 0.006509179001035897, 0.02...         0.0  "
      ]
     },
     "metadata": {},
     "output_type": "display_data"
    }
   ],
   "source": [
    "nb = NaiveBayes(smoothing=1.0, modelType=\"multinomial\")\n",
    "\n",
    "# train the model\n",
    "model = nb.fit(trainingData)\n",
    "\n",
    "predictions = model.transform(testingData)\n",
    "#predictions.show()\n",
    "print (predictions.count())\n",
    "showDF(predictions)"
   ]
  },
  {
   "cell_type": "markdown",
   "metadata": {},
   "source": [
    "#### Let's just look at a few. "
   ]
  },
  {
   "cell_type": "code",
   "execution_count": 18,
   "metadata": {},
   "outputs": [
    {
     "data": {
      "text/html": [
       "<div>\n",
       "<style scoped>\n",
       "    .dataframe tbody tr th:only-of-type {\n",
       "        vertical-align: middle;\n",
       "    }\n",
       "\n",
       "    .dataframe tbody tr th {\n",
       "        vertical-align: top;\n",
       "    }\n",
       "\n",
       "    .dataframe thead th {\n",
       "        text-align: right;\n",
       "    }\n",
       "</style>\n",
       "<table border=\"1\" class=\"dataframe\">\n",
       "  <thead>\n",
       "    <tr style=\"text-align: right;\">\n",
       "      <th></th>\n",
       "      <th>company_location</th>\n",
       "      <th>label</th>\n",
       "      <th>prediction</th>\n",
       "      <th>probability</th>\n",
       "    </tr>\n",
       "  </thead>\n",
       "  <tbody>\n",
       "    <tr>\n",
       "      <th>0</th>\n",
       "      <td>Face</td>\n",
       "      <td>1.0</td>\n",
       "      <td>11.0</td>\n",
       "      <td>[0.0001945081139786896, 0.0459617169586473, 0....</td>\n",
       "    </tr>\n",
       "    <tr>\n",
       "      <th>1</th>\n",
       "      <td>Face</td>\n",
       "      <td>1.0</td>\n",
       "      <td>13.0</td>\n",
       "      <td>[0.0006661252296518849, 5.02130696622614e-07, ...</td>\n",
       "    </tr>\n",
       "    <tr>\n",
       "      <th>2</th>\n",
       "      <td>Face</td>\n",
       "      <td>1.0</td>\n",
       "      <td>34.0</td>\n",
       "      <td>[2.5777630948886505e-12, 6.488646004286663e-07...</td>\n",
       "    </tr>\n",
       "    <tr>\n",
       "      <th>3</th>\n",
       "      <td>U.S.A.</td>\n",
       "      <td>0.0</td>\n",
       "      <td>1.0</td>\n",
       "      <td>[0.20165984233196993, 0.23871437656668387, 0.0...</td>\n",
       "    </tr>\n",
       "    <tr>\n",
       "      <th>4</th>\n",
       "      <td>Italy</td>\n",
       "      <td>12.0</td>\n",
       "      <td>1.0</td>\n",
       "      <td>[0.09292845543353158, 0.28869052344325646, 0.0...</td>\n",
       "    </tr>\n",
       "  </tbody>\n",
       "</table>\n",
       "</div>"
      ],
      "text/plain": [
       "  company_location  label  prediction  \\\n",
       "0             Face    1.0        11.0   \n",
       "1             Face    1.0        13.0   \n",
       "2             Face    1.0        34.0   \n",
       "3           U.S.A.    0.0         1.0   \n",
       "4            Italy   12.0         1.0   \n",
       "\n",
       "                                         probability  \n",
       "0  [0.0001945081139786896, 0.0459617169586473, 0....  \n",
       "1  [0.0006661252296518849, 5.02130696622614e-07, ...  \n",
       "2  [2.5777630948886505e-12, 6.488646004286663e-07...  \n",
       "3  [0.20165984233196993, 0.23871437656668387, 0.0...  \n",
       "4  [0.09292845543353158, 0.28869052344325646, 0.0...  "
      ]
     },
     "metadata": {},
     "output_type": "display_data"
    }
   ],
   "source": [
    "showDF(predictions.select(\"company_location\", \"label\", \"prediction\", \"probability\"))"
   ]
  },
  {
   "cell_type": "markdown",
   "metadata": {},
   "source": [
    "### We can now use the MutliclassClassifciationEvaluator to evalute the accurancy of our predictions. "
   ]
  },
  {
   "cell_type": "code",
   "execution_count": 19,
   "metadata": {},
   "outputs": [
    {
     "name": "stdout",
     "output_type": "stream",
     "text": [
      "Test set accuracy = 0.183606557377\n"
     ]
    }
   ],
   "source": [
    "# compute accuracy on the test set\n",
    "evaluator = MulticlassClassificationEvaluator(labelCol=\"label\", predictionCol=\"prediction\",\n",
    "                                              metricName=\"accuracy\")\n",
    "accuracy = evaluator.evaluate(predictions)\n",
    "print(\"Test set accuracy = \" + str(accuracy))"
   ]
  },
  {
   "cell_type": "markdown",
   "metadata": {},
   "source": [
    "### X amount of the time if we know the cocoa percentage, where the bean was grown, and the rating we can figure out what country produced this candy bar. Pretty interesting. "
   ]
  },
  {
   "cell_type": "markdown",
   "metadata": {},
   "source": [
    "#### Go and try to see what else you can predict? Can you predict the rating based on these attributes? "
   ]
  },
  {
   "cell_type": "markdown",
   "metadata": {},
   "source": [
    "### Reference: \n",
    "* https://databricks-prod-cloudfront.cloud.databricks.com/public/4027ec902e239c93eaaa8714f173bcfc/3741049972324885/3783546674231736/4413065072037724/latest.html\n",
    "* https://www.kaggle.com/rtatman/chocolate-bar-ratings\n",
    "* https://en.wikipedia.org/wiki/Naive_Bayes_classifier"
   ]
  }
 ],
 "metadata": {
  "kernelspec": {
   "display_name": "Python 2",
   "language": "python",
   "name": "python2"
  },
  "language_info": {
   "codemirror_mode": {
    "name": "ipython",
    "version": 2
   },
   "file_extension": ".py",
   "mimetype": "text/x-python",
   "name": "python",
   "nbconvert_exporter": "python",
   "pygments_lexer": "ipython2",
   "version": "2.7.10"
  }
 },
 "nbformat": 4,
 "nbformat_minor": 2
}
