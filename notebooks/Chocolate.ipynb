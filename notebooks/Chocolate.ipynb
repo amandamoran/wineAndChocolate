{
 "cells": [
  {
   "cell_type": "markdown",
   "metadata": {},
   "source": [
    "# Classification and Clustering Algorithms paired with Wine and Chocolate\n",
    "------\n",
    "<img src=\"images/wineAndChocolate.jpg\" width=\"500\" height=\"500\">\n",
    "\n",
    "## A demo using DataStax Enterprise Analytics, Apache Cassandra, Apache Spark, Python, Jupyter Notebooks, Spark MlLib, and Naive Bayes. \n",
    "\n",
    "#### Real dataset: https://www.kaggle.com/rtatman/chocolate-bar-ratings\n",
    "\n",
    "#### Most recent updates by Manhattan Cholocate Society: http://flavorsofcacao.com/index.html"
   ]
  },
  {
   "cell_type": "markdown",
   "metadata": {},
   "source": [
    "## What are we trying to learn from this dataset? \n",
    "\n",
    "# QUESTION:  If I have some information about a chocolate bar can I predict which country produced this cholocate? \n"
   ]
  },
  {
   "cell_type": "markdown",
   "metadata": {},
   "source": [
    "## Import python packages -- all are required\n",
    "* Need to tell Jupyter to display with %matplotlib otherwise you will generate the plot but not display it"
   ]
  },
  {
   "cell_type": "code",
   "execution_count": 1,
   "metadata": {},
   "outputs": [],
   "source": [
    "%matplotlib inline\n",
    "import matplotlib.pyplot as plt"
   ]
  },
  {
   "cell_type": "code",
   "execution_count": 2,
   "metadata": {},
   "outputs": [],
   "source": [
    "import pandas\n",
    "import cassandra\n",
    "import pyspark\n",
    "import re\n",
    "import os\n",
    "import matplotlib.pyplot as plt\n",
    "from IPython.display import display, Markdown\n",
    "from pyspark.sql import SparkSession\n",
    "from pyspark.ml.classification import NaiveBayes\n",
    "from pyspark.ml.evaluation import MulticlassClassificationEvaluator\n",
    "from pyspark.ml.linalg import Vectors\n",
    "from pyspark.ml.feature import VectorAssembler\n",
    "from pyspark.ml.feature import StringIndexer"
   ]
  },
  {
   "cell_type": "markdown",
   "metadata": {},
   "source": [
    "### Helper function to have nicer formatting of Spark DataFrames\n",
    "* Credit to the folks are Netflix for this pretty code."
   ]
  },
  {
   "cell_type": "code",
   "execution_count": 3,
   "metadata": {},
   "outputs": [],
   "source": [
    "#Helper for pretty formatting for Spark DataFrames\n",
    "def showDF(df, limitRows =  5, truncate = True):\n",
    "    if(truncate):\n",
    "        pandas.set_option('display.max_colwidth', 50)\n",
    "    else:\n",
    "        pandas.set_option('display.max_colwidth', -1)\n",
    "    pandas.set_option('display.max_rows', limitRows)\n",
    "    display(df.limit(limitRows).toPandas())\n",
    "    pandas.reset_option('display.max_rows')"
   ]
  },
  {
   "cell_type": "markdown",
   "metadata": {},
   "source": [
    "# DataStax Enterprise Analytics\n",
    "<img src=\"images/dselogo.png\" width=\"400\" height=\"200\">"
   ]
  },
  {
   "cell_type": "markdown",
   "metadata": {},
   "source": [
    "## Creating Tables and Loading Tables"
   ]
  },
  {
   "cell_type": "markdown",
   "metadata": {},
   "source": [
    "## Connect to DSE Analytics Cluster"
   ]
  },
  {
   "cell_type": "code",
   "execution_count": 4,
   "metadata": {},
   "outputs": [],
   "source": [
    "from cassandra.cluster import Cluster\n",
    "\n",
    "cluster = Cluster(['127.0.01'])\n",
    "session = cluster.connect()"
   ]
  },
  {
   "cell_type": "markdown",
   "metadata": {},
   "source": [
    "## Create Demo Keyspace "
   ]
  },
  {
   "cell_type": "code",
   "execution_count": 5,
   "metadata": {},
   "outputs": [
    {
     "data": {
      "text/plain": [
       "<cassandra.cluster.ResultSet at 0x119f11450>"
      ]
     },
     "execution_count": 5,
     "metadata": {},
     "output_type": "execute_result"
    }
   ],
   "source": [
    "session.execute(\"\"\"\n",
    "    CREATE KEYSPACE IF NOT EXISTS wineChocolate \n",
    "    WITH REPLICATION = \n",
    "    { 'class' : 'SimpleStrategy', 'replication_factor' : 1 }\"\"\"\n",
    ")"
   ]
  },
  {
   "cell_type": "markdown",
   "metadata": {},
   "source": [
    "## Set keyspace "
   ]
  },
  {
   "cell_type": "code",
   "execution_count": 6,
   "metadata": {},
   "outputs": [],
   "source": [
    "session.set_keyspace('winechocolate')"
   ]
  },
  {
   "cell_type": "markdown",
   "metadata": {},
   "source": [
    "### Create table called chocoloate. Our PRIMARY will be a unique key we generate for each row. This will result in an even distribution of the data but we will have to utilize that PRIMARY KEY in our WHERE clause in any of our CQL queries. "
   ]
  },
  {
   "cell_type": "code",
   "execution_count": 7,
   "metadata": {},
   "outputs": [
    {
     "data": {
      "text/plain": [
       "<cassandra.cluster.ResultSet at 0x117f7c510>"
      ]
     },
     "execution_count": 7,
     "metadata": {},
     "output_type": "execute_result"
    }
   ],
   "source": [
    "query = \"CREATE TABLE IF NOT EXISTS chocolate \\\n",
    "                                   (chocolateid int, company text, bar_location text, ref int, \\\n",
    "                                   review_date int, cocoa_percent float, company_location text, rating float, \\\n",
    "                                   bean_type text, bean_origin text, \\\n",
    "                                   PRIMARY KEY (chocolateid))\"\n",
    "session.execute(query)\n"
   ]
  },
  {
   "cell_type": "markdown",
   "metadata": {},
   "source": [
    "## Columns \n",
    "* Chocoloate Id: Unique id to each bar \n",
    "* Company: Company Name of the company manufacturing the bar.\n",
    "* Bar Location: Specific Bean Origin\n",
    "* REF: Id when the review was entered in the database. Higher = more recent.\n",
    "* Review Date: Review Date\n",
    "* Cocoa Percentage: Cocoa percentage (darkness) of the chocolate bar being reviewed.\n",
    "* Company Location: Manufacturer base country.\n",
    "* Rating: Expert rating for the bar. (1-5)\n",
    "* Bean Type: The variety (breed) of bean used, if provided.\n",
    "* Bean Origin: The broad geo-region of origin for the bean."
   ]
  },
  {
   "cell_type": "markdown",
   "metadata": {},
   "source": [
    "## Load Flavors of Cacao Dataset\n",
    "<img src=\"images/chocolatePic.jpeg\" width=\"300\" height=\"300\">\n"
   ]
  },
  {
   "cell_type": "markdown",
   "metadata": {},
   "source": [
    "## Load from CSV file (chocolateFinal.csv)"
   ]
  },
  {
   "cell_type": "markdown",
   "metadata": {},
   "source": [
    "### Had to do some data cleaning to load this data. Removed `%`, removed extra commas, removed ``\"``, removed extra commons that existed in the company name. This preprocessing was done by me and is availble in chocolateFinal.csv"
   ]
  },
  {
   "cell_type": "markdown",
   "metadata": {},
   "source": [
    "#### Insert all the Cholocate Data into the Apache Cassandra table `chocolate`"
   ]
  },
  {
   "cell_type": "code",
   "execution_count": 8,
   "metadata": {},
   "outputs": [],
   "source": [
    "fileName = 'data/chocolateFinal.csv'\n",
    "input_file = open(fileName, 'r')\n",
    "i = 1\n",
    "\n",
    "for line in input_file:\n",
    "    chocolateId = i \n",
    "    columns = line.split(',')\n",
    "    if columns[7] == \"\\xc2\\xa0\":\n",
    "        columns[7] = \"\"\n",
    "    columns[8] = columns[8].rstrip(\"\\r\\n\")\n",
    "    \n",
    "    query = \"INSERT INTO chocolate (chocolateid, company, bar_location, ref, review_date, cocoa_percent, \\\n",
    "                                    company_location, rating, bean_type, bean_origin)\"\n",
    "    query = query + \" VALUES (%s, %s, %s, %s, %s, %s, %s, %s, %s, %s)\"\n",
    "    session.execute(query, (chocolateId, columns[0], columns[1], int(columns[2]), int(columns[3]), \n",
    "                    float(columns[4]), columns[5], float(columns[6]), columns[7], columns[8]))\n",
    "    i = i + 1"
   ]
  },
  {
   "cell_type": "markdown",
   "metadata": {},
   "source": [
    "### Do a select * on each table and verify that the data have been inserted into the Apache Cassandra table"
   ]
  },
  {
   "cell_type": "code",
   "execution_count": 9,
   "metadata": {
    "scrolled": true
   },
   "outputs": [
    {
     "name": "stdout",
     "output_type": "stream",
     "text": [
      "(200, u'Sambiao 2009', 565, 2010, 70.0, u'U.S.A.', 3.0, u'Tiitaio', u'Madagasca')\n"
     ]
    }
   ],
   "source": [
    "query = 'SELECT * FROM chocolate WHERE chocolateid=200'\n",
    "rows = session.execute(query)\n",
    "for row in rows:\n",
    "    print (row.chocolateid, row.bar_location, row.ref, row.review_date, row.cocoa_percent, row.company_location,\n",
    "          row.rating, row.bean_type, row.bean_origin)"
   ]
  },
  {
   "cell_type": "markdown",
   "metadata": {},
   "source": [
    "## DSE Analytics with Apache Spark\n",
    "<img src=\"images/sparklogo.png\" width=\"150\" height=\"200\">"
   ]
  },
  {
   "cell_type": "markdown",
   "metadata": {},
   "source": [
    "### Finally time for Apache Spark! "
   ]
  },
  {
   "cell_type": "markdown",
   "metadata": {},
   "source": [
    "#### Create a spark session that is connected to Apache Cassandra. From there load each table into a Spark Dataframe and take a count of the number of rows in each."
   ]
  },
  {
   "cell_type": "code",
   "execution_count": 10,
   "metadata": {},
   "outputs": [
    {
     "name": "stdout",
     "output_type": "stream",
     "text": [
      "Table Row Count: \n",
      "1795\n"
     ]
    }
   ],
   "source": [
    "spark = SparkSession.builder.appName('demo').master(\"local\").getOrCreate()\n",
    "\n",
    "\n",
    "chocolateTable = spark.read.format(\"org.apache.spark.sql.cassandra\").options(table=\"chocolate\", keyspace=\"winechocolate\").load()\n",
    "\n",
    "print (\"Table Row Count: \")\n",
    "print (chocolateTable.count())"
   ]
  },
  {
   "cell_type": "code",
   "execution_count": 11,
   "metadata": {},
   "outputs": [
    {
     "data": {
      "text/html": [
       "<div>\n",
       "<style scoped>\n",
       "    .dataframe tbody tr th:only-of-type {\n",
       "        vertical-align: middle;\n",
       "    }\n",
       "\n",
       "    .dataframe tbody tr th {\n",
       "        vertical-align: top;\n",
       "    }\n",
       "\n",
       "    .dataframe thead th {\n",
       "        text-align: right;\n",
       "    }\n",
       "</style>\n",
       "<table border=\"1\" class=\"dataframe\">\n",
       "  <thead>\n",
       "    <tr style=\"text-align: right;\">\n",
       "      <th></th>\n",
       "      <th>chocolateid</th>\n",
       "      <th>bar_location</th>\n",
       "      <th>bean_origin</th>\n",
       "      <th>bean_type</th>\n",
       "      <th>cocoa_percent</th>\n",
       "      <th>company</th>\n",
       "      <th>company_location</th>\n",
       "      <th>rating</th>\n",
       "      <th>ref</th>\n",
       "      <th>review_date</th>\n",
       "    </tr>\n",
       "  </thead>\n",
       "  <tbody>\n",
       "    <tr>\n",
       "      <th>0</th>\n",
       "      <td>728</td>\n",
       "      <td>Kaua'I Alea Estate +wold</td>\n",
       "      <td>Hawaii</td>\n",
       "      <td>Bled</td>\n",
       "      <td>85.0</td>\n",
       "      <td>Gade Islad</td>\n",
       "      <td>U.S.A.</td>\n",
       "      <td>2.50</td>\n",
       "      <td>1367</td>\n",
       "      <td>2014</td>\n",
       "    </tr>\n",
       "    <tr>\n",
       "      <th>1</th>\n",
       "      <td>208</td>\n",
       "      <td>Pueto Plata</td>\n",
       "      <td>Domiica Republic</td>\n",
       "      <td></td>\n",
       "      <td>68.0</td>\n",
       "      <td>Bittesweet Oigis</td>\n",
       "      <td>U.S.A.</td>\n",
       "      <td>3.75</td>\n",
       "      <td>233</td>\n",
       "      <td>2008</td>\n",
       "    </tr>\n",
       "    <tr>\n",
       "      <th>2</th>\n",
       "      <td>1501</td>\n",
       "      <td>Solomo Islad w/ ibs</td>\n",
       "      <td>Solomo Islads</td>\n",
       "      <td></td>\n",
       "      <td>75.0</td>\n",
       "      <td>Solomos Gold</td>\n",
       "      <td>New Zealad</td>\n",
       "      <td>3.25</td>\n",
       "      <td>1796</td>\n",
       "      <td>2016</td>\n",
       "    </tr>\n",
       "    <tr>\n",
       "      <th>3</th>\n",
       "      <td>156</td>\n",
       "      <td>Sambiao</td>\n",
       "      <td>Madagasca</td>\n",
       "      <td>Tiitaio</td>\n",
       "      <td>70.0</td>\n",
       "      <td>Ba Au Chocolat</td>\n",
       "      <td>U.S.A.</td>\n",
       "      <td>3.75</td>\n",
       "      <td>983</td>\n",
       "      <td>2012</td>\n",
       "    </tr>\n",
       "    <tr>\n",
       "      <th>4</th>\n",
       "      <td>522</td>\n",
       "      <td>Budibugyo Distict</td>\n",
       "      <td>Ugada</td>\n",
       "      <td>Foasteo</td>\n",
       "      <td>70.0</td>\n",
       "      <td>De Villies</td>\n",
       "      <td>South Afica</td>\n",
       "      <td>2.50</td>\n",
       "      <td>1832</td>\n",
       "      <td>2016</td>\n",
       "    </tr>\n",
       "  </tbody>\n",
       "</table>\n",
       "</div>"
      ],
      "text/plain": [
       "   chocolateid              bar_location       bean_origin bean_type  \\\n",
       "0          728  Kaua'I Alea Estate +wold            Hawaii      Bled   \n",
       "1          208               Pueto Plata  Domiica Republic             \n",
       "2         1501       Solomo Islad w/ ibs     Solomo Islads             \n",
       "3          156                   Sambiao         Madagasca   Tiitaio   \n",
       "4          522         Budibugyo Distict             Ugada   Foasteo   \n",
       "\n",
       "   cocoa_percent           company company_location  rating   ref  review_date  \n",
       "0           85.0        Gade Islad           U.S.A.    2.50  1367         2014  \n",
       "1           68.0  Bittesweet Oigis           U.S.A.    3.75   233         2008  \n",
       "2           75.0      Solomos Gold       New Zealad    3.25  1796         2016  \n",
       "3           70.0    Ba Au Chocolat           U.S.A.    3.75   983         2012  \n",
       "4           70.0        De Villies      South Afica    2.50  1832         2016  "
      ]
     },
     "metadata": {},
     "output_type": "display_data"
    }
   ],
   "source": [
    "showDF(chocolateTable)"
   ]
  },
  {
   "cell_type": "markdown",
   "metadata": {},
   "source": [
    "### We will be training a model with Naive Bays, and because of this we need to split up our dataset in to a training and test set. Will split 80/20. "
   ]
  },
  {
   "cell_type": "code",
   "execution_count": 12,
   "metadata": {},
   "outputs": [
    {
     "name": "stdout",
     "output_type": "stream",
     "text": [
      "Train Dataframe Row Count: \n",
      "1493\n",
      "Test Datafram Row Count: \n",
      "304\n"
     ]
    }
   ],
   "source": [
    "# Split the data into train and test\n",
    "splits = chocolateTable.randomSplit([0.8, 0.2], 1234)\n",
    "train = splits[0]\n",
    "test = splits[1]\n",
    "\n",
    "print (\"Train Dataframe Row Count: \")\n",
    "print (train.count())\n",
    "print (\"Test Datafram Row Count: \")\n",
    "print (test.count())"
   ]
  },
  {
   "cell_type": "markdown",
   "metadata": {},
   "source": [
    "### Naive Bayes is a classifier algorthim, that can predict a label from a model built from known labels. \n",
    "\n",
    "### Requires that all values passed to the function be a float and  Vectorized.  We will create unique indexes for the Bean Origin, and our Label will be Company Location (what we are trying to predict). \n",
    "\n",
    "https://spark.apache.org/docs/latest/ml-features.html#stringindexer"
   ]
  },
  {
   "cell_type": "markdown",
   "metadata": {},
   "source": [
    "#### StringIndexers of Bean Origin and Company Location "
   ]
  },
  {
   "cell_type": "code",
   "execution_count": 13,
   "metadata": {},
   "outputs": [],
   "source": [
    "# Convert target into numerical categories\n",
    "\n",
    "labelIndexer = StringIndexer(inputCol=\"bean_origin\", outputCol=\"origin\", handleInvalid='keep')\n",
    "training1 = labelIndexer.fit(train).transform(train)\n",
    "\n",
    "labelIndexer2 = StringIndexer(inputCol=\"company_location\", outputCol=\"label\", handleInvalid='keep')\n",
    "training2 = labelIndexer2.fit(training1).transform(training1)"
   ]
  },
  {
   "cell_type": "markdown",
   "metadata": {},
   "source": [
    "#### Vectorization -- in this case we will assume that if I have the cocoa_percentage, the rating, the chocolate origin, and the review date that we can use that data to figure out the Country that produced this chocolate.  We end up with a new DataFrame called training  data. \n",
    "https://spark.apache.org/docs/latest/ml-features.html#vectorassembler"
   ]
  },
  {
   "cell_type": "code",
   "execution_count": 14,
   "metadata": {},
   "outputs": [
    {
     "data": {
      "text/html": [
       "<div>\n",
       "<style scoped>\n",
       "    .dataframe tbody tr th:only-of-type {\n",
       "        vertical-align: middle;\n",
       "    }\n",
       "\n",
       "    .dataframe tbody tr th {\n",
       "        vertical-align: top;\n",
       "    }\n",
       "\n",
       "    .dataframe thead th {\n",
       "        text-align: right;\n",
       "    }\n",
       "</style>\n",
       "<table border=\"1\" class=\"dataframe\">\n",
       "  <thead>\n",
       "    <tr style=\"text-align: right;\">\n",
       "      <th></th>\n",
       "      <th>chocolateid</th>\n",
       "      <th>bar_location</th>\n",
       "      <th>bean_origin</th>\n",
       "      <th>bean_type</th>\n",
       "      <th>cocoa_percent</th>\n",
       "      <th>company</th>\n",
       "      <th>company_location</th>\n",
       "      <th>rating</th>\n",
       "      <th>ref</th>\n",
       "      <th>review_date</th>\n",
       "      <th>origin</th>\n",
       "      <th>label</th>\n",
       "      <th>features</th>\n",
       "    </tr>\n",
       "  </thead>\n",
       "  <tbody>\n",
       "    <tr>\n",
       "      <th>0</th>\n",
       "      <td>14</td>\n",
       "      <td>Equateu</td>\n",
       "      <td>Ecuado</td>\n",
       "      <td></td>\n",
       "      <td>70.0</td>\n",
       "      <td>A. Moi</td>\n",
       "      <td>Face</td>\n",
       "      <td>3.75</td>\n",
       "      <td>1011</td>\n",
       "      <td>2013</td>\n",
       "      <td>1.0</td>\n",
       "      <td>1.0</td>\n",
       "      <td>[70.0, 3.75, 1.0, 2013.0]</td>\n",
       "    </tr>\n",
       "    <tr>\n",
       "      <th>1</th>\n",
       "      <td>17</td>\n",
       "      <td>Papua New Guiea</td>\n",
       "      <td>Papua New Guiea</td>\n",
       "      <td></td>\n",
       "      <td>70.0</td>\n",
       "      <td>A. Moi</td>\n",
       "      <td>Face</td>\n",
       "      <td>3.25</td>\n",
       "      <td>1015</td>\n",
       "      <td>2013</td>\n",
       "      <td>10.0</td>\n",
       "      <td>1.0</td>\n",
       "      <td>[70.0, 3.25, 10.0, 2013.0]</td>\n",
       "    </tr>\n",
       "    <tr>\n",
       "      <th>2</th>\n",
       "      <td>21</td>\n",
       "      <td>Chachamayo Povice</td>\n",
       "      <td>Peu</td>\n",
       "      <td></td>\n",
       "      <td>63.0</td>\n",
       "      <td>A. Moi</td>\n",
       "      <td>Face</td>\n",
       "      <td>4.00</td>\n",
       "      <td>1019</td>\n",
       "      <td>2013</td>\n",
       "      <td>2.0</td>\n",
       "      <td>1.0</td>\n",
       "      <td>[63.0, 4.0, 2.0, 2013.0]</td>\n",
       "    </tr>\n",
       "    <tr>\n",
       "      <th>3</th>\n",
       "      <td>24</td>\n",
       "      <td>Chulucaas El Plataal</td>\n",
       "      <td>Peu</td>\n",
       "      <td></td>\n",
       "      <td>70.0</td>\n",
       "      <td>Acalli</td>\n",
       "      <td>U.S.A.</td>\n",
       "      <td>3.75</td>\n",
       "      <td>1462</td>\n",
       "      <td>2015</td>\n",
       "      <td>2.0</td>\n",
       "      <td>0.0</td>\n",
       "      <td>[70.0, 3.75, 2.0, 2015.0]</td>\n",
       "    </tr>\n",
       "    <tr>\n",
       "      <th>4</th>\n",
       "      <td>25</td>\n",
       "      <td>Tumbes Noadio</td>\n",
       "      <td>Peu</td>\n",
       "      <td>Ciollo</td>\n",
       "      <td>70.0</td>\n",
       "      <td>Acalli</td>\n",
       "      <td>U.S.A.</td>\n",
       "      <td>3.75</td>\n",
       "      <td>1470</td>\n",
       "      <td>2015</td>\n",
       "      <td>2.0</td>\n",
       "      <td>0.0</td>\n",
       "      <td>[70.0, 3.75, 2.0, 2015.0]</td>\n",
       "    </tr>\n",
       "  </tbody>\n",
       "</table>\n",
       "</div>"
      ],
      "text/plain": [
       "   chocolateid          bar_location      bean_origin bean_type  \\\n",
       "0           14               Equateu           Ecuado             \n",
       "1           17       Papua New Guiea  Papua New Guiea             \n",
       "2           21     Chachamayo Povice              Peu             \n",
       "3           24  Chulucaas El Plataal              Peu             \n",
       "4           25         Tumbes Noadio              Peu    Ciollo   \n",
       "\n",
       "   cocoa_percent company company_location  rating   ref  review_date  origin  \\\n",
       "0           70.0  A. Moi             Face    3.75  1011         2013     1.0   \n",
       "1           70.0  A. Moi             Face    3.25  1015         2013    10.0   \n",
       "2           63.0  A. Moi             Face    4.00  1019         2013     2.0   \n",
       "3           70.0  Acalli           U.S.A.    3.75  1462         2015     2.0   \n",
       "4           70.0  Acalli           U.S.A.    3.75  1470         2015     2.0   \n",
       "\n",
       "   label                    features  \n",
       "0    1.0   [70.0, 3.75, 1.0, 2013.0]  \n",
       "1    1.0  [70.0, 3.25, 10.0, 2013.0]  \n",
       "2    1.0    [63.0, 4.0, 2.0, 2013.0]  \n",
       "3    0.0   [70.0, 3.75, 2.0, 2015.0]  \n",
       "4    0.0   [70.0, 3.75, 2.0, 2015.0]  "
      ]
     },
     "metadata": {},
     "output_type": "display_data"
    }
   ],
   "source": [
    "assembler = VectorAssembler(\n",
    "    inputCols=['cocoa_percent', 'rating', 'origin', 'review_date'],\n",
    "    outputCol='features')\n",
    "\n",
    "trainingData = assembler.transform(training2)\n",
    "showDF(trainingData)"
   ]
  },
  {
   "cell_type": "markdown",
   "metadata": {},
   "source": [
    "#### We must also do this with the testing set"
   ]
  },
  {
   "cell_type": "code",
   "execution_count": 15,
   "metadata": {},
   "outputs": [],
   "source": [
    "labelIndexer2 = StringIndexer(inputCol=\"bean_origin\", outputCol=\"origin\", handleInvalid='keep')\n",
    "testing1 = labelIndexer2.fit(test).transform(test)\n",
    "\n",
    "labelIndexer4 = StringIndexer(inputCol=\"company_location\", outputCol=\"label\", handleInvalid='keep')\n",
    "testing2 = labelIndexer4.fit(testing1).transform(testing1)"
   ]
  },
  {
   "cell_type": "code",
   "execution_count": 16,
   "metadata": {},
   "outputs": [
    {
     "data": {
      "text/html": [
       "<div>\n",
       "<style scoped>\n",
       "    .dataframe tbody tr th:only-of-type {\n",
       "        vertical-align: middle;\n",
       "    }\n",
       "\n",
       "    .dataframe tbody tr th {\n",
       "        vertical-align: top;\n",
       "    }\n",
       "\n",
       "    .dataframe thead th {\n",
       "        text-align: right;\n",
       "    }\n",
       "</style>\n",
       "<table border=\"1\" class=\"dataframe\">\n",
       "  <thead>\n",
       "    <tr style=\"text-align: right;\">\n",
       "      <th></th>\n",
       "      <th>chocolateid</th>\n",
       "      <th>bar_location</th>\n",
       "      <th>bean_origin</th>\n",
       "      <th>bean_type</th>\n",
       "      <th>cocoa_percent</th>\n",
       "      <th>company</th>\n",
       "      <th>company_location</th>\n",
       "      <th>rating</th>\n",
       "      <th>ref</th>\n",
       "      <th>review_date</th>\n",
       "      <th>origin</th>\n",
       "      <th>label</th>\n",
       "      <th>features</th>\n",
       "    </tr>\n",
       "  </thead>\n",
       "  <tbody>\n",
       "    <tr>\n",
       "      <th>0</th>\n",
       "      <td>4</td>\n",
       "      <td>Akata</td>\n",
       "      <td>Togo</td>\n",
       "      <td></td>\n",
       "      <td>70.0</td>\n",
       "      <td>A. Moi</td>\n",
       "      <td>Face</td>\n",
       "      <td>3.50</td>\n",
       "      <td>1680</td>\n",
       "      <td>2015</td>\n",
       "      <td>26.0</td>\n",
       "      <td>1.0</td>\n",
       "      <td>[70.0, 3.5, 26.0, 2015.0]</td>\n",
       "    </tr>\n",
       "    <tr>\n",
       "      <th>1</th>\n",
       "      <td>6</td>\n",
       "      <td>Caeeo</td>\n",
       "      <td>Veezuela</td>\n",
       "      <td>Ciollo</td>\n",
       "      <td>70.0</td>\n",
       "      <td>A. Moi</td>\n",
       "      <td>Face</td>\n",
       "      <td>2.75</td>\n",
       "      <td>1315</td>\n",
       "      <td>2014</td>\n",
       "      <td>1.0</td>\n",
       "      <td>1.0</td>\n",
       "      <td>[70.0, 2.75, 1.0, 2014.0]</td>\n",
       "    </tr>\n",
       "    <tr>\n",
       "      <th>2</th>\n",
       "      <td>7</td>\n",
       "      <td>Cuba</td>\n",
       "      <td>Cuba</td>\n",
       "      <td></td>\n",
       "      <td>70.0</td>\n",
       "      <td>A. Moi</td>\n",
       "      <td>Face</td>\n",
       "      <td>3.50</td>\n",
       "      <td>1315</td>\n",
       "      <td>2014</td>\n",
       "      <td>24.0</td>\n",
       "      <td>1.0</td>\n",
       "      <td>[70.0, 3.5, 24.0, 2014.0]</td>\n",
       "    </tr>\n",
       "    <tr>\n",
       "      <th>3</th>\n",
       "      <td>47</td>\n",
       "      <td>CIAAB Coop</td>\n",
       "      <td>Bolivia</td>\n",
       "      <td></td>\n",
       "      <td>60.0</td>\n",
       "      <td>Altus aka Cao Atisa</td>\n",
       "      <td>U.S.A.</td>\n",
       "      <td>2.50</td>\n",
       "      <td>1732</td>\n",
       "      <td>2016</td>\n",
       "      <td>17.0</td>\n",
       "      <td>0.0</td>\n",
       "      <td>[60.0, 2.5, 17.0, 2016.0]</td>\n",
       "    </tr>\n",
       "    <tr>\n",
       "      <th>4</th>\n",
       "      <td>85</td>\n",
       "      <td>Tiidad</td>\n",
       "      <td>Tiidad</td>\n",
       "      <td>Tiitaio</td>\n",
       "      <td>70.0</td>\n",
       "      <td>Amedei</td>\n",
       "      <td>Italy</td>\n",
       "      <td>3.50</td>\n",
       "      <td>129</td>\n",
       "      <td>2007</td>\n",
       "      <td>13.0</td>\n",
       "      <td>6.0</td>\n",
       "      <td>[70.0, 3.5, 13.0, 2007.0]</td>\n",
       "    </tr>\n",
       "  </tbody>\n",
       "</table>\n",
       "</div>"
      ],
      "text/plain": [
       "   chocolateid bar_location bean_origin bean_type  cocoa_percent  \\\n",
       "0            4        Akata        Togo                     70.0   \n",
       "1            6        Caeeo    Veezuela    Ciollo           70.0   \n",
       "2            7         Cuba        Cuba                     70.0   \n",
       "3           47   CIAAB Coop     Bolivia                     60.0   \n",
       "4           85       Tiidad      Tiidad   Tiitaio           70.0   \n",
       "\n",
       "               company company_location  rating   ref  review_date  origin  \\\n",
       "0               A. Moi             Face    3.50  1680         2015    26.0   \n",
       "1               A. Moi             Face    2.75  1315         2014     1.0   \n",
       "2               A. Moi             Face    3.50  1315         2014    24.0   \n",
       "3  Altus aka Cao Atisa           U.S.A.    2.50  1732         2016    17.0   \n",
       "4               Amedei            Italy    3.50   129         2007    13.0   \n",
       "\n",
       "   label                   features  \n",
       "0    1.0  [70.0, 3.5, 26.0, 2015.0]  \n",
       "1    1.0  [70.0, 2.75, 1.0, 2014.0]  \n",
       "2    1.0  [70.0, 3.5, 24.0, 2014.0]  \n",
       "3    0.0  [60.0, 2.5, 17.0, 2016.0]  \n",
       "4    6.0  [70.0, 3.5, 13.0, 2007.0]  "
      ]
     },
     "metadata": {},
     "output_type": "display_data"
    }
   ],
   "source": [
    "assembler1 = VectorAssembler(\n",
    "    inputCols=['cocoa_percent', 'rating', 'origin', 'review_date'],\n",
    "    outputCol='features')\n",
    "\n",
    "testingData = assembler1.transform(testing2)\n",
    "\n",
    "showDF(testingData)"
   ]
  },
  {
   "cell_type": "markdown",
   "metadata": {},
   "source": [
    "### Now it's time to to use NaiveBayes. We will train the model, then use that model with out testing data to get our predictions. \n",
    "https://spark.apache.org/docs/2.2.0/ml-classification-regression.html#naive-bayes"
   ]
  },
  {
   "cell_type": "code",
   "execution_count": 17,
   "metadata": {},
   "outputs": [
    {
     "name": "stdout",
     "output_type": "stream",
     "text": [
      "305\n"
     ]
    },
    {
     "data": {
      "text/html": [
       "<div>\n",
       "<style scoped>\n",
       "    .dataframe tbody tr th:only-of-type {\n",
       "        vertical-align: middle;\n",
       "    }\n",
       "\n",
       "    .dataframe tbody tr th {\n",
       "        vertical-align: top;\n",
       "    }\n",
       "\n",
       "    .dataframe thead th {\n",
       "        text-align: right;\n",
       "    }\n",
       "</style>\n",
       "<table border=\"1\" class=\"dataframe\">\n",
       "  <thead>\n",
       "    <tr style=\"text-align: right;\">\n",
       "      <th></th>\n",
       "      <th>chocolateid</th>\n",
       "      <th>bar_location</th>\n",
       "      <th>bean_origin</th>\n",
       "      <th>bean_type</th>\n",
       "      <th>cocoa_percent</th>\n",
       "      <th>company</th>\n",
       "      <th>company_location</th>\n",
       "      <th>rating</th>\n",
       "      <th>ref</th>\n",
       "      <th>review_date</th>\n",
       "      <th>origin</th>\n",
       "      <th>label</th>\n",
       "      <th>features</th>\n",
       "      <th>rawPrediction</th>\n",
       "      <th>probability</th>\n",
       "      <th>prediction</th>\n",
       "    </tr>\n",
       "  </thead>\n",
       "  <tbody>\n",
       "    <tr>\n",
       "      <th>0</th>\n",
       "      <td>3</td>\n",
       "      <td>Atsae</td>\n",
       "      <td>Togo</td>\n",
       "      <td></td>\n",
       "      <td>70.0</td>\n",
       "      <td>A. Moi</td>\n",
       "      <td>Face</td>\n",
       "      <td>3.00</td>\n",
       "      <td>1676</td>\n",
       "      <td>2015</td>\n",
       "      <td>26.0</td>\n",
       "      <td>1.0</td>\n",
       "      <td>[70.0, 3.0, 26.0, 2015.0]</td>\n",
       "      <td>[-478.5409844021181, -475.45945158361974, -476...</td>\n",
       "      <td>[0.0026919031923872787, 0.05866136121298531, 0...</td>\n",
       "      <td>11.0</td>\n",
       "    </tr>\n",
       "    <tr>\n",
       "      <th>1</th>\n",
       "      <td>9</td>\n",
       "      <td>Pueto Cabello</td>\n",
       "      <td>Veezuela</td>\n",
       "      <td>Ciollo</td>\n",
       "      <td>70.0</td>\n",
       "      <td>A. Moi</td>\n",
       "      <td>Face</td>\n",
       "      <td>3.75</td>\n",
       "      <td>1319</td>\n",
       "      <td>2014</td>\n",
       "      <td>1.0</td>\n",
       "      <td>1.0</td>\n",
       "      <td>[70.0, 3.75, 1.0, 2014.0]</td>\n",
       "      <td>[-350.2989441658598, -355.65440421331976, -355...</td>\n",
       "      <td>[0.008310619648087082, 3.924521021984312e-05, ...</td>\n",
       "      <td>5.0</td>\n",
       "    </tr>\n",
       "    <tr>\n",
       "      <th>2</th>\n",
       "      <td>12</td>\n",
       "      <td>Madagasca</td>\n",
       "      <td>Madagasca</td>\n",
       "      <td>Ciollo</td>\n",
       "      <td>70.0</td>\n",
       "      <td>A. Moi</td>\n",
       "      <td>Face</td>\n",
       "      <td>3.00</td>\n",
       "      <td>1011</td>\n",
       "      <td>2013</td>\n",
       "      <td>4.0</td>\n",
       "      <td>1.0</td>\n",
       "      <td>[70.0, 3.0, 4.0, 2013.0]</td>\n",
       "      <td>[-361.35121907085187, -365.7159195570009, -365...</td>\n",
       "      <td>[0.3308132751730429, 0.004207436718091643, 0.0...</td>\n",
       "      <td>0.0</td>\n",
       "    </tr>\n",
       "    <tr>\n",
       "      <th>3</th>\n",
       "      <td>35</td>\n",
       "      <td>Mote Alege D. Badeo</td>\n",
       "      <td>Bazil</td>\n",
       "      <td>Foasteo</td>\n",
       "      <td>75.0</td>\n",
       "      <td>Akesso's (Palus)</td>\n",
       "      <td>Switzelad</td>\n",
       "      <td>2.75</td>\n",
       "      <td>508</td>\n",
       "      <td>2010</td>\n",
       "      <td>5.0</td>\n",
       "      <td>10.0</td>\n",
       "      <td>[75.0, 2.75, 5.0, 2010.0]</td>\n",
       "      <td>[-381.8288587139367, -385.84861985986, -385.43...</td>\n",
       "      <td>[0.4875144584590192, 0.008754420759597814, 0.0...</td>\n",
       "      <td>0.0</td>\n",
       "    </tr>\n",
       "    <tr>\n",
       "      <th>4</th>\n",
       "      <td>87</td>\n",
       "      <td>Toscao Black</td>\n",
       "      <td></td>\n",
       "      <td>Bled</td>\n",
       "      <td>70.0</td>\n",
       "      <td>Amedei</td>\n",
       "      <td>Italy</td>\n",
       "      <td>5.00</td>\n",
       "      <td>40</td>\n",
       "      <td>2006</td>\n",
       "      <td>7.0</td>\n",
       "      <td>6.0</td>\n",
       "      <td>[70.0, 5.0, 7.0, 2006.0]</td>\n",
       "      <td>[-390.033451120477, -393.29388602039035, -393....</td>\n",
       "      <td>[0.6029937735273052, 0.023137900121070202, 0.0...</td>\n",
       "      <td>0.0</td>\n",
       "    </tr>\n",
       "  </tbody>\n",
       "</table>\n",
       "</div>"
      ],
      "text/plain": [
       "   chocolateid         bar_location bean_origin bean_type  cocoa_percent  \\\n",
       "0            3                Atsae        Togo                     70.0   \n",
       "1            9        Pueto Cabello    Veezuela    Ciollo           70.0   \n",
       "2           12            Madagasca   Madagasca    Ciollo           70.0   \n",
       "3           35  Mote Alege D. Badeo       Bazil   Foasteo           75.0   \n",
       "4           87         Toscao Black                  Bled           70.0   \n",
       "\n",
       "            company company_location  rating   ref  review_date  origin  \\\n",
       "0            A. Moi             Face    3.00  1676         2015    26.0   \n",
       "1            A. Moi             Face    3.75  1319         2014     1.0   \n",
       "2            A. Moi             Face    3.00  1011         2013     4.0   \n",
       "3  Akesso's (Palus)        Switzelad    2.75   508         2010     5.0   \n",
       "4            Amedei            Italy    5.00    40         2006     7.0   \n",
       "\n",
       "   label                   features  \\\n",
       "0    1.0  [70.0, 3.0, 26.0, 2015.0]   \n",
       "1    1.0  [70.0, 3.75, 1.0, 2014.0]   \n",
       "2    1.0   [70.0, 3.0, 4.0, 2013.0]   \n",
       "3   10.0  [75.0, 2.75, 5.0, 2010.0]   \n",
       "4    6.0   [70.0, 5.0, 7.0, 2006.0]   \n",
       "\n",
       "                                       rawPrediction  \\\n",
       "0  [-478.5409844021181, -475.45945158361974, -476...   \n",
       "1  [-350.2989441658598, -355.65440421331976, -355...   \n",
       "2  [-361.35121907085187, -365.7159195570009, -365...   \n",
       "3  [-381.8288587139367, -385.84861985986, -385.43...   \n",
       "4  [-390.033451120477, -393.29388602039035, -393....   \n",
       "\n",
       "                                         probability  prediction  \n",
       "0  [0.0026919031923872787, 0.05866136121298531, 0...        11.0  \n",
       "1  [0.008310619648087082, 3.924521021984312e-05, ...         5.0  \n",
       "2  [0.3308132751730429, 0.004207436718091643, 0.0...         0.0  \n",
       "3  [0.4875144584590192, 0.008754420759597814, 0.0...         0.0  \n",
       "4  [0.6029937735273052, 0.023137900121070202, 0.0...         0.0  "
      ]
     },
     "metadata": {},
     "output_type": "display_data"
    }
   ],
   "source": [
    "nb = NaiveBayes(smoothing=1.0, modelType=\"multinomial\")\n",
    "\n",
    "# train the model\n",
    "model = nb.fit(trainingData)\n",
    "\n",
    "predictions = model.transform(testingData)\n",
    "#predictions.show()\n",
    "print (predictions.count())\n",
    "showDF(predictions)"
   ]
  },
  {
   "cell_type": "markdown",
   "metadata": {},
   "source": [
    "#### Let's just look at a few. "
   ]
  },
  {
   "cell_type": "code",
   "execution_count": 18,
   "metadata": {},
   "outputs": [
    {
     "data": {
      "text/html": [
       "<div>\n",
       "<style scoped>\n",
       "    .dataframe tbody tr th:only-of-type {\n",
       "        vertical-align: middle;\n",
       "    }\n",
       "\n",
       "    .dataframe tbody tr th {\n",
       "        vertical-align: top;\n",
       "    }\n",
       "\n",
       "    .dataframe thead th {\n",
       "        text-align: right;\n",
       "    }\n",
       "</style>\n",
       "<table border=\"1\" class=\"dataframe\">\n",
       "  <thead>\n",
       "    <tr style=\"text-align: right;\">\n",
       "      <th></th>\n",
       "      <th>company_location</th>\n",
       "      <th>label</th>\n",
       "      <th>prediction</th>\n",
       "      <th>probability</th>\n",
       "    </tr>\n",
       "  </thead>\n",
       "  <tbody>\n",
       "    <tr>\n",
       "      <th>0</th>\n",
       "      <td>Face</td>\n",
       "      <td>1.0</td>\n",
       "      <td>11.0</td>\n",
       "      <td>[0.0026413761427303696, 0.05862142316959855, 0...</td>\n",
       "    </tr>\n",
       "    <tr>\n",
       "      <th>1</th>\n",
       "      <td>Face</td>\n",
       "      <td>1.0</td>\n",
       "      <td>5.0</td>\n",
       "      <td>[0.008214428098094532, 3.73993255231028e-05, 7...</td>\n",
       "    </tr>\n",
       "    <tr>\n",
       "      <th>2</th>\n",
       "      <td>Face</td>\n",
       "      <td>1.0</td>\n",
       "      <td>11.0</td>\n",
       "      <td>[0.010321946934497134, 0.11661989061094824, 0....</td>\n",
       "    </tr>\n",
       "    <tr>\n",
       "      <th>3</th>\n",
       "      <td>U.S.A.</td>\n",
       "      <td>0.0</td>\n",
       "      <td>0.0</td>\n",
       "      <td>[0.2129656778473464, 0.21197638091380983, 0.12...</td>\n",
       "    </tr>\n",
       "    <tr>\n",
       "      <th>4</th>\n",
       "      <td>Italy</td>\n",
       "      <td>6.0</td>\n",
       "      <td>0.0</td>\n",
       "      <td>[0.4472119921620541, 0.12366782638216954, 0.10...</td>\n",
       "    </tr>\n",
       "  </tbody>\n",
       "</table>\n",
       "</div>"
      ],
      "text/plain": [
       "  company_location  label  prediction  \\\n",
       "0             Face    1.0        11.0   \n",
       "1             Face    1.0         5.0   \n",
       "2             Face    1.0        11.0   \n",
       "3           U.S.A.    0.0         0.0   \n",
       "4            Italy    6.0         0.0   \n",
       "\n",
       "                                         probability  \n",
       "0  [0.0026413761427303696, 0.05862142316959855, 0...  \n",
       "1  [0.008214428098094532, 3.73993255231028e-05, 7...  \n",
       "2  [0.010321946934497134, 0.11661989061094824, 0....  \n",
       "3  [0.2129656778473464, 0.21197638091380983, 0.12...  \n",
       "4  [0.4472119921620541, 0.12366782638216954, 0.10...  "
      ]
     },
     "metadata": {},
     "output_type": "display_data"
    }
   ],
   "source": [
    "showDF(predictions.select(\"company_location\", \"label\", \"prediction\", \"probability\"))"
   ]
  },
  {
   "cell_type": "markdown",
   "metadata": {},
   "source": [
    "### We can now use the MutliclassClassifciationEvaluator to evalute the accurancy of our predictions. "
   ]
  },
  {
   "cell_type": "code",
   "execution_count": 19,
   "metadata": {},
   "outputs": [
    {
     "name": "stdout",
     "output_type": "stream",
     "text": [
      "Test set accuracy = 0.184466019417\n"
     ]
    }
   ],
   "source": [
    "# compute accuracy on the test set\n",
    "evaluator = MulticlassClassificationEvaluator(labelCol=\"label\", predictionCol=\"prediction\",\n",
    "                                              metricName=\"accuracy\")\n",
    "accuracy = evaluator.evaluate(predictions)\n",
    "print(\"Test set accuracy = \" + str(accuracy))"
   ]
  },
  {
   "cell_type": "markdown",
   "metadata": {},
   "source": [
    "### X amount of the time if we know the cocoa percentage, where the bean was grown, and the rating we can figure out what country produced this candy bar. Pretty interesting. "
   ]
  },
  {
   "cell_type": "markdown",
   "metadata": {},
   "source": [
    "#### Go and try to see what else you can predict? Can you predict the rating based on these attributes? "
   ]
  },
  {
   "cell_type": "markdown",
   "metadata": {},
   "source": [
    "### Reference: \n",
    "* https://databricks-prod-cloudfront.cloud.databricks.com/public/4027ec902e239c93eaaa8714f173bcfc/3741049972324885/3783546674231736/4413065072037724/latest.html\n",
    "* https://www.kaggle.com/rtatman/chocolate-bar-ratings\n",
    "* https://en.wikipedia.org/wiki/Naive_Bayes_classifier"
   ]
  }
 ],
 "metadata": {
  "kernelspec": {
   "display_name": "Python 2",
   "language": "python",
   "name": "python2"
  },
  "language_info": {
   "codemirror_mode": {
    "name": "ipython",
    "version": 2
   },
   "file_extension": ".py",
   "mimetype": "text/x-python",
   "name": "python",
   "nbconvert_exporter": "python",
   "pygments_lexer": "ipython2",
   "version": "2.7.10"
  }
 },
 "nbformat": 4,
 "nbformat_minor": 2
}
