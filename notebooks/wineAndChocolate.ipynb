{
 "cells": [
  {
   "cell_type": "markdown",
   "metadata": {},
   "source": [
    "# Classification and Clustering Algorithms paired with Wine and Chocolate\n",
    "------\n",
    "<img src=\"images/datastaxlogo.png\" width=\"200\" height=\"200\">\n",
    "\n",
    "#### A demo using DataStax Enterprise Analytics, Apache Cassandra, Apache Spark, Python, Jupyter Notebooks, Twitter tweets, pattern, Kmeans and ..."
   ]
  },
  {
   "cell_type": "markdown",
   "metadata": {},
   "source": [
    "#### Add some environment variables to find dse verision of pyspark. Edit these varibles with your path."
   ]
  },
  {
   "cell_type": "code",
   "execution_count": 15,
   "metadata": {},
   "outputs": [],
   "source": [
    "pysparkzip = \"/Users/amanda.moran/dse67/dse-6.7.0/resources/spark/python/lib/pyspark.zip\"\n",
    "py4jzip = \"/Users/amanda.moran/dse67/dse-6.7.0/resources/spark/python/lib/py4j-0.10.7-src.zip\""
   ]
  },
  {
   "cell_type": "code",
   "execution_count": 16,
   "metadata": {},
   "outputs": [],
   "source": [
    "# Needed to be able to find pyspark libaries\n",
    "import sys\n",
    "sys.path.append(pysparkzip)\n",
    "sys.path.append(py4jzip)"
   ]
  },
  {
   "cell_type": "markdown",
   "metadata": {},
   "source": [
    "#### Import python packages -- all are required\n",
    "##### Ignore any errors shown"
   ]
  },
  {
   "cell_type": "code",
   "execution_count": 18,
   "metadata": {},
   "outputs": [],
   "source": [
    "%matplotlib inline\n",
    "import matplotlib.pyplot as plt"
   ]
  },
  {
   "cell_type": "code",
   "execution_count": 19,
   "metadata": {},
   "outputs": [],
   "source": [
    "import pandas\n",
    "import cassandra\n",
    "import pyspark\n",
    "import re\n",
    "import os\n",
    "from uuid import uuid1\n",
    "import matplotlib.pyplot as plt\n",
    "from IPython.display import display, Markdown\n",
    "from pyspark.sql import SparkSession\n",
    "from pyspark.ml.feature import Tokenizer, RegexTokenizer, StopWordsRemover\n",
    "from pyspark.sql.functions import col, udf\n",
    "from pyspark.sql.types import IntegerType"
   ]
  },
  {
   "cell_type": "markdown",
   "metadata": {},
   "source": [
    "#### Helper function to have nicer formatting of Spark DataFrames"
   ]
  },
  {
   "cell_type": "code",
   "execution_count": 20,
   "metadata": {},
   "outputs": [],
   "source": [
    "#Helper for pretty formatting for Spark DataFrames\n",
    "def showDF(df, limitRows =  5, truncate = True):\n",
    "    if(truncate):\n",
    "        pandas.set_option('display.max_colwidth', 50)\n",
    "    else:\n",
    "        pandas.set_option('display.max_colwidth', -1)\n",
    "    pandas.set_option('display.max_rows', limitRows)\n",
    "    display(df.limit(limitRows).toPandas())\n",
    "    pandas.reset_option('display.max_rows')"
   ]
  },
  {
   "cell_type": "markdown",
   "metadata": {},
   "source": [
    "# DataStax Enterprise Analytics\n",
    "<img src=\"images/datastaxlogo.png\" width=\"200\" height=\"200\">"
   ]
  },
  {
   "cell_type": "markdown",
   "metadata": {},
   "source": [
    "### Creating Tables and Loading Tables"
   ]
  },
  {
   "cell_type": "markdown",
   "metadata": {},
   "source": [
    "#### Connect to DSE Analytics Cluster"
   ]
  },
  {
   "cell_type": "code",
   "execution_count": 21,
   "metadata": {},
   "outputs": [],
   "source": [
    "from cassandra.cluster import Cluster\n",
    "\n",
    "cluster = Cluster(['127.0.01'])\n",
    "session = cluster.connect()"
   ]
  },
  {
   "cell_type": "markdown",
   "metadata": {},
   "source": [
    "#### Create Demo Keyspace "
   ]
  },
  {
   "cell_type": "code",
   "execution_count": 22,
   "metadata": {},
   "outputs": [
    {
     "data": {
      "text/plain": [
       "<cassandra.cluster.ResultSet at 0x115d6f3d0>"
      ]
     },
     "execution_count": 22,
     "metadata": {},
     "output_type": "execute_result"
    }
   ],
   "source": [
    "session.execute(\"\"\"\n",
    "    CREATE KEYSPACE IF NOT EXISTS wineChocolate \n",
    "    WITH REPLICATION = \n",
    "    { 'class' : 'SimpleStrategy', 'replication_factor' : 1 }\"\"\"\n",
    ")"
   ]
  },
  {
   "cell_type": "markdown",
   "metadata": {},
   "source": [
    "#### Set keyspace "
   ]
  },
  {
   "cell_type": "code",
   "execution_count": 23,
   "metadata": {},
   "outputs": [],
   "source": [
    "session.set_keyspace('winechocolate')"
   ]
  },
  {
   "cell_type": "code",
   "execution_count": 24,
   "metadata": {},
   "outputs": [
    {
     "data": {
      "text/plain": [
       "<cassandra.cluster.ResultSet at 0x118ddb910>"
      ]
     },
     "execution_count": 24,
     "metadata": {},
     "output_type": "execute_result"
    }
   ],
   "source": [
    "query = \"CREATE TABLE IF NOT EXISTS wine \\\n",
    "                                   (wineid int, cluster int, alcohol float, malic_acid float, \\\n",
    "                                   ash float, alcalinity_ash float, magnesium float, total_phenols float, \\\n",
    "                                   flavanoids float, nonflavanoid_phenols float, proanthocyains float, \\\n",
    "                                   color_intensity float, hue float, protein float, proline float, \\\n",
    "                                   PRIMARY KEY (wineId))\"\n",
    "session.execute(query)\n"
   ]
  },
  {
   "cell_type": "markdown",
   "metadata": {},
   "source": [
    "### Load Wine Dataset\n",
    "<img src=\"images/twitterlogo.png\" width=\"100\" height=\"100\">"
   ]
  },
  {
   "cell_type": "markdown",
   "metadata": {},
   "source": [
    "#### Load Negative Tweets from CSV file"
   ]
  },
  {
   "cell_type": "code",
   "execution_count": 25,
   "metadata": {},
   "outputs": [],
   "source": [
    "fileName = 'data/wine.csv'\n",
    "input_file = open(fileName, 'r')\n",
    "i = 1\n",
    "for line in input_file:\n",
    "    wineId = i\n",
    "    tweets = line.split(',')\n",
    "    query = \"INSERT INTO wine (wineid, cluster, alcohol, malic_acid, ash, alcalinity_ash, \\\n",
    "                               magnesium, total_phenols, flavanoids, nonflavanoid_phenols, \\\n",
    "                               proanthocyains, color_intensity, hue, protein, proline)\"\n",
    "    query = query + \" VALUES (%s, %s, %s, %s, %s, %s, %s, %s, %s, %s, %s, %s, %s, %s, %s)\"\n",
    "    session.execute(query, (wineId, int(tweets[0]), float(tweets[1]), float(tweets[2]), float(tweets[3]), \n",
    "                    float(tweets[4]), float(tweets[5]), float(tweets[6]), float(tweets[7]), float(tweets[8]),\n",
    "                    float(tweets[9]), float(tweets[10]), float(tweets[11]), float(tweets[12]), float(tweets[13])))\n",
    "    i = i + 1"
   ]
  },
  {
   "cell_type": "markdown",
   "metadata": {},
   "source": [
    "#### Do a select * on each table and verify that the data have been inserted into each Apache Cassandra table"
   ]
  },
  {
   "cell_type": "code",
   "execution_count": 26,
   "metadata": {
    "scrolled": true
   },
   "outputs": [
    {
     "name": "stdout",
     "output_type": "stream",
     "text": [
      "(23, 1, 13.710000038146973, 1.8600000143051147, 2.359999895095825, 16.600000381469727, 101.0, 2.609999895095825, 2.880000114440918, 0.27000001072883606, 1.690000057220459, 3.799999952316284, 1.1100000143051147, 4.0, 1035.0)\n",
      "(114, 2, 11.40999984741211, 0.7400000095367432, 2.5, 21.0, 88.0, 2.4800000190734863, 2.009999990463257, 0.41999998688697815, 1.440000057220459, 3.0799999237060547, 1.100000023841858, 2.309999942779541, 434.0)\n"
     ]
    }
   ],
   "source": [
    "query = 'SELECT * FROM wine limit 2'\n",
    "rows = session.execute(query)\n",
    "for row in rows:\n",
    "    print (row.wineid, row.cluster, row.alcohol, row.malic_acid, row.ash, row.alcalinity_ash,\n",
    "           row.magnesium, row.total_phenols, row.flavanoids, row.nonflavanoid_phenols,\n",
    "           row.proanthocyains, row.color_intensity, row.hue, row.protein, row.proline)"
   ]
  },
  {
   "cell_type": "markdown",
   "metadata": {},
   "source": [
    "## DSE Analytics with Apache Spark\n",
    "<img src=\"images/sparklogo.png\" width=\"150\" height=\"200\">"
   ]
  },
  {
   "cell_type": "markdown",
   "metadata": {},
   "source": [
    "### Finally time for Apache Spark! "
   ]
  },
  {
   "cell_type": "markdown",
   "metadata": {},
   "source": [
    "#### Create a spark session that is connected to Cassandra. From there load each table into a Spark Dataframe and take a count of the number of rows in each."
   ]
  },
  {
   "cell_type": "code",
   "execution_count": 27,
   "metadata": {},
   "outputs": [
    {
     "name": "stdout",
     "output_type": "stream",
     "text": [
      "Table Row Count: \n",
      "178\n"
     ]
    }
   ],
   "source": [
    "spark = SparkSession.builder.appName('demo').master(\"local\").getOrCreate()\n",
    "\n",
    "\n",
    "wineTable = spark.read.format(\"org.apache.spark.sql.cassandra\").options(table=\"wine\", keyspace=\"winechocolate\").load()\n",
    "\n",
    "print (\"Table Row Count: \")\n",
    "print (wineTable.count())"
   ]
  },
  {
   "cell_type": "code",
   "execution_count": 28,
   "metadata": {},
   "outputs": [
    {
     "data": {
      "text/html": [
       "<div>\n",
       "<style scoped>\n",
       "    .dataframe tbody tr th:only-of-type {\n",
       "        vertical-align: middle;\n",
       "    }\n",
       "\n",
       "    .dataframe tbody tr th {\n",
       "        vertical-align: top;\n",
       "    }\n",
       "\n",
       "    .dataframe thead th {\n",
       "        text-align: right;\n",
       "    }\n",
       "</style>\n",
       "<table border=\"1\" class=\"dataframe\">\n",
       "  <thead>\n",
       "    <tr style=\"text-align: right;\">\n",
       "      <th></th>\n",
       "      <th>wineid</th>\n",
       "      <th>alcalinity_ash</th>\n",
       "      <th>alcohol</th>\n",
       "      <th>ash</th>\n",
       "      <th>cluster</th>\n",
       "      <th>color_intensity</th>\n",
       "      <th>flavanoids</th>\n",
       "      <th>hue</th>\n",
       "      <th>magnesium</th>\n",
       "      <th>malic_acid</th>\n",
       "      <th>nonflavanoid_phenols</th>\n",
       "      <th>proanthocyains</th>\n",
       "      <th>proline</th>\n",
       "      <th>protein</th>\n",
       "      <th>total_phenols</th>\n",
       "    </tr>\n",
       "  </thead>\n",
       "  <tbody>\n",
       "    <tr>\n",
       "      <th>0</th>\n",
       "      <td>23</td>\n",
       "      <td>16.6</td>\n",
       "      <td>13.71</td>\n",
       "      <td>2.36</td>\n",
       "      <td>1</td>\n",
       "      <td>3.80</td>\n",
       "      <td>2.88</td>\n",
       "      <td>1.11</td>\n",
       "      <td>101.0</td>\n",
       "      <td>1.86</td>\n",
       "      <td>0.27</td>\n",
       "      <td>1.69</td>\n",
       "      <td>1035.0</td>\n",
       "      <td>4.00</td>\n",
       "      <td>2.61</td>\n",
       "    </tr>\n",
       "    <tr>\n",
       "      <th>1</th>\n",
       "      <td>114</td>\n",
       "      <td>21.0</td>\n",
       "      <td>11.41</td>\n",
       "      <td>2.50</td>\n",
       "      <td>2</td>\n",
       "      <td>3.08</td>\n",
       "      <td>2.01</td>\n",
       "      <td>1.10</td>\n",
       "      <td>88.0</td>\n",
       "      <td>0.74</td>\n",
       "      <td>0.42</td>\n",
       "      <td>1.44</td>\n",
       "      <td>434.0</td>\n",
       "      <td>2.31</td>\n",
       "      <td>2.48</td>\n",
       "    </tr>\n",
       "    <tr>\n",
       "      <th>2</th>\n",
       "      <td>53</td>\n",
       "      <td>14.0</td>\n",
       "      <td>13.82</td>\n",
       "      <td>2.42</td>\n",
       "      <td>1</td>\n",
       "      <td>7.05</td>\n",
       "      <td>3.74</td>\n",
       "      <td>1.01</td>\n",
       "      <td>111.0</td>\n",
       "      <td>1.75</td>\n",
       "      <td>0.32</td>\n",
       "      <td>1.87</td>\n",
       "      <td>1190.0</td>\n",
       "      <td>3.26</td>\n",
       "      <td>3.88</td>\n",
       "    </tr>\n",
       "    <tr>\n",
       "      <th>3</th>\n",
       "      <td>110</td>\n",
       "      <td>20.0</td>\n",
       "      <td>11.61</td>\n",
       "      <td>2.70</td>\n",
       "      <td>2</td>\n",
       "      <td>2.65</td>\n",
       "      <td>2.92</td>\n",
       "      <td>0.96</td>\n",
       "      <td>94.0</td>\n",
       "      <td>1.35</td>\n",
       "      <td>0.29</td>\n",
       "      <td>2.49</td>\n",
       "      <td>680.0</td>\n",
       "      <td>3.26</td>\n",
       "      <td>2.74</td>\n",
       "    </tr>\n",
       "    <tr>\n",
       "      <th>4</th>\n",
       "      <td>91</td>\n",
       "      <td>18.5</td>\n",
       "      <td>12.08</td>\n",
       "      <td>2.32</td>\n",
       "      <td>2</td>\n",
       "      <td>2.40</td>\n",
       "      <td>1.50</td>\n",
       "      <td>1.08</td>\n",
       "      <td>81.0</td>\n",
       "      <td>1.83</td>\n",
       "      <td>0.52</td>\n",
       "      <td>1.64</td>\n",
       "      <td>480.0</td>\n",
       "      <td>2.27</td>\n",
       "      <td>1.60</td>\n",
       "    </tr>\n",
       "  </tbody>\n",
       "</table>\n",
       "</div>"
      ],
      "text/plain": [
       "   wineid  alcalinity_ash  alcohol   ash  cluster  color_intensity  \\\n",
       "0      23            16.6    13.71  2.36        1             3.80   \n",
       "1     114            21.0    11.41  2.50        2             3.08   \n",
       "2      53            14.0    13.82  2.42        1             7.05   \n",
       "3     110            20.0    11.61  2.70        2             2.65   \n",
       "4      91            18.5    12.08  2.32        2             2.40   \n",
       "\n",
       "   flavanoids   hue  magnesium  malic_acid  nonflavanoid_phenols  \\\n",
       "0        2.88  1.11      101.0        1.86                  0.27   \n",
       "1        2.01  1.10       88.0        0.74                  0.42   \n",
       "2        3.74  1.01      111.0        1.75                  0.32   \n",
       "3        2.92  0.96       94.0        1.35                  0.29   \n",
       "4        1.50  1.08       81.0        1.83                  0.52   \n",
       "\n",
       "   proanthocyains  proline  protein  total_phenols  \n",
       "0            1.69   1035.0     4.00           2.61  \n",
       "1            1.44    434.0     2.31           2.48  \n",
       "2            1.87   1190.0     3.26           3.88  \n",
       "3            2.49    680.0     3.26           2.74  \n",
       "4            1.64    480.0     2.27           1.60  "
      ]
     },
     "metadata": {},
     "output_type": "display_data"
    }
   ],
   "source": [
    "showDF(wineTable)"
   ]
  },
  {
   "cell_type": "code",
   "execution_count": 29,
   "metadata": {},
   "outputs": [
    {
     "data": {
      "text/plain": [
       "<matplotlib.axes._subplots.AxesSubplot at 0x118fd5dd0>"
      ]
     },
     "execution_count": 29,
     "metadata": {},
     "output_type": "execute_result"
    },
    {
     "data": {
      "image/png": "[encoded data removed]",
      "text/plain": [
       "<Figure size 864x576 with 2 Axes>"
      ]
     },
     "metadata": {
      "needs_background": "light"
     },
     "output_type": "display_data"
    }
   ],
   "source": [
    "winedf = wineTable.toPandas()\n",
    "winedf.plot.scatter(x = 'alcohol', y = 'protein', c= 'cluster', figsize=(12,8), colormap='jet')"
   ]
  },
  {
   "cell_type": "code",
   "execution_count": 30,
   "metadata": {},
   "outputs": [],
   "source": [
    "newWineTable = wineTable[['alcalinity_ash', 'alcohol', 'ash', \n",
    "                          'color_intensity', 'protein', 'flavanoids', 'hue', \n",
    "                          'magnesium', 'malic_acid', 'nonflavanoid_phenols', 'proanthocyains', \n",
    "                          'proline', 'total_phenols']]"
   ]
  },
  {
   "cell_type": "code",
   "execution_count": 31,
   "metadata": {},
   "outputs": [
    {
     "name": "stdout",
     "output_type": "stream",
     "text": [
      "+--------------+-------+----+---------------+-------+----------+----+---------+----------+--------------------+--------------+-------+-------------+--------------------+\n",
      "|alcalinity_ash|alcohol| ash|color_intensity|protein|flavanoids| hue|magnesium|malic_acid|nonflavanoid_phenols|proanthocyains|proline|total_phenols|            features|\n",
      "+--------------+-------+----+---------------+-------+----------+----+---------+----------+--------------------+--------------+-------+-------------+--------------------+\n",
      "|          16.6|  13.71|2.36|            3.8|    4.0|      2.88|1.11|    101.0|      1.86|                0.27|          1.69| 1035.0|         2.61|[16.6000003814697...|\n",
      "|          21.0|  11.41| 2.5|           3.08|   2.31|      2.01| 1.1|     88.0|      0.74|                0.42|          1.44|  434.0|         2.48|[21.0,11.40999984...|\n",
      "|          14.0|  13.82|2.42|           7.05|   3.26|      3.74|1.01|    111.0|      1.75|                0.32|          1.87| 1190.0|         3.88|[14.0,13.81999969...|\n",
      "|          20.0|  11.61| 2.7|           2.65|   3.26|      2.92|0.96|     94.0|      1.35|                0.29|          2.49|  680.0|         2.74|[20.0,11.60999965...|\n",
      "|          18.5|  12.08|2.32|            2.4|   2.27|       1.5|1.08|     81.0|      1.83|                0.52|          1.64|  480.0|          1.6|[18.5,12.07999992...|\n",
      "|          28.5|  11.79|2.78|            3.0|   2.44|      2.24|0.97|     92.0|      2.13|                0.58|          1.76|  466.0|         2.13|[28.5,11.78999996...|\n",
      "|          20.8|  11.82|1.99|           1.95|   3.33|       1.6|0.95|     86.0|      1.47|                 0.3|          1.53|  495.0|         1.98|[20.7999992370605...|\n",
      "|          20.0|  13.62|2.35|            4.4|   2.05|       0.8|0.91|     92.0|      4.95|                0.47|          1.02|  550.0|          2.0|[20.0,13.61999988...|\n",
      "|          19.0|   12.0| 2.0|           1.28|   3.05|      1.64|0.93|     87.0|      3.43|                0.37|          1.87|  564.0|          2.0|[19.0,12.0,2.0,1....|\n",
      "|          24.0|  12.84|2.61|           4.92|   2.15|       0.6|0.89|    101.0|      2.96|                0.53|          0.81|  590.0|         2.32|[24.0,12.84000015...|\n",
      "|          16.4|  13.74|2.25|           5.85|    3.2|       2.9|0.92|    118.0|      1.67|                0.21|          1.62| 1060.0|          2.6|[16.3999996185302...|\n",
      "|          24.5|  12.37| 2.3|           2.12|   2.78|      2.45|0.89|     88.0|      1.63|                 0.4|           1.9|  342.0|         2.22|[24.5,12.36999988...|\n",
      "|          17.2|  13.68|2.36|           3.84|   2.87|      2.69|1.23|    104.0|      1.83|                0.42|          1.97|  990.0|         2.42|[17.2000007629394...|\n",
      "|          20.0|  12.88| 2.4|            5.4|   1.42|      1.22|0.74|    104.0|      2.99|                0.24|          0.83|  530.0|          1.3|[20.0,12.88000011...|\n",
      "|          21.0|  13.24|2.87|           4.32|   2.93|      2.69|1.04|    118.0|      2.59|                0.39|          1.82|  735.0|          2.8|[21.0,13.23999977...|\n",
      "|          17.0|   13.3|2.14|           3.95|   2.77|      2.19|1.02|     94.0|      1.72|                0.27|          1.35| 1285.0|          2.4|[17.0,13.30000019...|\n",
      "|          20.5|  12.51|1.98|           2.94|   3.57|      1.92|1.04|     85.0|      1.73|                0.32|          1.48|  672.0|          2.2|[20.5,12.51000022...|\n",
      "|          26.5|  12.42|2.73|           2.08|   3.12|      2.13|0.92|    102.0|      4.43|                0.43|          1.71|  365.0|          2.2|[26.5,12.42000007...|\n",
      "|          18.8|  13.41|2.12|           4.28|    3.0|      2.68|0.91|     90.0|      3.84|                0.27|          1.48| 1035.0|         2.45|[18.7999992370605...|\n",
      "|          25.5|  13.11|2.75|            7.1|   1.33|      1.28|0.61|    116.0|       1.9|                0.26|          1.56|  425.0|          2.2|[25.5,13.10999965...|\n",
      "+--------------+-------+----+---------------+-------+----------+----+---------+----------+--------------------+--------------+-------+-------------+--------------------+\n",
      "only showing top 20 rows\n",
      "\n",
      "+------+--------------+-------+----+-------+---------------+----------+----+---------+----------+--------------------+--------------+-------+-------+-------------+--------------------+\n",
      "|wineid|alcalinity_ash|alcohol| ash|cluster|color_intensity|flavanoids| hue|magnesium|malic_acid|nonflavanoid_phenols|proanthocyains|proline|protein|total_phenols|            features|\n",
      "+------+--------------+-------+----+-------+---------------+----------+----+---------+----------+--------------------+--------------+-------+-------+-------------+--------------------+\n",
      "|   156|          22.0|  13.17|2.32|      3|            7.9|      0.63| 0.6|     93.0|      5.19|                0.61|          1.55|  725.0|   1.48|         1.74|[22.0,13.17000007...|\n",
      "|    81|          19.0|   12.0| 2.0|      2|            2.5|      2.26|1.38|     86.0|      0.92|                 0.3|          1.43|  278.0|   3.12|         2.42|[19.0,12.0,2.0,2....|\n",
      "|    29|          19.4|  13.87| 2.8|      1|            4.5|      2.97|1.25|    107.0|       1.9|                0.37|          1.76|  915.0|    3.4|         2.95|[19.3999996185302...|\n",
      "|   172|          19.5|  12.77|2.28|      3|       9.899999|      0.51|0.57|     86.0|      2.39|                0.48|          0.64|  470.0|   1.63|         1.39|[19.5,12.77000045...|\n",
      "|    64|          19.0|  12.37|2.16|      2|           4.45|       3.1|1.22|     87.0|      1.13|                0.19|          1.87|  420.0|   2.87|          3.5|[19.0,12.36999988...|\n",
      "|    37|          15.5|  13.28|2.84|      1|            4.6|      2.68|1.09|    110.0|      1.64|                0.34|          1.36|  880.0|   2.78|          2.6|[15.5,13.27999973...|\n",
      "|    76|          16.0|  11.66|1.92|      2|            3.8|      1.57|1.23|     97.0|      1.88|                0.34|          1.15|  428.0|   2.14|         1.61|[16.0,11.65999984...|\n",
      "|     9|          14.0|  14.83|2.17|      1|            5.2|      2.98|1.08|     97.0|      1.64|                0.29|          1.98| 1045.0|   2.85|          2.8|[14.0,14.82999992...|\n",
      "|   168|          19.5|  12.82| 2.3|      3|          10.26|      0.66|0.72|     88.0|      3.37|                 0.4|          0.97|  685.0|   1.75|         1.48|[19.5,12.81999969...|\n",
      "|    14|          11.4|  14.75|2.39|      1|            5.4|      3.69|1.25|     91.0|      1.73|                0.43|          2.81| 1150.0|   2.73|          3.1|[11.3999996185302...|\n",
      "|   108|          22.5|  12.72|2.28|      2|            3.3|      1.76|0.88|     84.0|      1.75|                0.48|          1.63|  488.0|   2.42|         1.38|[22.5,12.72000026...|\n",
      "|   127|          21.5|  12.43|2.29|      2|           3.94|      3.15|0.69|     86.0|      1.53|                0.39|          1.77|  352.0|   2.84|         2.74|[21.5,12.43000030...|\n",
      "|   171|          19.0|   12.2|2.32|      3|            5.5|      0.49|0.66|     96.0|      3.03|                 0.4|          0.73|  510.0|   1.83|         1.25|[19.0,12.19999980...|\n",
      "|    93|          20.7|  12.69|2.26|      2|           3.05|      1.46|0.96|     80.0|      1.53|                0.58|          1.62|  495.0|   2.06|         1.38|[20.7000007629394...|\n",
      "|   170|          25.0|   13.4|2.86|      3|            8.5|      0.96|0.67|    112.0|       4.6|                0.27|          1.11|  630.0|   1.92|         1.98|[25.0,13.39999961...|\n",
      "|    56|          20.5|  13.56|2.46|      1|           6.25|      2.78|0.98|    116.0|      1.73|                 0.2|          2.45| 1120.0|   3.03|         2.96|[20.5,13.56000041...|\n",
      "|   158|          27.0|  12.45|2.64|      3|            7.5|      0.58|0.67|     97.0|      3.03|                0.63|          1.14|  880.0|   1.73|          1.9|[27.0,12.44999980...|\n",
      "|   142|          20.0|  13.36|2.35|      3|            5.6|       0.5| 0.7|     89.0|      2.56|                0.37|          0.64|  780.0|   2.47|          1.4|[20.0,13.35999965...|\n",
      "|    26|          25.0|  13.05|3.22|      1|           3.58|      2.68|1.13|    124.0|      2.05|                0.47|          1.92|  830.0|    3.2|         2.63|[25.0,13.05000019...|\n",
      "|    21|          16.0|  14.06|2.28|      1|           5.65|      3.17|1.09|    126.0|      1.63|                0.24|           2.1|  780.0|   3.71|          3.0|[16.0,14.06000041...|\n",
      "+------+--------------+-------+----+-------+---------------+----------+----+---------+----------+--------------------+--------------+-------+-------+-------------+--------------------+\n",
      "only showing top 20 rows\n",
      "\n"
     ]
    }
   ],
   "source": [
    "#showDF(newWineTable)\n",
    "\n",
    "from pyspark.ml.linalg import Vectors\n",
    "from pyspark.ml.feature import VectorAssembler\n",
    "assembler = VectorAssembler(\n",
    "    inputCols=['alcalinity_ash', 'alcohol', 'ash', \n",
    "               'color_intensity', 'protein', 'flavanoids', 'hue', \n",
    "                'magnesium', 'malic_acid', 'nonflavanoid_phenols', 'proanthocyains', \n",
    "                'proline', 'total_phenols'],\n",
    "    outputCol='features')\n",
    "\n",
    "trainingData = assembler.transform(newWineTable)\n",
    "trainingData.show()\n",
    "\n",
    "assembler = VectorAssembler(\n",
    "    inputCols=[ 'alcalinity_ash', 'alcohol', 'ash', \n",
    "               'color_intensity', 'protein', 'flavanoids', 'hue', \n",
    "                'magnesium', 'malic_acid', 'nonflavanoid_phenols', 'proanthocyains', \n",
    "                'proline', 'total_phenols'],\n",
    "    outputCol='features')\n",
    "\n",
    "trainingData1 = assembler.transform(wineTable)\n",
    "trainingData1.show()"
   ]
  },
  {
   "cell_type": "code",
   "execution_count": 79,
   "metadata": {},
   "outputs": [
    {
     "data": {
      "text/html": [
       "<div>\n",
       "<style scoped>\n",
       "    .dataframe tbody tr th:only-of-type {\n",
       "        vertical-align: middle;\n",
       "    }\n",
       "\n",
       "    .dataframe tbody tr th {\n",
       "        vertical-align: top;\n",
       "    }\n",
       "\n",
       "    .dataframe thead th {\n",
       "        text-align: right;\n",
       "    }\n",
       "</style>\n",
       "<table border=\"1\" class=\"dataframe\">\n",
       "  <thead>\n",
       "    <tr style=\"text-align: right;\">\n",
       "      <th></th>\n",
       "      <th>wineid</th>\n",
       "      <th>alcalinity_ash</th>\n",
       "      <th>alcohol</th>\n",
       "      <th>ash</th>\n",
       "      <th>cluster</th>\n",
       "      <th>color_intensity</th>\n",
       "      <th>flavanoids</th>\n",
       "      <th>hue</th>\n",
       "      <th>magnesium</th>\n",
       "      <th>malic_acid</th>\n",
       "      <th>nonflavanoid_phenols</th>\n",
       "      <th>proanthocyains</th>\n",
       "      <th>proline</th>\n",
       "      <th>protein</th>\n",
       "      <th>total_phenols</th>\n",
       "      <th>features</th>\n",
       "      <th>prediction</th>\n",
       "    </tr>\n",
       "  </thead>\n",
       "  <tbody>\n",
       "    <tr>\n",
       "      <th>0</th>\n",
       "      <td>4</td>\n",
       "      <td>16.799999</td>\n",
       "      <td>14.37</td>\n",
       "      <td>2.50</td>\n",
       "      <td>1</td>\n",
       "      <td>7.8</td>\n",
       "      <td>3.49</td>\n",
       "      <td>0.86</td>\n",
       "      <td>113.0</td>\n",
       "      <td>1.95</td>\n",
       "      <td>0.24</td>\n",
       "      <td>2.18</td>\n",
       "      <td>1480.0</td>\n",
       "      <td>3.45</td>\n",
       "      <td>3.85</td>\n",
       "      <td>[16.799999237060547, 14.369999885559082, 2.5, ...</td>\n",
       "      <td>1</td>\n",
       "    </tr>\n",
       "    <tr>\n",
       "      <th>1</th>\n",
       "      <td>18</td>\n",
       "      <td>20.000000</td>\n",
       "      <td>13.83</td>\n",
       "      <td>2.62</td>\n",
       "      <td>1</td>\n",
       "      <td>6.6</td>\n",
       "      <td>3.40</td>\n",
       "      <td>1.13</td>\n",
       "      <td>115.0</td>\n",
       "      <td>1.57</td>\n",
       "      <td>0.40</td>\n",
       "      <td>1.72</td>\n",
       "      <td>1130.0</td>\n",
       "      <td>2.57</td>\n",
       "      <td>2.95</td>\n",
       "      <td>[20.0, 13.829999923706055, 2.619999885559082, ...</td>\n",
       "      <td>1</td>\n",
       "    </tr>\n",
       "    <tr>\n",
       "      <th>2</th>\n",
       "      <td>177</td>\n",
       "      <td>20.000000</td>\n",
       "      <td>13.17</td>\n",
       "      <td>2.37</td>\n",
       "      <td>3</td>\n",
       "      <td>9.3</td>\n",
       "      <td>0.68</td>\n",
       "      <td>0.60</td>\n",
       "      <td>120.0</td>\n",
       "      <td>2.59</td>\n",
       "      <td>0.53</td>\n",
       "      <td>1.46</td>\n",
       "      <td>840.0</td>\n",
       "      <td>1.62</td>\n",
       "      <td>1.65</td>\n",
       "      <td>[20.0, 13.170000076293945, 2.369999885559082, ...</td>\n",
       "      <td>2</td>\n",
       "    </tr>\n",
       "    <tr>\n",
       "      <th>3</th>\n",
       "      <td>51</td>\n",
       "      <td>12.400000</td>\n",
       "      <td>13.05</td>\n",
       "      <td>2.04</td>\n",
       "      <td>1</td>\n",
       "      <td>7.2</td>\n",
       "      <td>3.27</td>\n",
       "      <td>1.12</td>\n",
       "      <td>92.0</td>\n",
       "      <td>1.73</td>\n",
       "      <td>0.17</td>\n",
       "      <td>2.91</td>\n",
       "      <td>1150.0</td>\n",
       "      <td>2.91</td>\n",
       "      <td>2.72</td>\n",
       "      <td>[12.399999618530273, 13.050000190734863, 2.039...</td>\n",
       "      <td>1</td>\n",
       "    </tr>\n",
       "    <tr>\n",
       "      <th>4</th>\n",
       "      <td>47</td>\n",
       "      <td>16.000000</td>\n",
       "      <td>14.38</td>\n",
       "      <td>2.28</td>\n",
       "      <td>1</td>\n",
       "      <td>4.9</td>\n",
       "      <td>3.17</td>\n",
       "      <td>1.04</td>\n",
       "      <td>102.0</td>\n",
       "      <td>3.59</td>\n",
       "      <td>0.27</td>\n",
       "      <td>2.19</td>\n",
       "      <td>1065.0</td>\n",
       "      <td>3.44</td>\n",
       "      <td>3.25</td>\n",
       "      <td>[16.0, 14.380000114440918, 2.2799999713897705,...</td>\n",
       "      <td>2</td>\n",
       "    </tr>\n",
       "  </tbody>\n",
       "</table>\n",
       "</div>"
      ],
      "text/plain": [
       "   wineid  alcalinity_ash  alcohol   ash  cluster  color_intensity  \\\n",
       "0       4       16.799999    14.37  2.50        1              7.8   \n",
       "1      18       20.000000    13.83  2.62        1              6.6   \n",
       "2     177       20.000000    13.17  2.37        3              9.3   \n",
       "3      51       12.400000    13.05  2.04        1              7.2   \n",
       "4      47       16.000000    14.38  2.28        1              4.9   \n",
       "\n",
       "   flavanoids   hue  magnesium  malic_acid  nonflavanoid_phenols  \\\n",
       "0        3.49  0.86      113.0        1.95                  0.24   \n",
       "1        3.40  1.13      115.0        1.57                  0.40   \n",
       "2        0.68  0.60      120.0        2.59                  0.53   \n",
       "3        3.27  1.12       92.0        1.73                  0.17   \n",
       "4        3.17  1.04      102.0        3.59                  0.27   \n",
       "\n",
       "   proanthocyains  proline  protein  total_phenols  \\\n",
       "0            2.18   1480.0     3.45           3.85   \n",
       "1            1.72   1130.0     2.57           2.95   \n",
       "2            1.46    840.0     1.62           1.65   \n",
       "3            2.91   1150.0     2.91           2.72   \n",
       "4            2.19   1065.0     3.44           3.25   \n",
       "\n",
       "                                            features  prediction  \n",
       "0  [16.799999237060547, 14.369999885559082, 2.5, ...           1  \n",
       "1  [20.0, 13.829999923706055, 2.619999885559082, ...           1  \n",
       "2  [20.0, 13.170000076293945, 2.369999885559082, ...           2  \n",
       "3  [12.399999618530273, 13.050000190734863, 2.039...           1  \n",
       "4  [16.0, 14.380000114440918, 2.2799999713897705,...           2  "
      ]
     },
     "metadata": {},
     "output_type": "display_data"
    }
   ],
   "source": [
    "from pyspark.ml.clustering import KMeans\n",
    "\n",
    "\n",
    "kmeans = KMeans().setK(3).setSeed(1)\n",
    "model = kmeans.fit(trainingData1)\n",
    "centers = model.clusterCenters()\n",
    "len(centers)\n",
    "\n",
    "# Make predictions\n",
    "predictions = model.transform(trainingData1)\n",
    "\n",
    "showDF(predictions)"
   ]
  },
  {
   "cell_type": "code",
   "execution_count": 80,
   "metadata": {},
   "outputs": [
    {
     "data": {
      "text/plain": [
       "<matplotlib.axes._subplots.AxesSubplot at 0x11cc47050>"
      ]
     },
     "execution_count": 80,
     "metadata": {},
     "output_type": "execute_result"
    },
    {
     "data": {
      "image/png": "[encoded data removed]",
      "text/plain": [
       "<Figure size 864x576 with 2 Axes>"
      ]
     },
     "metadata": {
      "needs_background": "light"
     },
     "output_type": "display_data"
    }
   ],
   "source": [
    "wine_df = predictions.toPandas()\n",
    "\n",
    "wine_df.plot.scatter(x = 'alcohol', y = 'protein', c= 'prediction', figsize=(12,8), colormap='jet')"
   ]
  },
  {
   "cell_type": "code",
   "execution_count": 81,
   "metadata": {},
   "outputs": [
    {
     "name": "stdout",
     "output_type": "stream",
     "text": [
      "+----------+-----+\n",
      "|prediction|count|\n",
      "+----------+-----+\n",
      "|         1|   27|\n",
      "|         2|   49|\n",
      "|         0|  102|\n",
      "+----------+-----+\n",
      "\n",
      "+-------+-----+\n",
      "|cluster|count|\n",
      "+-------+-----+\n",
      "|      1|   59|\n",
      "|      3|   48|\n",
      "|      2|   71|\n",
      "+-------+-----+\n",
      "\n"
     ]
    }
   ],
   "source": [
    "predictions.groupBy('prediction').count().show()\n",
    "wineTable.groupBy('cluster').count().show()"
   ]
  },
  {
   "cell_type": "markdown",
   "metadata": {},
   "source": [
    "#### What do these column represent: \n",
    "\n",
    "* **Alcohol**: alcohol content, reported in units of ABV (alcohol by volume).\n",
    "\n",
    "* **Malic acid**: one of the principal organic acids found in wine. Although found in nearly every fruit and berry, it’s flavor is most prominent in green apples; likewise, it projects this sour flavor into wine. For more information, feel free to read about acids in wine.\n",
    "\n",
    "* **Ash**: yep, wine has ash in it. Ash is simply the inorganic matter left after evaporation and incineration.\n",
    "\n",
    "* **Alcalinity of ash**: the alkalinity of ash determines how basic (as opposed to acidic) the ash in a wine is.\n",
    "\n",
    "* **Magnesium**: magnesium is a metal that affects the flavor of wine.\n",
    "\n",
    "* **Total phenols**: Phenols are chemicals that affect the taste, color, and mouthfeel (i.e., texture) of wine. For some (very) in-depth information about phenols, we refer you to phenolic content in wine.\n",
    "\n",
    "* **Flavoids** : flavonoids are a type of phenol.\n",
    "\n",
    "* **Nonflavoid phenols**: nonflavonoids are another type of phenol.\n",
    "\n",
    "* **Proanthocyanins**: proanthocyanidins are yet another type of phenol.\n",
    "\n",
    "* **Color intensity**: the color intensity of a wine: i.e., how dark it is.\n",
    "\n",
    "* **Hue**: the hue of a wine, which is typically determined by the color of the cultivar used (although this is not always the case).\n",
    "\n",
    "* **OD280/OD315 of diluted wines**: protein content measurements. --Renamed to protein \n",
    "\n",
    "* **Proline**: an amino acid present in wines.\n",
    "\n",
    "Reference: https://cs.brown.edu/courses/cs100/homework/homework-3-part-ii/"
   ]
  },
  {
   "cell_type": "markdown",
   "metadata": {},
   "source": [
    "### Let's remove any column that we think is an external factor that would effect the wine but the plant\n",
    "* Alcohol\n",
    "* Ash\n",
    "* Alcalinity of Ash\n",
    "* Color intensity -- but we will keep hue as the hue is determined by the type of cultivar used"
   ]
  },
  {
   "cell_type": "code",
   "execution_count": 82,
   "metadata": {},
   "outputs": [],
   "source": [
    "assembler = VectorAssembler(\n",
    "    inputCols=[ 'protein', 'flavanoids', 'hue', \n",
    "                'magnesium', 'malic_acid', 'nonflavanoid_phenols', 'proanthocyains', \n",
    "                'proline', 'total_phenols'],\n",
    "    outputCol='features')\n",
    "\n",
    "trainingData0 = assembler.transform(wineTable)"
   ]
  },
  {
   "cell_type": "code",
   "execution_count": 83,
   "metadata": {},
   "outputs": [
    {
     "data": {
      "text/html": [
       "<div>\n",
       "<style scoped>\n",
       "    .dataframe tbody tr th:only-of-type {\n",
       "        vertical-align: middle;\n",
       "    }\n",
       "\n",
       "    .dataframe tbody tr th {\n",
       "        vertical-align: top;\n",
       "    }\n",
       "\n",
       "    .dataframe thead th {\n",
       "        text-align: right;\n",
       "    }\n",
       "</style>\n",
       "<table border=\"1\" class=\"dataframe\">\n",
       "  <thead>\n",
       "    <tr style=\"text-align: right;\">\n",
       "      <th></th>\n",
       "      <th>wineid</th>\n",
       "      <th>alcalinity_ash</th>\n",
       "      <th>alcohol</th>\n",
       "      <th>ash</th>\n",
       "      <th>cluster</th>\n",
       "      <th>color_intensity</th>\n",
       "      <th>flavanoids</th>\n",
       "      <th>hue</th>\n",
       "      <th>magnesium</th>\n",
       "      <th>malic_acid</th>\n",
       "      <th>nonflavanoid_phenols</th>\n",
       "      <th>proanthocyains</th>\n",
       "      <th>proline</th>\n",
       "      <th>protein</th>\n",
       "      <th>total_phenols</th>\n",
       "      <th>features</th>\n",
       "      <th>prediction</th>\n",
       "    </tr>\n",
       "  </thead>\n",
       "  <tbody>\n",
       "    <tr>\n",
       "      <th>0</th>\n",
       "      <td>156</td>\n",
       "      <td>22.0</td>\n",
       "      <td>13.17</td>\n",
       "      <td>2.32</td>\n",
       "      <td>3</td>\n",
       "      <td>7.900000</td>\n",
       "      <td>0.63</td>\n",
       "      <td>0.60</td>\n",
       "      <td>93.0</td>\n",
       "      <td>5.19</td>\n",
       "      <td>0.61</td>\n",
       "      <td>1.55</td>\n",
       "      <td>725.0</td>\n",
       "      <td>1.48</td>\n",
       "      <td>1.74</td>\n",
       "      <td>[1.4800000190734863, 0.6299999952316284, 0.600...</td>\n",
       "      <td>0</td>\n",
       "    </tr>\n",
       "    <tr>\n",
       "      <th>1</th>\n",
       "      <td>81</td>\n",
       "      <td>19.0</td>\n",
       "      <td>12.00</td>\n",
       "      <td>2.00</td>\n",
       "      <td>2</td>\n",
       "      <td>2.500000</td>\n",
       "      <td>2.26</td>\n",
       "      <td>1.38</td>\n",
       "      <td>86.0</td>\n",
       "      <td>0.92</td>\n",
       "      <td>0.30</td>\n",
       "      <td>1.43</td>\n",
       "      <td>278.0</td>\n",
       "      <td>3.12</td>\n",
       "      <td>2.42</td>\n",
       "      <td>[3.119999885559082, 2.259999990463257, 1.37999...</td>\n",
       "      <td>2</td>\n",
       "    </tr>\n",
       "    <tr>\n",
       "      <th>2</th>\n",
       "      <td>29</td>\n",
       "      <td>19.4</td>\n",
       "      <td>13.87</td>\n",
       "      <td>2.80</td>\n",
       "      <td>1</td>\n",
       "      <td>4.500000</td>\n",
       "      <td>2.97</td>\n",
       "      <td>1.25</td>\n",
       "      <td>107.0</td>\n",
       "      <td>1.90</td>\n",
       "      <td>0.37</td>\n",
       "      <td>1.76</td>\n",
       "      <td>915.0</td>\n",
       "      <td>3.40</td>\n",
       "      <td>2.95</td>\n",
       "      <td>[3.4000000953674316, 2.9700000286102295, 1.25,...</td>\n",
       "      <td>0</td>\n",
       "    </tr>\n",
       "    <tr>\n",
       "      <th>3</th>\n",
       "      <td>172</td>\n",
       "      <td>19.5</td>\n",
       "      <td>12.77</td>\n",
       "      <td>2.28</td>\n",
       "      <td>3</td>\n",
       "      <td>9.899999</td>\n",
       "      <td>0.51</td>\n",
       "      <td>0.57</td>\n",
       "      <td>86.0</td>\n",
       "      <td>2.39</td>\n",
       "      <td>0.48</td>\n",
       "      <td>0.64</td>\n",
       "      <td>470.0</td>\n",
       "      <td>1.63</td>\n",
       "      <td>1.39</td>\n",
       "      <td>[1.6299999952316284, 0.5099999904632568, 0.569...</td>\n",
       "      <td>2</td>\n",
       "    </tr>\n",
       "    <tr>\n",
       "      <th>4</th>\n",
       "      <td>64</td>\n",
       "      <td>19.0</td>\n",
       "      <td>12.37</td>\n",
       "      <td>2.16</td>\n",
       "      <td>2</td>\n",
       "      <td>4.450000</td>\n",
       "      <td>3.10</td>\n",
       "      <td>1.22</td>\n",
       "      <td>87.0</td>\n",
       "      <td>1.13</td>\n",
       "      <td>0.19</td>\n",
       "      <td>1.87</td>\n",
       "      <td>420.0</td>\n",
       "      <td>2.87</td>\n",
       "      <td>3.50</td>\n",
       "      <td>[2.869999885559082, 3.0999999046325684, 1.2200...</td>\n",
       "      <td>2</td>\n",
       "    </tr>\n",
       "  </tbody>\n",
       "</table>\n",
       "</div>"
      ],
      "text/plain": [
       "   wineid  alcalinity_ash  alcohol   ash  cluster  color_intensity  \\\n",
       "0     156            22.0    13.17  2.32        3         7.900000   \n",
       "1      81            19.0    12.00  2.00        2         2.500000   \n",
       "2      29            19.4    13.87  2.80        1         4.500000   \n",
       "3     172            19.5    12.77  2.28        3         9.899999   \n",
       "4      64            19.0    12.37  2.16        2         4.450000   \n",
       "\n",
       "   flavanoids   hue  magnesium  malic_acid  nonflavanoid_phenols  \\\n",
       "0        0.63  0.60       93.0        5.19                  0.61   \n",
       "1        2.26  1.38       86.0        0.92                  0.30   \n",
       "2        2.97  1.25      107.0        1.90                  0.37   \n",
       "3        0.51  0.57       86.0        2.39                  0.48   \n",
       "4        3.10  1.22       87.0        1.13                  0.19   \n",
       "\n",
       "   proanthocyains  proline  protein  total_phenols  \\\n",
       "0            1.55    725.0     1.48           1.74   \n",
       "1            1.43    278.0     3.12           2.42   \n",
       "2            1.76    915.0     3.40           2.95   \n",
       "3            0.64    470.0     1.63           1.39   \n",
       "4            1.87    420.0     2.87           3.50   \n",
       "\n",
       "                                            features  prediction  \n",
       "0  [1.4800000190734863, 0.6299999952316284, 0.600...           0  \n",
       "1  [3.119999885559082, 2.259999990463257, 1.37999...           2  \n",
       "2  [3.4000000953674316, 2.9700000286102295, 1.25,...           0  \n",
       "3  [1.6299999952316284, 0.5099999904632568, 0.569...           2  \n",
       "4  [2.869999885559082, 3.0999999046325684, 1.2200...           2  "
      ]
     },
     "metadata": {},
     "output_type": "display_data"
    }
   ],
   "source": [
    "kmeans = KMeans().setK(3).setSeed(1)\n",
    "model = kmeans.fit(trainingData0)\n",
    "centers = model.clusterCenters()\n",
    "len(centers)\n",
    "\n",
    "# Make predictions\n",
    "predictions0 = model.transform(trainingData0)\n",
    "\n",
    "showDF(predictions0)\n"
   ]
  },
  {
   "cell_type": "code",
   "execution_count": 84,
   "metadata": {},
   "outputs": [
    {
     "data": {
      "text/plain": [
       "<matplotlib.axes._subplots.AxesSubplot at 0x11d09b2d0>"
      ]
     },
     "execution_count": 84,
     "metadata": {},
     "output_type": "execute_result"
    },
    {
     "data": {
      "image/png": "[encoded data removed]",
      "text/plain": [
       "<Figure size 864x576 with 2 Axes>"
      ]
     },
     "metadata": {
      "needs_background": "light"
     },
     "output_type": "display_data"
    }
   ],
   "source": [
    "wine_df0 = predictions0.toPandas()\n",
    "\n",
    "wine_df0.plot.scatter(x = 'alcohol', y = 'protein', c= 'prediction', figsize=(12,8), colormap='jet')"
   ]
  },
  {
   "cell_type": "code",
   "execution_count": 60,
   "metadata": {},
   "outputs": [
    {
     "name": "stdout",
     "output_type": "stream",
     "text": [
      "+----------+-----+\n",
      "|prediction|count|\n",
      "+----------+-----+\n",
      "|         1|   47|\n",
      "|         2|   62|\n",
      "|         0|   69|\n",
      "+----------+-----+\n",
      "\n",
      "+-------+-----+\n",
      "|cluster|count|\n",
      "+-------+-----+\n",
      "|      1|   59|\n",
      "|      3|   48|\n",
      "|      2|   71|\n",
      "+-------+-----+\n",
      "\n"
     ]
    }
   ],
   "source": [
    "predictions0.groupBy('prediction').count().show()\n",
    "wineTable.groupBy('cluster').count().show()"
   ]
  },
  {
   "cell_type": "code",
   "execution_count": 86,
   "metadata": {},
   "outputs": [],
   "source": [
    "assembler = VectorAssembler(\n",
    "    inputCols=[ 'protein', 'flavanoids', 'hue', \n",
    "                'magnesium', 'malic_acid'],\n",
    "    outputCol='features')\n",
    "\n",
    "trainingData2 = assembler.transform(wineTable)"
   ]
  },
  {
   "cell_type": "code",
   "execution_count": 87,
   "metadata": {},
   "outputs": [
    {
     "data": {
      "text/html": [
       "<div>\n",
       "<style scoped>\n",
       "    .dataframe tbody tr th:only-of-type {\n",
       "        vertical-align: middle;\n",
       "    }\n",
       "\n",
       "    .dataframe tbody tr th {\n",
       "        vertical-align: top;\n",
       "    }\n",
       "\n",
       "    .dataframe thead th {\n",
       "        text-align: right;\n",
       "    }\n",
       "</style>\n",
       "<table border=\"1\" class=\"dataframe\">\n",
       "  <thead>\n",
       "    <tr style=\"text-align: right;\">\n",
       "      <th></th>\n",
       "      <th>wineid</th>\n",
       "      <th>alcalinity_ash</th>\n",
       "      <th>alcohol</th>\n",
       "      <th>ash</th>\n",
       "      <th>cluster</th>\n",
       "      <th>color_intensity</th>\n",
       "      <th>flavanoids</th>\n",
       "      <th>hue</th>\n",
       "      <th>magnesium</th>\n",
       "      <th>malic_acid</th>\n",
       "      <th>nonflavanoid_phenols</th>\n",
       "      <th>proanthocyains</th>\n",
       "      <th>proline</th>\n",
       "      <th>protein</th>\n",
       "      <th>total_phenols</th>\n",
       "      <th>features</th>\n",
       "      <th>prediction</th>\n",
       "    </tr>\n",
       "  </thead>\n",
       "  <tbody>\n",
       "    <tr>\n",
       "      <th>0</th>\n",
       "      <td>23</td>\n",
       "      <td>16.6</td>\n",
       "      <td>13.71</td>\n",
       "      <td>2.36</td>\n",
       "      <td>1</td>\n",
       "      <td>3.80</td>\n",
       "      <td>2.88</td>\n",
       "      <td>1.11</td>\n",
       "      <td>101.0</td>\n",
       "      <td>1.86</td>\n",
       "      <td>0.27</td>\n",
       "      <td>1.69</td>\n",
       "      <td>1035.0</td>\n",
       "      <td>4.00</td>\n",
       "      <td>2.61</td>\n",
       "      <td>[4.0, 2.880000114440918, 1.1100000143051147, 1...</td>\n",
       "      <td>2</td>\n",
       "    </tr>\n",
       "    <tr>\n",
       "      <th>1</th>\n",
       "      <td>114</td>\n",
       "      <td>21.0</td>\n",
       "      <td>11.41</td>\n",
       "      <td>2.50</td>\n",
       "      <td>2</td>\n",
       "      <td>3.08</td>\n",
       "      <td>2.01</td>\n",
       "      <td>1.10</td>\n",
       "      <td>88.0</td>\n",
       "      <td>0.74</td>\n",
       "      <td>0.42</td>\n",
       "      <td>1.44</td>\n",
       "      <td>434.0</td>\n",
       "      <td>2.31</td>\n",
       "      <td>2.48</td>\n",
       "      <td>[2.309999942779541, 2.009999990463257, 1.10000...</td>\n",
       "      <td>0</td>\n",
       "    </tr>\n",
       "    <tr>\n",
       "      <th>2</th>\n",
       "      <td>53</td>\n",
       "      <td>14.0</td>\n",
       "      <td>13.82</td>\n",
       "      <td>2.42</td>\n",
       "      <td>1</td>\n",
       "      <td>7.05</td>\n",
       "      <td>3.74</td>\n",
       "      <td>1.01</td>\n",
       "      <td>111.0</td>\n",
       "      <td>1.75</td>\n",
       "      <td>0.32</td>\n",
       "      <td>1.87</td>\n",
       "      <td>1190.0</td>\n",
       "      <td>3.26</td>\n",
       "      <td>3.88</td>\n",
       "      <td>[3.259999990463257, 3.740000009536743, 1.00999...</td>\n",
       "      <td>2</td>\n",
       "    </tr>\n",
       "    <tr>\n",
       "      <th>3</th>\n",
       "      <td>110</td>\n",
       "      <td>20.0</td>\n",
       "      <td>11.61</td>\n",
       "      <td>2.70</td>\n",
       "      <td>2</td>\n",
       "      <td>2.65</td>\n",
       "      <td>2.92</td>\n",
       "      <td>0.96</td>\n",
       "      <td>94.0</td>\n",
       "      <td>1.35</td>\n",
       "      <td>0.29</td>\n",
       "      <td>2.49</td>\n",
       "      <td>680.0</td>\n",
       "      <td>3.26</td>\n",
       "      <td>2.74</td>\n",
       "      <td>[3.259999990463257, 2.9200000762939453, 0.9599...</td>\n",
       "      <td>0</td>\n",
       "    </tr>\n",
       "    <tr>\n",
       "      <th>4</th>\n",
       "      <td>91</td>\n",
       "      <td>18.5</td>\n",
       "      <td>12.08</td>\n",
       "      <td>2.32</td>\n",
       "      <td>2</td>\n",
       "      <td>2.40</td>\n",
       "      <td>1.50</td>\n",
       "      <td>1.08</td>\n",
       "      <td>81.0</td>\n",
       "      <td>1.83</td>\n",
       "      <td>0.52</td>\n",
       "      <td>1.64</td>\n",
       "      <td>480.0</td>\n",
       "      <td>2.27</td>\n",
       "      <td>1.60</td>\n",
       "      <td>[2.2699999809265137, 1.5, 1.0800000429153442, ...</td>\n",
       "      <td>0</td>\n",
       "    </tr>\n",
       "  </tbody>\n",
       "</table>\n",
       "</div>"
      ],
      "text/plain": [
       "   wineid  alcalinity_ash  alcohol   ash  cluster  color_intensity  \\\n",
       "0      23            16.6    13.71  2.36        1             3.80   \n",
       "1     114            21.0    11.41  2.50        2             3.08   \n",
       "2      53            14.0    13.82  2.42        1             7.05   \n",
       "3     110            20.0    11.61  2.70        2             2.65   \n",
       "4      91            18.5    12.08  2.32        2             2.40   \n",
       "\n",
       "   flavanoids   hue  magnesium  malic_acid  nonflavanoid_phenols  \\\n",
       "0        2.88  1.11      101.0        1.86                  0.27   \n",
       "1        2.01  1.10       88.0        0.74                  0.42   \n",
       "2        3.74  1.01      111.0        1.75                  0.32   \n",
       "3        2.92  0.96       94.0        1.35                  0.29   \n",
       "4        1.50  1.08       81.0        1.83                  0.52   \n",
       "\n",
       "   proanthocyains  proline  protein  total_phenols  \\\n",
       "0            1.69   1035.0     4.00           2.61   \n",
       "1            1.44    434.0     2.31           2.48   \n",
       "2            1.87   1190.0     3.26           3.88   \n",
       "3            2.49    680.0     3.26           2.74   \n",
       "4            1.64    480.0     2.27           1.60   \n",
       "\n",
       "                                            features  prediction  \n",
       "0  [4.0, 2.880000114440918, 1.1100000143051147, 1...           2  \n",
       "1  [2.309999942779541, 2.009999990463257, 1.10000...           0  \n",
       "2  [3.259999990463257, 3.740000009536743, 1.00999...           2  \n",
       "3  [3.259999990463257, 2.9200000762939453, 0.9599...           0  \n",
       "4  [2.2699999809265137, 1.5, 1.0800000429153442, ...           0  "
      ]
     },
     "metadata": {},
     "output_type": "display_data"
    }
   ],
   "source": [
    "kmeans = KMeans().setK(3).setSeed(1)\n",
    "model = kmeans.fit(trainingData2)\n",
    "centers = model.clusterCenters()\n",
    "len(centers)\n",
    "\n",
    "# Make predictions\n",
    "predictions2 = model.transform(trainingData2)\n",
    "\n",
    "showDF(predictions2)\n"
   ]
  },
  {
   "cell_type": "code",
   "execution_count": 88,
   "metadata": {},
   "outputs": [
    {
     "data": {
      "text/plain": [
       "<matplotlib.axes._subplots.AxesSubplot at 0x11d2e87d0>"
      ]
     },
     "execution_count": 88,
     "metadata": {},
     "output_type": "execute_result"
    },
    {
     "data": {
      "image/png": "[encoded data removed]",
      "text/plain": [
       "<Figure size 864x576 with 2 Axes>"
      ]
     },
     "metadata": {
      "needs_background": "light"
     },
     "output_type": "display_data"
    }
   ],
   "source": [
    "wine_df2 = predictions2.toPandas()\n",
    "\n",
    "wine_df2.plot.scatter(x = 'alcohol', y = 'protein', c= 'prediction', figsize=(12,8), colormap='jet')"
   ]
  },
  {
   "cell_type": "code",
   "execution_count": 89,
   "metadata": {},
   "outputs": [
    {
     "name": "stdout",
     "output_type": "stream",
     "text": [
      "+----------+-----+\n",
      "|prediction|count|\n",
      "+----------+-----+\n",
      "|         1|   13|\n",
      "|         2|   69|\n",
      "|         0|   96|\n",
      "+----------+-----+\n",
      "\n",
      "+-------+-----+\n",
      "|cluster|count|\n",
      "+-------+-----+\n",
      "|      1|   59|\n",
      "|      3|   48|\n",
      "|      2|   71|\n",
      "+-------+-----+\n",
      "\n"
     ]
    }
   ],
   "source": [
    "predictions2.groupBy('prediction').count().show()\n",
    "wineTable.groupBy('cluster').count().show()"
   ]
  },
  {
   "cell_type": "code",
   "execution_count": 90,
   "metadata": {},
   "outputs": [],
   "source": [
    "assembler = VectorAssembler(\n",
    "    inputCols=['alcohol', 'protein'],\n",
    "    outputCol='features')\n",
    "\n",
    "trainingData3 = assembler.transform(wineTable)"
   ]
  },
  {
   "cell_type": "code",
   "execution_count": 91,
   "metadata": {},
   "outputs": [
    {
     "data": {
      "text/html": [
       "<div>\n",
       "<style scoped>\n",
       "    .dataframe tbody tr th:only-of-type {\n",
       "        vertical-align: middle;\n",
       "    }\n",
       "\n",
       "    .dataframe tbody tr th {\n",
       "        vertical-align: top;\n",
       "    }\n",
       "\n",
       "    .dataframe thead th {\n",
       "        text-align: right;\n",
       "    }\n",
       "</style>\n",
       "<table border=\"1\" class=\"dataframe\">\n",
       "  <thead>\n",
       "    <tr style=\"text-align: right;\">\n",
       "      <th></th>\n",
       "      <th>wineid</th>\n",
       "      <th>alcalinity_ash</th>\n",
       "      <th>alcohol</th>\n",
       "      <th>ash</th>\n",
       "      <th>cluster</th>\n",
       "      <th>color_intensity</th>\n",
       "      <th>flavanoids</th>\n",
       "      <th>hue</th>\n",
       "      <th>magnesium</th>\n",
       "      <th>malic_acid</th>\n",
       "      <th>nonflavanoid_phenols</th>\n",
       "      <th>proanthocyains</th>\n",
       "      <th>proline</th>\n",
       "      <th>protein</th>\n",
       "      <th>total_phenols</th>\n",
       "      <th>features</th>\n",
       "      <th>prediction</th>\n",
       "    </tr>\n",
       "  </thead>\n",
       "  <tbody>\n",
       "    <tr>\n",
       "      <th>0</th>\n",
       "      <td>23</td>\n",
       "      <td>16.6</td>\n",
       "      <td>13.71</td>\n",
       "      <td>2.36</td>\n",
       "      <td>1</td>\n",
       "      <td>3.80</td>\n",
       "      <td>2.88</td>\n",
       "      <td>1.11</td>\n",
       "      <td>101.0</td>\n",
       "      <td>1.86</td>\n",
       "      <td>0.27</td>\n",
       "      <td>1.69</td>\n",
       "      <td>1035.0</td>\n",
       "      <td>4.00</td>\n",
       "      <td>2.61</td>\n",
       "      <td>[13.710000038146973, 4.0]</td>\n",
       "      <td>1</td>\n",
       "    </tr>\n",
       "    <tr>\n",
       "      <th>1</th>\n",
       "      <td>114</td>\n",
       "      <td>21.0</td>\n",
       "      <td>11.41</td>\n",
       "      <td>2.50</td>\n",
       "      <td>2</td>\n",
       "      <td>3.08</td>\n",
       "      <td>2.01</td>\n",
       "      <td>1.10</td>\n",
       "      <td>88.0</td>\n",
       "      <td>0.74</td>\n",
       "      <td>0.42</td>\n",
       "      <td>1.44</td>\n",
       "      <td>434.0</td>\n",
       "      <td>2.31</td>\n",
       "      <td>2.48</td>\n",
       "      <td>[11.40999984741211, 2.309999942779541]</td>\n",
       "      <td>0</td>\n",
       "    </tr>\n",
       "    <tr>\n",
       "      <th>2</th>\n",
       "      <td>53</td>\n",
       "      <td>14.0</td>\n",
       "      <td>13.82</td>\n",
       "      <td>2.42</td>\n",
       "      <td>1</td>\n",
       "      <td>7.05</td>\n",
       "      <td>3.74</td>\n",
       "      <td>1.01</td>\n",
       "      <td>111.0</td>\n",
       "      <td>1.75</td>\n",
       "      <td>0.32</td>\n",
       "      <td>1.87</td>\n",
       "      <td>1190.0</td>\n",
       "      <td>3.26</td>\n",
       "      <td>3.88</td>\n",
       "      <td>[13.819999694824219, 3.259999990463257]</td>\n",
       "      <td>1</td>\n",
       "    </tr>\n",
       "    <tr>\n",
       "      <th>3</th>\n",
       "      <td>110</td>\n",
       "      <td>20.0</td>\n",
       "      <td>11.61</td>\n",
       "      <td>2.70</td>\n",
       "      <td>2</td>\n",
       "      <td>2.65</td>\n",
       "      <td>2.92</td>\n",
       "      <td>0.96</td>\n",
       "      <td>94.0</td>\n",
       "      <td>1.35</td>\n",
       "      <td>0.29</td>\n",
       "      <td>2.49</td>\n",
       "      <td>680.0</td>\n",
       "      <td>3.26</td>\n",
       "      <td>2.74</td>\n",
       "      <td>[11.609999656677246, 3.259999990463257]</td>\n",
       "      <td>0</td>\n",
       "    </tr>\n",
       "    <tr>\n",
       "      <th>4</th>\n",
       "      <td>91</td>\n",
       "      <td>18.5</td>\n",
       "      <td>12.08</td>\n",
       "      <td>2.32</td>\n",
       "      <td>2</td>\n",
       "      <td>2.40</td>\n",
       "      <td>1.50</td>\n",
       "      <td>1.08</td>\n",
       "      <td>81.0</td>\n",
       "      <td>1.83</td>\n",
       "      <td>0.52</td>\n",
       "      <td>1.64</td>\n",
       "      <td>480.0</td>\n",
       "      <td>2.27</td>\n",
       "      <td>1.60</td>\n",
       "      <td>[12.079999923706055, 2.2699999809265137]</td>\n",
       "      <td>0</td>\n",
       "    </tr>\n",
       "  </tbody>\n",
       "</table>\n",
       "</div>"
      ],
      "text/plain": [
       "   wineid  alcalinity_ash  alcohol   ash  cluster  color_intensity  \\\n",
       "0      23            16.6    13.71  2.36        1             3.80   \n",
       "1     114            21.0    11.41  2.50        2             3.08   \n",
       "2      53            14.0    13.82  2.42        1             7.05   \n",
       "3     110            20.0    11.61  2.70        2             2.65   \n",
       "4      91            18.5    12.08  2.32        2             2.40   \n",
       "\n",
       "   flavanoids   hue  magnesium  malic_acid  nonflavanoid_phenols  \\\n",
       "0        2.88  1.11      101.0        1.86                  0.27   \n",
       "1        2.01  1.10       88.0        0.74                  0.42   \n",
       "2        3.74  1.01      111.0        1.75                  0.32   \n",
       "3        2.92  0.96       94.0        1.35                  0.29   \n",
       "4        1.50  1.08       81.0        1.83                  0.52   \n",
       "\n",
       "   proanthocyains  proline  protein  total_phenols  \\\n",
       "0            1.69   1035.0     4.00           2.61   \n",
       "1            1.44    434.0     2.31           2.48   \n",
       "2            1.87   1190.0     3.26           3.88   \n",
       "3            2.49    680.0     3.26           2.74   \n",
       "4            1.64    480.0     2.27           1.60   \n",
       "\n",
       "                                   features  prediction  \n",
       "0                 [13.710000038146973, 4.0]           1  \n",
       "1    [11.40999984741211, 2.309999942779541]           0  \n",
       "2   [13.819999694824219, 3.259999990463257]           1  \n",
       "3   [11.609999656677246, 3.259999990463257]           0  \n",
       "4  [12.079999923706055, 2.2699999809265137]           0  "
      ]
     },
     "metadata": {},
     "output_type": "display_data"
    }
   ],
   "source": [
    "kmeans = KMeans().setK(3).setSeed(1)\n",
    "model = kmeans.fit(trainingData3)\n",
    "centers = model.clusterCenters()\n",
    "len(centers)\n",
    "\n",
    "# Make predictions\n",
    "predictions3 = model.transform(trainingData3)\n",
    "\n",
    "showDF(predictions3)\n"
   ]
  },
  {
   "cell_type": "code",
   "execution_count": 92,
   "metadata": {},
   "outputs": [
    {
     "data": {
      "text/plain": [
       "<matplotlib.axes._subplots.AxesSubplot at 0x11d27ea50>"
      ]
     },
     "execution_count": 92,
     "metadata": {},
     "output_type": "execute_result"
    },
    {
     "data": {
      "image/png": "[encoded data removed]",
      "text/plain": [
       "<Figure size 864x576 with 2 Axes>"
      ]
     },
     "metadata": {
      "needs_background": "light"
     },
     "output_type": "display_data"
    }
   ],
   "source": [
    "wine_df3 = predictions3.toPandas()\n",
    "\n",
    "wine_df3.plot.scatter(x = 'alcohol', y = 'protein', c= 'prediction', figsize=(12,8), colormap='jet')"
   ]
  },
  {
   "cell_type": "code",
   "execution_count": 93,
   "metadata": {},
   "outputs": [
    {
     "name": "stdout",
     "output_type": "stream",
     "text": [
      "+----------+-----+\n",
      "|prediction|count|\n",
      "+----------+-----+\n",
      "|         1|   65|\n",
      "|         2|   58|\n",
      "|         0|   55|\n",
      "+----------+-----+\n",
      "\n",
      "+-------+-----+\n",
      "|cluster|count|\n",
      "+-------+-----+\n",
      "|      1|   59|\n",
      "|      3|   48|\n",
      "|      2|   71|\n",
      "+-------+-----+\n",
      "\n"
     ]
    }
   ],
   "source": [
    "predictions3.groupBy('prediction').count().show()\n",
    "wineTable.groupBy('cluster').count().show()"
   ]
  },
  {
   "cell_type": "code",
   "execution_count": 14,
   "metadata": {},
   "outputs": [
    {
     "data": {
      "text/plain": [
       "<cassandra.cluster.ResultSet at 0x118f6cdd0>"
      ]
     },
     "execution_count": 14,
     "metadata": {},
     "output_type": "execute_result"
    }
   ],
   "source": [
    "session.execute(\"\"\"drop table wine\"\"\")"
   ]
  },
  {
   "cell_type": "markdown",
   "metadata": {},
   "source": [
    "References: \n",
    "* https://sweetcode.io/k-means-clustering-python/ \n",
    "\n",
    "* https://cs.brown.edu/courses/cs100/homework/homework-3-part-ii/"
   ]
  },
  {
   "cell_type": "code",
   "execution_count": null,
   "metadata": {},
   "outputs": [],
   "source": []
  }
 ],
 "metadata": {
  "kernelspec": {
   "display_name": "Python 2",
   "language": "python",
   "name": "python2"
  },
  "language_info": {
   "codemirror_mode": {
    "name": "ipython",
    "version": 2
   },
   "file_extension": ".py",
   "mimetype": "text/x-python",
   "name": "python",
   "nbconvert_exporter": "python",
   "pygments_lexer": "ipython2",
   "version": "2.7.10"
  }
 },
 "nbformat": 4,
 "nbformat_minor": 2
}
